{
 "cells": [
  {
   "cell_type": "code",
   "execution_count": null,
   "metadata": {
    "colab": {
     "base_uri": "https://localhost:8080/"
    },
    "executionInfo": {
     "elapsed": 6798,
     "status": "ok",
     "timestamp": 1657097603857,
     "user": {
      "displayName": "jannatul Shapna",
      "userId": "08172177938847049999"
     },
     "user_tz": -360
    },
    "id": "4jmBpi7ahp0q",
    "outputId": "e9453b52-db37-4dbe-d628-04be921e712f"
   },
   "outputs": [],
   "source": [
    "!pip install pennylane"
   ]
  },
  {
   "cell_type": "code",
   "execution_count": null,
   "metadata": {
    "id": "RyvW7V5eh8ix"
   },
   "outputs": [],
   "source": [
    "import pandas as pd\n",
    "import numpy as np\n",
    "from pennylane import numpy as np\n",
    "from sklearn.preprocessing import normalize\n",
    "from sklearn.preprocessing import StandardScaler\n",
    "\n",
    "import pennylane as qml\n",
    "from pennylane.templates.embeddings import AngleEmbedding, AmplitudeEmbedding\n",
    "from pennylane.optimize import AdamOptimizer\n",
    "from sklearn.decomposition import PCA\n",
    "from sklearn.preprocessing import StandardScaler\n",
    "from sklearn import metrics\n",
    "from sklearn.model_selection import train_test_split\n",
    "from sklearn.preprocessing import MinMaxScaler\n",
    "\n",
    "\n",
    "import time\n",
    "start = time.time()"
   ]
  },
  {
   "cell_type": "code",
   "execution_count": null,
   "metadata": {
    "id": "YqW_3897h8lI"
   },
   "outputs": [],
   "source": [
    "df = pd.read_csv(\"C:\\\\Users\\ACER\\\\anaconda3\\\\envs\\\\py310\\\\ipynb\\\\data\\\\ClaMP_Integrated-5184.csv\", sep=',')"
   ]
  },
  {
   "cell_type": "code",
   "execution_count": null,
   "metadata": {
    "id": "0vuKulu2h8nl"
   },
   "outputs": [],
   "source": [
    "df.drop(['packer_type'],axis=1,inplace=True)"
   ]
  },
  {
   "cell_type": "code",
   "execution_count": null,
   "metadata": {
    "id": "HDhdC2yDh8pg"
   },
   "outputs": [],
   "source": [
    "from sklearn.utils import shuffle\n",
    "df = shuffle(df)"
   ]
  },
  {
   "cell_type": "code",
   "execution_count": null,
   "metadata": {
    "colab": {
     "base_uri": "https://localhost:8080/"
    },
    "executionInfo": {
     "elapsed": 45,
     "status": "ok",
     "timestamp": 1657097603862,
     "user": {
      "displayName": "jannatul Shapna",
      "userId": "08172177938847049999"
     },
     "user_tz": -360
    },
    "id": "QPiAYlbrh8sT",
    "outputId": "2c0db79d-9963-489a-bd87-4f8ed4c983e6"
   },
   "outputs": [],
   "source": [
    "# Separate class\n",
    "class_0 = df[df['class'] == 0]\n",
    "class_1 = df[df['class'] == 1]# print the shape of the class\n",
    "print('class 0:', class_0.shape)\n",
    "print('class 1:', class_1.shape)"
   ]
  },
  {
   "cell_type": "code",
   "execution_count": null,
   "metadata": {
    "id": "IkRN70mJiEAS"
   },
   "outputs": [],
   "source": [
    "df = df.reset_index(level=None, drop=False, inplace=False, col_level=0, col_fill='')"
   ]
  },
  {
   "cell_type": "code",
   "execution_count": null,
   "metadata": {
    "id": "eOUcX66oiECn"
   },
   "outputs": [],
   "source": [
    "df.drop(['index'],axis=1,inplace=True)"
   ]
  },
  {
   "cell_type": "code",
   "execution_count": null,
   "metadata": {
    "colab": {
     "base_uri": "https://localhost:8080/",
     "height": 488
    },
    "executionInfo": {
     "elapsed": 44,
     "status": "ok",
     "timestamp": 1657097603865,
     "user": {
      "displayName": "jannatul Shapna",
      "userId": "08172177938847049999"
     },
     "user_tz": -360
    },
    "id": "bo5u9bBLiEEy",
    "outputId": "0dc6b332-909a-4b65-f95b-3ba35c3884bf"
   },
   "outputs": [],
   "source": [
    "df"
   ]
  },
  {
   "cell_type": "code",
   "execution_count": null,
   "metadata": {
    "id": "2JY8eFbWiEH4"
   },
   "outputs": [],
   "source": [
    "df_5percent=df[0:5210]"
   ]
  },
  {
   "cell_type": "code",
   "execution_count": null,
   "metadata": {
    "colab": {
     "base_uri": "https://localhost:8080/",
     "height": 488
    },
    "executionInfo": {
     "elapsed": 832,
     "status": "ok",
     "timestamp": 1657097604655,
     "user": {
      "displayName": "jannatul Shapna",
      "userId": "08172177938847049999"
     },
     "user_tz": -360
    },
    "id": "Cu76zBSwiLh-",
    "outputId": "931af668-a520-4ca8-ba5b-63be0a12f940"
   },
   "outputs": [],
   "source": [
    "df_5percent"
   ]
  },
  {
   "cell_type": "code",
   "execution_count": null,
   "metadata": {
    "colab": {
     "base_uri": "https://localhost:8080/"
    },
    "executionInfo": {
     "elapsed": 34,
     "status": "ok",
     "timestamp": 1657097604656,
     "user": {
      "displayName": "jannatul Shapna",
      "userId": "08172177938847049999"
     },
     "user_tz": -360
    },
    "id": "LvXjyCdKiLkr",
    "outputId": "9c19e87d-3bb6-4fe4-e661-44847135f051"
   },
   "outputs": [],
   "source": [
    "# Separate class\n",
    "class_0 = df_5percent[df_5percent['class'] == 0]\n",
    "class_1 = df_5percent[df_5percent['class'] == 1]# print the shape of the class\n",
    "print('class 0:', class_0.shape)\n",
    "print('class 1:', class_1.shape)"
   ]
  },
  {
   "cell_type": "code",
   "execution_count": null,
   "metadata": {
    "id": "7WUGJdm9iLm0"
   },
   "outputs": [],
   "source": [
    "# Read out CSV and sets/samples creation\n",
    "\n",
    "df_5percent = df_5percent.astype(float)\n",
    "train,test = train_test_split(df_5percent, test_size=0.30, random_state=2)\n",
    "train_set = train\n",
    "test_set = test\n",
    "train_set = train_set.sample(160)\n",
    "test_set = test_set.sample(40)\n",
    "np.random.seed(42)"
   ]
  },
  {
   "cell_type": "code",
   "execution_count": null,
   "metadata": {
    "colab": {
     "base_uri": "https://localhost:8080/"
    },
    "executionInfo": {
     "elapsed": 35,
     "status": "ok",
     "timestamp": 1657097604660,
     "user": {
      "displayName": "jannatul Shapna",
      "userId": "08172177938847049999"
     },
     "user_tz": -360
    },
    "id": "T5ubTIX3iLpM",
    "outputId": "78a4b2ca-8959-410c-c22c-5412a8dcdef0"
   },
   "outputs": [],
   "source": [
    "df_5percent.info"
   ]
  },
  {
   "cell_type": "code",
   "execution_count": null,
   "metadata": {
    "colab": {
     "base_uri": "https://localhost:8080/",
     "height": 394
    },
    "executionInfo": {
     "elapsed": 33,
     "status": "ok",
     "timestamp": 1657097604661,
     "user": {
      "displayName": "jannatul Shapna",
      "userId": "08172177938847049999"
     },
     "user_tz": -360
    },
    "id": "BTb6ONePiLsI",
    "outputId": "5e41b486-de02-4119-c0a2-eefb7e798999"
   },
   "outputs": [],
   "source": [
    "df_5percent.describe()"
   ]
  },
  {
   "cell_type": "code",
   "execution_count": null,
   "metadata": {
    "id": "E0uvEw5-iZGU"
   },
   "outputs": [],
   "source": [
    "# Separation of labels\n",
    "\n",
    "x_train = train_set\n",
    "y_train = train_set[['class']]\n",
    "\n",
    "x_test = test_set\n",
    "y_test = test_set[['class']]"
   ]
  },
  {
   "cell_type": "code",
   "execution_count": null,
   "metadata": {
    "id": "xYPcfhyDiZIr"
   },
   "outputs": [],
   "source": [
    "# Reduce dimensions using PCA to fit the dimensions with the qubits\n",
    "\n",
    "n_dim = 2\n",
    "pca = PCA(n_components=n_dim)\n",
    "pca.fit(x_train)\n",
    "\n",
    "x_train = pca.transform(x_train)\n",
    "\n",
    "pca.fit(x_test)\n",
    "x_test = pca.transform(x_test)"
   ]
  },
  {
   "cell_type": "code",
   "execution_count": null,
   "metadata": {
    "id": "07iDFCyTiZLI"
   },
   "outputs": [],
   "source": [
    "# Normalize\n",
    "\n",
    "std_scale = StandardScaler().fit(x_train)\n",
    "data = std_scale.transform(x_train)\n",
    "\n",
    "std_scale = StandardScaler().fit(x_test)\n",
    "x_test = std_scale.transform(x_test)"
   ]
  },
  {
   "cell_type": "code",
   "execution_count": null,
   "metadata": {
    "colab": {
     "base_uri": "https://localhost:8080/"
    },
    "executionInfo": {
     "elapsed": 35,
     "status": "ok",
     "timestamp": 1657097604666,
     "user": {
      "displayName": "jannatul Shapna",
      "userId": "08172177938847049999"
     },
     "user_tz": -360
    },
    "id": "3k4cnh-niZNP",
    "outputId": "27319e87-85a2-4de9-9a60-8d727f0f86e2"
   },
   "outputs": [],
   "source": [
    "# Review the balance of the target variable in train\n",
    "\n",
    "y_train.value_counts(normalize=True)*100"
   ]
  },
  {
   "cell_type": "code",
   "execution_count": null,
   "metadata": {
    "colab": {
     "base_uri": "https://localhost:8080/"
    },
    "executionInfo": {
     "elapsed": 30,
     "status": "ok",
     "timestamp": 1657097604666,
     "user": {
      "displayName": "jannatul Shapna",
      "userId": "08172177938847049999"
     },
     "user_tz": -360
    },
    "id": "6PULYb4uiZP4",
    "outputId": "f5bff5b8-e1b2-43b7-f89d-cffea26134b1"
   },
   "outputs": [],
   "source": [
    "# Review the balance of the target variable in test\n",
    "\n",
    "y_test.value_counts(normalize=True)*100"
   ]
  },
  {
   "cell_type": "code",
   "execution_count": null,
   "metadata": {
    "id": "-voHJNX7iZSS"
   },
   "outputs": [],
   "source": [
    "# Angle Encoding\n",
    "\n",
    "num_qubits = n_dim\n",
    "\n",
    "dev = qml.device('default.qubit', wires = num_qubits)\n",
    "\n",
    "@qml.qnode(dev)\n",
    "def circuit(parameters, data):\n",
    "    for i in range(num_qubits):\n",
    "        qml.Hadamard(wires = i)\n",
    "    \n",
    "    AngleEmbedding(features = data, wires = range(num_qubits), rotation = 'Y')\n",
    "    \n",
    "    qml.StronglyEntanglingLayers(weights = parameters, wires = range(num_qubits))\n",
    "    \n",
    "    return qml.expval(qml.PauliZ(0))"
   ]
  },
  {
   "cell_type": "code",
   "execution_count": null,
   "metadata": {
    "colab": {
     "base_uri": "https://localhost:8080/"
    },
    "executionInfo": {
     "elapsed": 30,
     "status": "ok",
     "timestamp": 1657097604668,
     "user": {
      "displayName": "jannatul Shapna",
      "userId": "08172177938847049999"
     },
     "user_tz": -360
    },
    "id": "rQ0pqXgwiZVL",
    "outputId": "e4e65859-78c8-43f5-936a-ccb0251b07ba"
   },
   "outputs": [],
   "source": [
    "num_layers = 5\n",
    "weights_init = 0.01 * np.random.randn(num_layers, num_qubits, 3, requires_grad=True)\n",
    "bias_init = np.array(0.0, requires_grad=True)\n",
    "\n",
    "print(weights_init, bias_init)"
   ]
  },
  {
   "cell_type": "code",
   "execution_count": null,
   "metadata": {
    "colab": {
     "base_uri": "https://localhost:8080/"
    },
    "executionInfo": {
     "elapsed": 27,
     "status": "ok",
     "timestamp": 1657097604668,
     "user": {
      "displayName": "jannatul Shapna",
      "userId": "08172177938847049999"
     },
     "user_tz": -360
    },
    "id": "ww7KEeVYjRde",
    "outputId": "b67a8598-667c-4492-a6bf-72e25bedcb26"
   },
   "outputs": [],
   "source": [
    "circuit(weights_init, data[0])"
   ]
  },
  {
   "cell_type": "code",
   "execution_count": null,
   "metadata": {
    "id": "GlzA_VRpjRfp"
   },
   "outputs": [],
   "source": [
    "def variational_classifier(weights, bias, x):\n",
    "    return circuit(weights, x) + bias"
   ]
  },
  {
   "cell_type": "code",
   "execution_count": null,
   "metadata": {
    "id": "NoPyBluyjRih"
   },
   "outputs": [],
   "source": [
    "def square_loss(labels, predictions):\n",
    "    loss = 0\n",
    "    for l, p in zip(labels, predictions):\n",
    "        loss = loss + (l - p) ** 2\n",
    "\n",
    "    loss = loss / len(labels)\n",
    "    return loss"
   ]
  },
  {
   "cell_type": "code",
   "execution_count": null,
   "metadata": {
    "id": "HpnHFYs9jRk0"
   },
   "outputs": [],
   "source": [
    "def accuracy(labels, predictions):\n",
    "\n",
    "    loss = 0\n",
    "    for l, p in zip(labels, predictions):\n",
    "        if abs(l - p) < 1e-5:\n",
    "            loss = loss + 1\n",
    "    loss = loss / len(labels)\n",
    "\n",
    "    return loss"
   ]
  },
  {
   "cell_type": "code",
   "execution_count": null,
   "metadata": {
    "id": "FDokSgeOjRnd"
   },
   "outputs": [],
   "source": [
    "def cost(weights, bias, X, Y):\n",
    "    predictions = [variational_classifier(weights, bias, x) for x in X]\n",
    "    return square_loss(Y, predictions)"
   ]
  },
  {
   "cell_type": "code",
   "execution_count": null,
   "metadata": {
    "colab": {
     "base_uri": "https://localhost:8080/"
    },
    "executionInfo": {
     "elapsed": 535,
     "status": "ok",
     "timestamp": 1657097605180,
     "user": {
      "displayName": "jannatul Shapna",
      "userId": "08172177938847049999"
     },
     "user_tz": -360
    },
    "id": "DBqlFWAYjc3y",
    "outputId": "f985c99b-971b-43bf-905b-788f16986937"
   },
   "outputs": [],
   "source": [
    "Y = np.array(y_train.values[:,0] * 2 - np.ones(len(y_train.values[:,0])), requires_grad = False)  # shift label from {0, 1} to {-1, 1}\n",
    "X = np.array(data, requires_grad=False)\n",
    "\n",
    "for i in range(5):\n",
    "    print(\"X = {}, Y = {: d}\".format(list(X[i]), int(Y[i])))"
   ]
  },
  {
   "cell_type": "code",
   "execution_count": null,
   "metadata": {
    "id": "1jMzqUjNjc6K"
   },
   "outputs": [],
   "source": [
    "opt = AdamOptimizer(stepsize=0.1, beta1=0.9, beta2=0.99, eps=1e-08)\n",
    "batch_size = 10"
   ]
  },
  {
   "cell_type": "code",
   "execution_count": null,
   "metadata": {
    "colab": {
     "base_uri": "https://localhost:8080/"
    },
    "executionInfo": {
     "elapsed": 681175,
     "status": "ok",
     "timestamp": 1657098286347,
     "user": {
      "displayName": "jannatul Shapna",
      "userId": "08172177938847049999"
     },
     "user_tz": -360
    },
    "id": "DSz0pzAxjc8r",
    "outputId": "94784b4d-9348-4e01-9502-b7523c0867b6"
   },
   "outputs": [],
   "source": [
    "%%time\n",
    "weights = weights_init\n",
    "bias = bias_init\n",
    "\n",
    "wbest = 0\n",
    "bbest = 0\n",
    "abest = 0\n",
    "\n",
    "for it in range(100):\n",
    "\n",
    "    # weights update by one optimizer step\n",
    "\n",
    "    batch_index = np.random.randint(0, len(X), (batch_size,))\n",
    "    X_batch = X[batch_index]\n",
    "    Y_batch = Y[batch_index]\n",
    "    weights, bias, _, _ = opt.step(cost, weights, bias, X_batch, Y_batch)\n",
    "\n",
    "    # Compute the accuracy\n",
    "    predictions = [np.sign(variational_classifier(weights, bias, x)) for x in X]\n",
    "    \n",
    "    if accuracy(Y, predictions) > abest:\n",
    "        wbest = weights\n",
    "        bbest = bias\n",
    "        abest = accuracy(Y, predictions)\n",
    "        print('New best')\n",
    "\n",
    "    acc = accuracy(Y, predictions)\n",
    "\n",
    "    print(\n",
    "        \"Iter: {:5d} | Cost: {:0.7f} | Accuracy: {:0.7f} \".format(\n",
    "            it + 1, cost(weights, bias, X, Y), acc\n",
    "        )\n",
    "    )"
   ]
  },
  {
   "cell_type": "code",
   "execution_count": null,
   "metadata": {
    "id": "Yf2cCF2ejc_O"
   },
   "outputs": [],
   "source": [
    "Yte = np.array(y_test.values[:,0] * 2 - np.ones(len(y_test.values[:,0])), requires_grad = False)\n",
    "Xte = np.array(normalize(x_test), requires_grad=False)"
   ]
  },
  {
   "cell_type": "code",
   "execution_count": null,
   "metadata": {
    "colab": {
     "base_uri": "https://localhost:8080/"
    },
    "executionInfo": {
     "elapsed": 4892,
     "status": "ok",
     "timestamp": 1657098291228,
     "user": {
      "displayName": "jannatul Shapna",
      "userId": "08172177938847049999"
     },
     "user_tz": -360
    },
    "id": "JANH8LO3jdCa",
    "outputId": "e2580059-57c7-4962-c51b-e4d2ce230594"
   },
   "outputs": [],
   "source": [
    "predictions = [np.sign(variational_classifier(wbest, bbest, x)) for x in Xte]\n",
    "pred = [np.sign(variational_classifier(wbest, bbest, x)) for x in X]\n",
    "acc = accuracy(Yte, predictions)\n",
    "\n",
    "print(f'Cost: {cost(wbest, bbest, Xte, Yte)}, Accuracy: {np.round(acc, 2) * 100}%')"
   ]
  },
  {
   "cell_type": "code",
   "execution_count": null,
   "metadata": {
    "colab": {
     "base_uri": "https://localhost:8080/",
     "height": 1000
    },
    "executionInfo": {
     "elapsed": 13,
     "status": "ok",
     "timestamp": 1657098291229,
     "user": {
      "displayName": "jannatul Shapna",
      "userId": "08172177938847049999"
     },
     "user_tz": -360
    },
    "id": "CT9w4qF_jwFG",
    "outputId": "2df656c1-176d-4dc8-b3ae-7ae7a5612db7"
   },
   "outputs": [],
   "source": [
    "pd.DataFrame((predictions, Yte), ('Predictions', 'Test')).T"
   ]
  },
  {
   "cell_type": "code",
   "execution_count": null,
   "metadata": {
    "colab": {
     "base_uri": "https://localhost:8080/"
    },
    "executionInfo": {
     "elapsed": 12,
     "status": "ok",
     "timestamp": 1657098291230,
     "user": {
      "displayName": "jannatul Shapna",
      "userId": "08172177938847049999"
     },
     "user_tz": -360
    },
    "id": "ONPBmUEhjwH9",
    "outputId": "438d9de2-3786-47e6-ddaa-da7bf3505c43"
   },
   "outputs": [],
   "source": [
    "# Print the classification report and important metrics\n",
    "\n",
    "print(metrics.classification_report(predictions,Yte))\n",
    "print(metrics.precision_score(predictions,Yte))\n",
    "print(metrics.recall_score(predictions,Yte))\n",
    "print(metrics.f1_score(predictions,Yte))\n",
    "print(metrics.balanced_accuracy_score(predictions,Yte))"
   ]
  },
  {
   "cell_type": "code",
   "execution_count": null,
   "metadata": {
    "id": "wz15seiLjwKr"
   },
   "outputs": [],
   "source": []
  }
 ],
 "metadata": {
  "colab": {
   "authorship_tag": "ABX9TyP67zbTYHnYfhgVGdXc7yKg",
   "collapsed_sections": [],
   "name": "QNN- CLAMP-100.ipynb",
   "provenance": []
  },
  "kernelspec": {
   "display_name": "Python 3 (ipykernel)",
   "language": "python",
   "name": "python3"
  },
  "language_info": {
   "codemirror_mode": {
    "name": "ipython",
    "version": 3
   },
   "file_extension": ".py",
   "mimetype": "text/x-python",
   "name": "python",
   "nbconvert_exporter": "python",
   "pygments_lexer": "ipython3",
   "version": "3.10.14"
  }
 },
 "nbformat": 4,
 "nbformat_minor": 4
}

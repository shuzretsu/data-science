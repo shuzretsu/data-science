{
 "cells": [
  {
   "cell_type": "markdown",
   "metadata": {
    "id": "EXXuFQI2wob4"
   },
   "source": [
    "### **Winconsin Breast Cancer Dataset**: [http://archive.ics.uci.edu/dataset/15/breast+cancer+wisconsin+original](http://archive.ics.uci.edu/dataset/15/breast+cancer+wisconsin+original)"
   ]
  },
  {
   "cell_type": "markdown",
   "metadata": {
    "id": "dyRA727BejDK"
   },
   "source": [
    "### <b>Daftar Isi</b>\n",
    "* [1) Mengumpulkan Data](#h1)\n",
    "* [2) Menelaah Data](#h2)\n",
    "* [3) Memvalidasi Data](#h3)\n",
    "* [4) Menetukan Object Data](#h4)\n",
    "* [5) Membersihkan Data](#h5)\n",
    "* [6) Mengkonstruksi Data](#h6)\n",
    "* [7) Menentukan Label Data](#h7)\n",
    "* [8) Membangung Model](#h8)\n",
    "* [9) Mengevaluasi Hasil Pemodelan](#h9)\n",
    "* [10) Optimasi Model Klasifikasi](#h10)"
   ]
  },
  {
   "cell_type": "markdown",
   "metadata": {
    "id": "-hJItCj9eah6"
   },
   "source": [
    "## <b>1) Mengumpulkan Data</b> <a class=\"anchor\" id=\"h1\"></a>"
   ]
  },
  {
   "cell_type": "code",
   "execution_count": 2,
   "metadata": {
    "executionInfo": {
     "elapsed": 550,
     "status": "ok",
     "timestamp": 1715569843023,
     "user": {
      "displayName": "Kang, Andini Wulandari",
      "userId": "04217420138577011294"
     },
     "user_tz": -420
    },
    "id": "GYqramJ0JmD2"
   },
   "outputs": [],
   "source": [
    "# Load library yang diperlukan\n",
    "import pandas as pd"
   ]
  },
  {
   "cell_type": "markdown",
   "metadata": {
    "id": "WkBjoFNrwocB"
   },
   "source": [
    "<h4>⬇ <b style=\"color:orange;\">Instruksi</b>: Ubah \"<b style=\"color:yellow;\">[fix_me]</b>\" dengan code yang benar!</h4>"
   ]
  },
  {
   "cell_type": "code",
   "execution_count": 6,
   "metadata": {
    "id": "Edyb9plw7q1n"
   },
   "outputs": [
    {
     "name": "stdout",
     "output_type": "stream",
     "text": [
      "<class 'pandas.core.frame.DataFrame'>\n",
      "RangeIndex: 699 entries, 0 to 698\n",
      "Data columns (total 11 columns):\n",
      " #   Column  Non-Null Count  Dtype \n",
      "---  ------  --------------  ----- \n",
      " 0   0       699 non-null    int64 \n",
      " 1   1       699 non-null    int64 \n",
      " 2   2       699 non-null    int64 \n",
      " 3   3       699 non-null    int64 \n",
      " 4   4       699 non-null    int64 \n",
      " 5   5       699 non-null    int64 \n",
      " 6   6       699 non-null    object\n",
      " 7   7       699 non-null    int64 \n",
      " 8   8       699 non-null    int64 \n",
      " 9   9       699 non-null    int64 \n",
      " 10  10      699 non-null    int64 \n",
      "dtypes: int64(10), object(1)\n",
      "memory usage: 60.2+ KB\n"
     ]
    }
   ],
   "source": [
    "# Load data menjadi data frame\n",
    "dataset = pd.read_csv(\"C:\\\\Users\\\\relax\\\\PycharmProjects\\\\cloud-classification\\\\dataset1\\\\breast-cancer-wisconsin.data\", header=None)\n",
    "\n",
    "dataset.info()"
   ]
  },
  {
   "cell_type": "markdown",
   "metadata": {
    "id": "WXxqEHDgwocC"
   },
   "source": [
    "<h4>⬆ <b>Expected <span style=\"color:tomato;\">Output</span></b>:</h4>\n",
    "\n",
    "<img src=\"https://lh3.googleusercontent.com/drive-viewer/AKGpihYWPyAPqUyUqY87dzmQzI7Ry7iUN_gq0G8ki68n-Qezrv-W0bQ_Fq7P7F0B44a3VjJ_D0qrPTeimY_USQNIZE-K4mDwZAy9nQ=w1920-h936\" alt=\"img_1.png\" width=\"400\">"
   ]
  },
  {
   "cell_type": "markdown",
   "metadata": {
    "id": "0_MiwQNowocD"
   },
   "source": [
    "<h4>*Lihat <b style=\"color:yellow;\">informasi atribut</b> pada file \"<span style=\"color:orange;\">breast-cancer-wisconsin.names</span>\", poin ke-<b style=\"color:tomato;\">7</b>.</h4>"
   ]
  },
  {
   "cell_type": "code",
   "execution_count": 7,
   "metadata": {
    "id": "-t19Z14gKbw-"
   },
   "outputs": [],
   "source": [
    "# Memasukkan nama fitur kedalam dataset\n",
    "dataset.columns = [\n",
    "  \"Sample_code_number\",\n",
    "  \"Clump_thickness\",\n",
    "  \"Uniformity_of_cell_size\",\n",
    "  \"Uniformity_of_cell_shape\",\n",
    "  \"Marginal_adhesion\",\n",
    "  \"Single_epithelial_cell_size\",\n",
    "  \"Bare_nuclei\",\n",
    "  \"Bland_chromatin\",\n",
    "  \"Normal_nucleoli\",\n",
    "  \"Mitoses\",\n",
    "  \"Class\"\n",
    "]"
   ]
  },
  {
   "cell_type": "markdown",
   "metadata": {
    "id": "9VKkAFd_wocE"
   },
   "source": [
    "<h4>⬇ <b style=\"color:orange;\">Instruksi</b>: Isi <i style=\"color:yellow;font-weight:bold;\">code-cell</i> berikut agar menghasilkan <b style=\"color:tomato;\">output</b> yang sesuai!</h4>"
   ]
  },
  {
   "cell_type": "code",
   "execution_count": 8,
   "metadata": {
    "id": "eGAahUlRLjjj"
   },
   "outputs": [
    {
     "data": {
      "text/html": [
       "<div>\n",
       "<style scoped>\n",
       "    .dataframe tbody tr th:only-of-type {\n",
       "        vertical-align: middle;\n",
       "    }\n",
       "\n",
       "    .dataframe tbody tr th {\n",
       "        vertical-align: top;\n",
       "    }\n",
       "\n",
       "    .dataframe thead th {\n",
       "        text-align: right;\n",
       "    }\n",
       "</style>\n",
       "<table border=\"1\" class=\"dataframe\">\n",
       "  <thead>\n",
       "    <tr style=\"text-align: right;\">\n",
       "      <th></th>\n",
       "      <th>Sample_code_number</th>\n",
       "      <th>Clump_thickness</th>\n",
       "      <th>Uniformity_of_cell_size</th>\n",
       "      <th>Uniformity_of_cell_shape</th>\n",
       "      <th>Marginal_adhesion</th>\n",
       "      <th>Single_epithelial_cell_size</th>\n",
       "      <th>Bare_nuclei</th>\n",
       "      <th>Bland_chromatin</th>\n",
       "      <th>Normal_nucleoli</th>\n",
       "      <th>Mitoses</th>\n",
       "      <th>Class</th>\n",
       "    </tr>\n",
       "  </thead>\n",
       "  <tbody>\n",
       "    <tr>\n",
       "      <th>0</th>\n",
       "      <td>1000025</td>\n",
       "      <td>5</td>\n",
       "      <td>1</td>\n",
       "      <td>1</td>\n",
       "      <td>1</td>\n",
       "      <td>2</td>\n",
       "      <td>1</td>\n",
       "      <td>3</td>\n",
       "      <td>1</td>\n",
       "      <td>1</td>\n",
       "      <td>2</td>\n",
       "    </tr>\n",
       "    <tr>\n",
       "      <th>1</th>\n",
       "      <td>1002945</td>\n",
       "      <td>5</td>\n",
       "      <td>4</td>\n",
       "      <td>4</td>\n",
       "      <td>5</td>\n",
       "      <td>7</td>\n",
       "      <td>10</td>\n",
       "      <td>3</td>\n",
       "      <td>2</td>\n",
       "      <td>1</td>\n",
       "      <td>2</td>\n",
       "    </tr>\n",
       "    <tr>\n",
       "      <th>2</th>\n",
       "      <td>1015425</td>\n",
       "      <td>3</td>\n",
       "      <td>1</td>\n",
       "      <td>1</td>\n",
       "      <td>1</td>\n",
       "      <td>2</td>\n",
       "      <td>2</td>\n",
       "      <td>3</td>\n",
       "      <td>1</td>\n",
       "      <td>1</td>\n",
       "      <td>2</td>\n",
       "    </tr>\n",
       "    <tr>\n",
       "      <th>3</th>\n",
       "      <td>1016277</td>\n",
       "      <td>6</td>\n",
       "      <td>8</td>\n",
       "      <td>8</td>\n",
       "      <td>1</td>\n",
       "      <td>3</td>\n",
       "      <td>4</td>\n",
       "      <td>3</td>\n",
       "      <td>7</td>\n",
       "      <td>1</td>\n",
       "      <td>2</td>\n",
       "    </tr>\n",
       "    <tr>\n",
       "      <th>4</th>\n",
       "      <td>1017023</td>\n",
       "      <td>4</td>\n",
       "      <td>1</td>\n",
       "      <td>1</td>\n",
       "      <td>3</td>\n",
       "      <td>2</td>\n",
       "      <td>1</td>\n",
       "      <td>3</td>\n",
       "      <td>1</td>\n",
       "      <td>1</td>\n",
       "      <td>2</td>\n",
       "    </tr>\n",
       "  </tbody>\n",
       "</table>\n",
       "</div>"
      ],
      "text/plain": [
       "   Sample_code_number  Clump_thickness  Uniformity_of_cell_size  \\\n",
       "0             1000025                5                        1   \n",
       "1             1002945                5                        4   \n",
       "2             1015425                3                        1   \n",
       "3             1016277                6                        8   \n",
       "4             1017023                4                        1   \n",
       "\n",
       "   Uniformity_of_cell_shape  Marginal_adhesion  Single_epithelial_cell_size  \\\n",
       "0                         1                  1                            2   \n",
       "1                         4                  5                            7   \n",
       "2                         1                  1                            2   \n",
       "3                         8                  1                            3   \n",
       "4                         1                  3                            2   \n",
       "\n",
       "  Bare_nuclei  Bland_chromatin  Normal_nucleoli  Mitoses  Class  \n",
       "0           1                3                1        1      2  \n",
       "1          10                3                2        1      2  \n",
       "2           2                3                1        1      2  \n",
       "3           4                3                7        1      2  \n",
       "4           1                3                1        1      2  "
      ]
     },
     "execution_count": 8,
     "metadata": {},
     "output_type": "execute_result"
    }
   ],
   "source": [
    "# melakukan pengecekan apakah dataset sudah benar dengan menampilkan 5 data teratas\n",
    "dataset.head()"
   ]
  },
  {
   "cell_type": "markdown",
   "metadata": {
    "id": "IKyqXd-GwocE"
   },
   "source": [
    "<h4>⬆ <b>Expected <span style=\"color:tomato;\">Output</span></b>:</h4>\n",
    "\n",
    "<img src=\"https://lh3.googleusercontent.com/fife/ALs6j_EYndZLkpI8TMpkfDxC0FxnZ3BvQkHapxWtG4k5FpUvTAWrbWjq9aGuqFPkXYz2lg6MJCqv3ML9Bgz81OSyZz5ytwyTumpAfR7Ndez1TMDwIE2fT-Fho-8Zi0ejdiJ1If_Lfo_fH2xIQcsOd8M0lKssIF77vCARZXzUsDgjvPDfYcLKStnjvNq5wf38uRKGAalE9CfUEpji-8BaIf2vNFsBm-VLU9NhJeW9o8Erf-VsEkouxMAGLLpj6GC98uBlH0SwaIM3YdWl2Wvuj6x2dblpvhtODXuHvChvT1AMHg-nAKqTNmCGqrq6_ouKmKw0Xi8YqyoMCTcTyUUASnCjt6OHSZ7-m-NLGqiK6-HReRzItCfSwkgQ8VMqPhalDp3hZxGsIjleSr5GW8NXLdrqhFLT1YVKln1webx-T7rQBwS0VbyEwRuJWFDVMBfoQZqzKLPO38t1lHlVLiJZ9YfGfEUlnvnVfodwu1ZPXe3_493S2-cYeAH2bOVr7hzguty95R454N-kefXLpRRF_HFI6UmWHHTTCP3e1rffsAbgEO1LiAoc88VX-WpZcLIcj23xX7x6pVowxWA2-Amvg0ngVCGFJdDX4yH5BJG-wHhFmUXAAmkLtjPztKtqFpRcIXxNlWeJF3D6VKL75RnGmHY-6PAjL4B7Uf-VH6oXIweXqP47hOrTEvq4CJXVeAzwFucZ6CS3vjJdHvmClvtTaHfinLID98QQdS5klKJhbYzvSPSzcH0_TMHBjUfGSnQWQgKbI6zLE8esC_cJw8p2l0-EvhC9ZogHlCpPgBDM28eEdNS0sKvfoRQm9RKUdugMa28cUIRW3vrMUoQMHKAKzCiA0Eq8nsiLzBpM0KLyEGIMbK2hLBpQi4CjkAMZgO6g_actre9J2C8Lq6zUjTBg1kCZP_4i_NMtpy8jSLXsHImdVCqvMRnPs6FHOO6Bj0zhOMo1ORFZrQcJ--s1RXQ-eMwPgZMICb8dzhYj-gdvZeIR8M146ppQU0Hnxv6355fcIqR83hFjmGVCimrCoiqnGVTl4y4SU1_75BVeXGV4CMsCbFwQAGZ268152c1JtutblJPNgN5yMO32yKnRYX2JJ-_NCdKglib9aS8w8KurkejU3HsgIXQ5HNI8Qp-EMRoTJGNhPo6SHORh2PyXI9hzlWfB_ym_rvrPFuSKEQPyMUuNdeVK71EjRYH4-eGxal7ebUZjjqSJSKHcT7S3Zykl5Mv_eDlXs2nj8_g1QPfOzNvWUSj83Qhbjg_2DYpKcEMwSBBJRz8ZjJqi4vrHm8_DzauHzj2fUjhdEIxa-W1sFdIenCFJoNVOi2kN5UOUCAsIeM2oIMp4b-eM0PGJl78MSsz65h5ygiIwwbrbHyQdlUarxm_ibtlI__mwZxYS3Zo-GYqQ7cOKfnD51ADef1-zUFE3n6-31184P3JLbzc0JadkB16v28PLsMXzMI2-zkZt2YDb2JL3HH6jN-kL7_z_o9RFRKsztIgiJhBBPBbO4BQ2UhMz1IxrHWlP2thOIZLyvi3GoThPhwbUSWOzv-VD2VcmSja21aSaZKTVorz_tms9lvoROE0n55u_WJNqSegj8ITzkqfgveLMLf_riLckS0q0NG9eU5Gz_7nEg6mpeEDZhhNlcCNo-vF_3CZ93VuOjbIQ40EJ-PVXLijuyQ7nSJJBDOMlbErrwUKjN-16P0EOzqK3T7BUpkNgSVExaIJddDDUpAwFd3JSVjwKs_lJrx93BYa_GWK-pa-WNp5bRHfZN0n9hgpBJNOjySjELDasX4TVHX0fm8vGmAEyp0Ft6nY4udSm05EWlHaVKXy9s7HR=w1920-h936\" alt=\"img_2.png\" width=\"1000\">"
   ]
  },
  {
   "cell_type": "markdown",
   "metadata": {
    "id": "j0MGtkL8fo7l"
   },
   "source": [
    "## <b>2) Menelaah Data</b> <a class=\"anchor\" id=\"h2\"></a>"
   ]
  },
  {
   "cell_type": "markdown",
   "metadata": {
    "id": "wugkarIFwocF"
   },
   "source": [
    "<h4>⬇ <b style=\"color:orange;\">Instruksi</b>: Isi <i style=\"color:yellow;font-weight:bold;\">code-cell</i> berikut agar menghasilkan <b style=\"color:tomato;\">output</b> yang sesuai!</h4>"
   ]
  },
  {
   "cell_type": "code",
   "execution_count": 9,
   "metadata": {
    "id": "ji1FROwMhE6F"
   },
   "outputs": [
    {
     "name": "stdout",
     "output_type": "stream",
     "text": [
      "<class 'pandas.core.frame.DataFrame'>\n",
      "RangeIndex: 699 entries, 0 to 698\n",
      "Data columns (total 11 columns):\n",
      " #   Column                       Non-Null Count  Dtype \n",
      "---  ------                       --------------  ----- \n",
      " 0   Sample_code_number           699 non-null    int64 \n",
      " 1   Clump_thickness              699 non-null    int64 \n",
      " 2   Uniformity_of_cell_size      699 non-null    int64 \n",
      " 3   Uniformity_of_cell_shape     699 non-null    int64 \n",
      " 4   Marginal_adhesion            699 non-null    int64 \n",
      " 5   Single_epithelial_cell_size  699 non-null    int64 \n",
      " 6   Bare_nuclei                  699 non-null    object\n",
      " 7   Bland_chromatin              699 non-null    int64 \n",
      " 8   Normal_nucleoli              699 non-null    int64 \n",
      " 9   Mitoses                      699 non-null    int64 \n",
      " 10  Class                        699 non-null    int64 \n",
      "dtypes: int64(10), object(1)\n",
      "memory usage: 60.2+ KB\n"
     ]
    }
   ],
   "source": [
    "# Menampilkan informasi dari file dataset\n",
    "dataset.info()"
   ]
  },
  {
   "cell_type": "markdown",
   "metadata": {
    "id": "T7t5VaAXwocF"
   },
   "source": [
    "<h4>⬆ <b>Expected <span style=\"color:tomato;\">Output</span></b>:</h4>\n",
    "\n",
    "<img src=\"https://lh3.googleusercontent.com/fife/ALs6j_EE17jxJ3xOY_hLATP_XG8YcGGy2CZLqbXysMHGP56PDhXi6tcagFbXYA7K3-CpIzSsi3Rdv7hFhNqxGcCiODYUhiOf20C-LdpC0WRVL6UPFver65YJe2UuqdocFZVpKwpMdY7K6Tgq3BdtyWGLATFaJtnsIhtkx2HJeI9_uoNYBhgmiBhaVkjWluUKWoZuaBoxzXsWbNAdmuVAvXbZZV4_3r6amSrtt3xtewEWhNKeS4ZY8Uy_MDlhCt__KUgICal6TYVnbIS2GkV1nklUU3mLgajmvgnR0xfJP84skXMh2Oot77dd9lHwKZlK6sejuEn5kwzdxlDvnE3qD9G3TkIU4iPqjch5M2V50AmWJxTkV1mAGqxKJK3VUg3tjbAtYTwoZEgu1_DdjObb7YrZLYoJRbAa7rkK1CY4IhMvs1KXERzj8z_NczkZR2gFQPOAwCeDj324Xi1f1cSF9TMivV9drC2qajXh3DmTAYi1FAZbTorF8h_gdKaOnjejhrxV-vocJM1xyAhDcme7FWWuhOipNWWJjIDjzT8YiNIqn8cFr9ElXR3Y8MxTSJr-ZOUQyk69vouF32iK1X3n_eYKHW_QP3ujY8x2Qci75mpTNyyRi9KIRknSDXHthUfyy1RtdcgmYIq5U-dUjC-q-unjydTvKiqIc66JRK1kG6FReiFtS9r0PqP-scwFNoGaGNZK3RRoKao9oP8KayjO9HVvW6O7apwa5JKKld3eCfbyDC86izQtssb25X3jZnUG1H5Vozc2PG1YrvW73Sw1yKTcjWVeMIa8BFw0UGR_HFrrs4Eczc9FItt7ZD-0Eny0zATHaCsQoWeadcDo3Zz33XKQrnIOKNE47AVOoCczdJelwL1ythX3WCBTxBkK0kL1jHYxGjCPeRfg2yUceSHXAhQlyffi_13eGAs4qBUYSlpNwcFbYukFklbDl-fEPaEd54LFZ5CpwU8waVGfqO3YC4JfeAHf57VuUW_UKBPSPpGefyNJ68blsr5nKuuTx_TBUAYR6Rupsefv3oqBshi_Swcul6-VdCU_yZNuHY3SoG8-eqJvXoobjaGiYqsa3gypls0-4n0Zh19ddg5OyfoXl-mdgz_2P3Nst0xYMc5zE5bMV7bSCFongKCy75SZ_aJxoiRwVE_DrW6iBbPKLhk8oDBxtexpEKBPA9V-ES7gctFeAnF03c7F5LVjuOA-73IAqXioIWva9wE7_UUlb3Q-TGzdN1xNE6tUbnfKiG3IkwbXEBTaqn4tTz2EAuVrIQSqK0eCPjFsyK6ISwQRgDmu5Lu2F2whWZeZi6ehBFjRZEo-i6tO6Edm8BC_wxQKR2A1EiByUTnpuwJHilj25MPs4lTM-7Km-SJcnwM8rklLUnUg03fFnHpMynTNI8SGM9pshYz4IggQbRA0vV0drqlj5mNMzTpJy2ILa4Y72d8pkS2vnTxZUvUIwX3Zx8Tbc6_TWLbjMgHtQIRpI2o0rOaPhMkNamXMc7BG_5XtW3dfOdYDulahb05gPp2bjG3yKbwm-S9k8xVCLwg5O034lipxy1M2Tw3LdRYLc7Cmq66YBnGd3c3zuajAKJ1x-3QHsO3mt0iilCu7BOvSpg6963iWxb4MDNCEtoRV-xS-9oJNH4OKEMnhXhTzfFx07TEdr-1xegNCYv6hHzp6fFShkUMeIO-xWLYHQ5GSK9Ww5yQ-xvAWC0dugbBt203a9YALZL6l4c800o_s2GdmNZZ1b8ozF7YAJFfnFBavGf3_5aU9IDcymZeBIQL_4zXlMR5grvVrBDcDK7C2qjHwGUioZzCwnAziJX3wV69VTENvrH6uZBXo=w1920-h936\" alt=\"img_3.png\" width=\"400\">"
   ]
  },
  {
   "cell_type": "markdown",
   "metadata": {
    "id": "v5-KoZKxwocG"
   },
   "source": [
    "<h4>⬇ <b style=\"color:orange;\">Instruksi</b>: Isi <i style=\"color:yellow;font-weight:bold;\">code-cell</i> berikut agar menghasilkan <b style=\"color:tomato;\">output</b> yang sesuai!</h4>"
   ]
  },
  {
   "cell_type": "code",
   "execution_count": 10,
   "metadata": {
    "id": "Pxd-mJi5hFFm"
   },
   "outputs": [
    {
     "data": {
      "text/html": [
       "<div>\n",
       "<style scoped>\n",
       "    .dataframe tbody tr th:only-of-type {\n",
       "        vertical-align: middle;\n",
       "    }\n",
       "\n",
       "    .dataframe tbody tr th {\n",
       "        vertical-align: top;\n",
       "    }\n",
       "\n",
       "    .dataframe thead th {\n",
       "        text-align: right;\n",
       "    }\n",
       "</style>\n",
       "<table border=\"1\" class=\"dataframe\">\n",
       "  <thead>\n",
       "    <tr style=\"text-align: right;\">\n",
       "      <th></th>\n",
       "      <th>Sample_code_number</th>\n",
       "      <th>Clump_thickness</th>\n",
       "      <th>Uniformity_of_cell_size</th>\n",
       "      <th>Uniformity_of_cell_shape</th>\n",
       "      <th>Marginal_adhesion</th>\n",
       "      <th>Single_epithelial_cell_size</th>\n",
       "      <th>Bland_chromatin</th>\n",
       "      <th>Normal_nucleoli</th>\n",
       "      <th>Mitoses</th>\n",
       "      <th>Class</th>\n",
       "    </tr>\n",
       "  </thead>\n",
       "  <tbody>\n",
       "    <tr>\n",
       "      <th>count</th>\n",
       "      <td>6.990000e+02</td>\n",
       "      <td>699.000000</td>\n",
       "      <td>699.000000</td>\n",
       "      <td>699.000000</td>\n",
       "      <td>699.000000</td>\n",
       "      <td>699.000000</td>\n",
       "      <td>699.000000</td>\n",
       "      <td>699.000000</td>\n",
       "      <td>699.000000</td>\n",
       "      <td>699.000000</td>\n",
       "    </tr>\n",
       "    <tr>\n",
       "      <th>mean</th>\n",
       "      <td>1.071704e+06</td>\n",
       "      <td>4.417740</td>\n",
       "      <td>3.134478</td>\n",
       "      <td>3.207439</td>\n",
       "      <td>2.806867</td>\n",
       "      <td>3.216023</td>\n",
       "      <td>3.437768</td>\n",
       "      <td>2.866953</td>\n",
       "      <td>1.589413</td>\n",
       "      <td>2.689557</td>\n",
       "    </tr>\n",
       "    <tr>\n",
       "      <th>std</th>\n",
       "      <td>6.170957e+05</td>\n",
       "      <td>2.815741</td>\n",
       "      <td>3.051459</td>\n",
       "      <td>2.971913</td>\n",
       "      <td>2.855379</td>\n",
       "      <td>2.214300</td>\n",
       "      <td>2.438364</td>\n",
       "      <td>3.053634</td>\n",
       "      <td>1.715078</td>\n",
       "      <td>0.951273</td>\n",
       "    </tr>\n",
       "    <tr>\n",
       "      <th>min</th>\n",
       "      <td>6.163400e+04</td>\n",
       "      <td>1.000000</td>\n",
       "      <td>1.000000</td>\n",
       "      <td>1.000000</td>\n",
       "      <td>1.000000</td>\n",
       "      <td>1.000000</td>\n",
       "      <td>1.000000</td>\n",
       "      <td>1.000000</td>\n",
       "      <td>1.000000</td>\n",
       "      <td>2.000000</td>\n",
       "    </tr>\n",
       "    <tr>\n",
       "      <th>25%</th>\n",
       "      <td>8.706885e+05</td>\n",
       "      <td>2.000000</td>\n",
       "      <td>1.000000</td>\n",
       "      <td>1.000000</td>\n",
       "      <td>1.000000</td>\n",
       "      <td>2.000000</td>\n",
       "      <td>2.000000</td>\n",
       "      <td>1.000000</td>\n",
       "      <td>1.000000</td>\n",
       "      <td>2.000000</td>\n",
       "    </tr>\n",
       "    <tr>\n",
       "      <th>50%</th>\n",
       "      <td>1.171710e+06</td>\n",
       "      <td>4.000000</td>\n",
       "      <td>1.000000</td>\n",
       "      <td>1.000000</td>\n",
       "      <td>1.000000</td>\n",
       "      <td>2.000000</td>\n",
       "      <td>3.000000</td>\n",
       "      <td>1.000000</td>\n",
       "      <td>1.000000</td>\n",
       "      <td>2.000000</td>\n",
       "    </tr>\n",
       "    <tr>\n",
       "      <th>75%</th>\n",
       "      <td>1.238298e+06</td>\n",
       "      <td>6.000000</td>\n",
       "      <td>5.000000</td>\n",
       "      <td>5.000000</td>\n",
       "      <td>4.000000</td>\n",
       "      <td>4.000000</td>\n",
       "      <td>5.000000</td>\n",
       "      <td>4.000000</td>\n",
       "      <td>1.000000</td>\n",
       "      <td>4.000000</td>\n",
       "    </tr>\n",
       "    <tr>\n",
       "      <th>max</th>\n",
       "      <td>1.345435e+07</td>\n",
       "      <td>10.000000</td>\n",
       "      <td>10.000000</td>\n",
       "      <td>10.000000</td>\n",
       "      <td>10.000000</td>\n",
       "      <td>10.000000</td>\n",
       "      <td>10.000000</td>\n",
       "      <td>10.000000</td>\n",
       "      <td>10.000000</td>\n",
       "      <td>4.000000</td>\n",
       "    </tr>\n",
       "  </tbody>\n",
       "</table>\n",
       "</div>"
      ],
      "text/plain": [
       "       Sample_code_number  Clump_thickness  Uniformity_of_cell_size  \\\n",
       "count        6.990000e+02       699.000000               699.000000   \n",
       "mean         1.071704e+06         4.417740                 3.134478   \n",
       "std          6.170957e+05         2.815741                 3.051459   \n",
       "min          6.163400e+04         1.000000                 1.000000   \n",
       "25%          8.706885e+05         2.000000                 1.000000   \n",
       "50%          1.171710e+06         4.000000                 1.000000   \n",
       "75%          1.238298e+06         6.000000                 5.000000   \n",
       "max          1.345435e+07        10.000000                10.000000   \n",
       "\n",
       "       Uniformity_of_cell_shape  Marginal_adhesion  \\\n",
       "count                699.000000         699.000000   \n",
       "mean                   3.207439           2.806867   \n",
       "std                    2.971913           2.855379   \n",
       "min                    1.000000           1.000000   \n",
       "25%                    1.000000           1.000000   \n",
       "50%                    1.000000           1.000000   \n",
       "75%                    5.000000           4.000000   \n",
       "max                   10.000000          10.000000   \n",
       "\n",
       "       Single_epithelial_cell_size  Bland_chromatin  Normal_nucleoli  \\\n",
       "count                   699.000000       699.000000       699.000000   \n",
       "mean                      3.216023         3.437768         2.866953   \n",
       "std                       2.214300         2.438364         3.053634   \n",
       "min                       1.000000         1.000000         1.000000   \n",
       "25%                       2.000000         2.000000         1.000000   \n",
       "50%                       2.000000         3.000000         1.000000   \n",
       "75%                       4.000000         5.000000         4.000000   \n",
       "max                      10.000000        10.000000        10.000000   \n",
       "\n",
       "          Mitoses       Class  \n",
       "count  699.000000  699.000000  \n",
       "mean     1.589413    2.689557  \n",
       "std      1.715078    0.951273  \n",
       "min      1.000000    2.000000  \n",
       "25%      1.000000    2.000000  \n",
       "50%      1.000000    2.000000  \n",
       "75%      1.000000    4.000000  \n",
       "max     10.000000    4.000000  "
      ]
     },
     "execution_count": 10,
     "metadata": {},
     "output_type": "execute_result"
    }
   ],
   "source": [
    "# Menampilkan deskripsi dari file dataset\n",
    "dataset.describe()"
   ]
  },
  {
   "cell_type": "markdown",
   "metadata": {
    "id": "TaOGrfMywocG"
   },
   "source": [
    "<h4>⬆ <b>Expected <span style=\"color:tomato;\">Output</span></b>:</h4>\n",
    "\n",
    "<img src=\"https://lh3.googleusercontent.com/fife/ALs6j_HvYOv1YbS6zOSkUnuOviLqnkp8wltIVsr4mAvju3dck58oQgqtx7YuNds2d14gc_Jttc9Aemz35oPbzA_87kvGf3UMuB3CG6OK3DL7VzqsyEuEKjxwuO-qTr944FED-B02kr8g6N7NHJzhW4z7TbN_N43OtczCJEv5gm1LnwvvbUTO2tvwN2tWY6nN_Om4DCJ7SojK6LSqZRzIMQu_9gmTToJJF_mCC8n0PpVS3-t3bOW2qptfE3xUvElXWE0aahn1vxMWYY61Pyjftohlv0s3pj8y2J5YnDPZ9Df7XB99CRSEzmCqVRGdzUd9MgbFVVLgNcR1IRF6GiUa2iYQIEl3IpwEifru3PiGFqrdVYo_lvgIkON0BQrJ5tti6svAg8wrPXVnsB6jpS8yMG_HsIAnoKzwBIY544KfB1r9CQU2xPteXJ9EYql1cQRSuT8OKViK3NnJf7P99pHSKSdFEre8xQy4aYq36y7Msdr-N0gmcYxbe2ncd3Iu4Fk0WA8SDdUtoWGiSxHjUUcLTg-PgxAlgyik8q38gpP_zhYJ97gIFzBGC_FNwNULEvthZ9ghr8mjDIEOqJciDM1hagDfHrfV2UoO7CwamMEA6JqpB09ELcmlLVIcl1fgxY29hHfz65Fj-f5wUgq0YelDro6-f0st9qFN5yhnJGRP0XUBKzm6jTdwkCUzByf7zNk2YSxH2rw2MBZyGh5iViWtWyVImiZBE5qXPw56Xyk9ER4gutV3OHLCugID9SaVySN8L1J_tR-EMnR5q8f40SCvJnuOiH02L06bDbi5H6Hy4YcoMl0bUiiDitk8q8UIVN4ob1eDpkVJMJsqly_UPZJOAyEVV1dDoSErW_GEXZbSS0rirwLaJFbqt0mTdTIiqXCTIbVNvzU-sNI4QvHJeIVzoc1oZ5QnPVHoK_6aCwmFCoO5N7iErJ1tEAUG4qv20h_hiN1uv3skqvNkBgUWr3YeMVADhQQ13Znk5W3FVqUzXxEx73fvBzclvorTV4IjYF-MrCzfETlGwU3ZEmwzeMtLx89SDV1jP4kXd6I5DP3gaTnmrLDGu97K67VoZnO0AFaiUqo8VSEQu8LUYNc0amem-qoP6Yp9AFlcaVWOCXNt_LXobd_ZJTfm9Kfei1Y4GXqrXEL51aenhhJUHSMNtJ21lD_vLQxVHJBki4yOzNCa72-H1fp1vU0i4inBV7VA2RnK-LXDpinXjdTPNk7FPtXwvm5s7p68ESwrMDFQvh7ZoHQJbZ3y9k99pSRBz31k1xtfRN6-GS3UbXgL5e0dGgWqM5VrQtpWngsKNFw-CCHaUQqzfAlgHMhcT_a6AKxidfgqFEf0bomQlX6R5fIVNqp0iymcANQSpYTQ_uN5WTELICzAQQntj_dqfZH4bo8pRcQDa92drnV-Ci2fKKTiXOu96o8b-dalYmaOt20OC209Zy9V48ik1_S5M82ZwYG_xFGSVdpNvzxefu4F4UQokve5Rv9p-NEUmOvpGGMAXeKuE9tjos08FtK_R1BhbI0fhCqxzhhiaoZ-RBbwBfCt0wJtdPMrFNFSW-TEGXMh9x1f5BG_lzsc3ySQN0-k-1bliaACHWy8nPjkvvG27YQ0hX2LRRXMsSc21qUUZuKfKGv46tXjXrTETzx45I67SNL2DQruBXNLd-iA67szKgWwbW4K0aAmbAVOl3MNdGKK3EaNq6BTp88UCnAzSUHcDTi3uZTO-AZuUP_YZmOQZIhINwtXX9O-B4nZN29t3JRjc2evU3Y2f3GPdTcx_qsdsoGAsZQgAvEGa8wjHkFrNh1U5BqJVX6gY7XoBpQbDSq8A0Raz5Yi=w1920-h936\" alt=\"img_4.png\" width=\"1000\">"
   ]
  },
  {
   "cell_type": "code",
   "execution_count": 11,
   "metadata": {
    "id": "cySMcW0fhFav"
   },
   "outputs": [],
   "source": [
    "import seaborn as sns\n",
    "import matplotlib.pyplot as plt"
   ]
  },
  {
   "cell_type": "code",
   "execution_count": 13,
   "metadata": {
    "id": "4FeV3Bfb7j1L"
   },
   "outputs": [],
   "source": [
    "# tuliskan kode program untuk Menampilkan distribusi kelas dari semua fitur\n",
    "# dibawah adalah contoh kode program untuk fitur 1"
   ]
  },
  {
   "cell_type": "code",
   "execution_count": null,
   "metadata": {},
   "outputs": [],
   "source": [
    "sns.set_theme(font_scale=1.0)\n",
    "dataset['Clump_thickness'].value_counts().plot(kind='bar', figsize=(7, 6), rot=0)\n",
    "plt.xlabel(\"Clump_thickness\", labelpad=14)\n",
    "plt.ylabel(\"Jumlah\", labelpad=14)\n",
    "plt.title(\"Distribusi\", y=1.02)"
   ]
  },
  {
   "cell_type": "markdown",
   "metadata": {
    "id": "_cwOX2RZwocH"
   },
   "source": [
    "<h4>⬇ <b style=\"color:orange;\">Instruksi</b>: Ubah \"<b style=\"color:yellow;\">[fix_me]</b>\" dengan code yang benar!</h4>"
   ]
  },
  {
   "cell_type": "markdown",
   "metadata": {
    "id": "RRAKHzTtwocH"
   },
   "source": [
    "<h4>⬆ <b>Expected <span style=\"color:tomato;\">Output</span></b>:</h4>\n",
    "\n",
    "<img src=\"https://lh3.googleusercontent.com/fife/ALs6j_FEAoR22pMbA3KZbjuu-7xLlBZm1o6CUfch0ksEqkXNRzNFADesqYl0DfwiYkoIHumjzmqsOMvIa8i748RiBnyCnQhU4_AEo1Dd1GBpmiSiAJIvzRuTJUNxoQMJ5mgpUoVjSYbjNY93zlKa8i5F7aJuakHWq_gUf1X2pukhsNUk40J-8HJ5dlSn34phgrPxE3RM_YWrXgBbCSohNCrSuLlwgpjAXUg2AnnO81ofMwzPq8e6_rEdZI5qHNjS4zQuJM-0roXqBhUVs1HJIbgN64ZEbfCTb39EEdw70RungONwFsyT33G3jDE0Hcq1FQwTyMtVSZLpD1sEblN_YtKTIR6ebkAwBGc0EkPC2WIxCypaxdckuUGw7-StVewR1lR3Vw-40WRYSIKXSy5kqrGRfrrdSe4p67gUJcATSKXXlgF1j5BU7G34kSuZG1y1Uxbo5Vs4UvrOfM_DicY9J_TCuhtf-29XjrWMxNFdHjRvz8r5BJ7jWLioxqZVy9NAjtFeZIXGfVJalBzPss4_SyCQIRvlwgH3ym7rwaqZXFVc057fGrqdBlJvkdWIAcKalXBPrUF_AGAZ28ANlTmkla5aQyyyubVqV2y-Dk3CjkVehiUxMXN-nZk6V1tViiZtnCIMuX5NKmwCuA36DEJHYZSzJJ7c6TrMIBs8zKMVwMPeLMD7dskXvWcla43sO9PZ8H7D_izZXOITq35oYcwCPU8iS6g7VfsJ2R4bUVJ3KdZsSdye0fcD7K2o-zkbqol8EkCLKUOo8GFJdCht_D307h8l7rUawsMK8VWUb0mEyc9EIc7GXvmhCS-TaorUPtoAMX93M4s_oNo3ItgI5kDPJZQTs-Lq9XqelsC6mEarZx0zAciKlRnYhu9RmcdMA_9ZGPP1e3FHpsqzUxWlvVTAZacOon6uqDj_1jzJQgkWoYXBaSy23wHmmtOoVv21nJ8uQFT8_mnrOaSnpf2ADbb7h-6mLf8tl90yWSOS1MRimQqga8qHFF1Oy5WY2aypjGRidGhzUv88C-_uLTZlROC1fLvYFphtnjRRuBy9FqUvRy8SFn_2rTVmVAEIcxkhlodZ3Gh3HuU8yEaqNuTUvIrif7sdZZxBQsv7lQRVuoSh1lfVFnz7axOBvtQX03OEgl7_ebVeWVzNlwZuljt6aTd5GvwoL5SAxgBZpuaPNtNpGbpY92A7_5J1-Ij3Zscm0kjGZhsbnWsRSOusS-x4eWRnk0WDEO5iOPP0xZnvOesaJoExnVbWhBi_yTqdSVcJ0Z6qTO6kitmnzZOiIvHDudK5PlhOJBdVSh1G5yT-ZbUoLhYmsiJMC6_gAXkoOUB_PwhqT9DvcEQ-Bti_6hjJpYKzhWe8SOLTI7PI9IzY0V_JOCfW7ZtNa8wpZSIx2-cv3m3Ho_ZXNglrnMfs4i37HZqpzFrEnMlTfWz3zUKZ8WUkcYz67mXTsu7AfFPCAcOE1xt0Yv47atLhXp8YnV8da_FHlZdl3M-PJ1d6RKqO7hJMOOcRfNxnvsZTXOkiZ-cI4w8ApuMvROUB0G9bp1y_-Ewb4L5lxbSqhUDNCxztXEfpYaDP7zWTYLo5GvfFV7HF5vaIgYNNU-BepjMDxDJ_EDIJgklwViHL6O4oRoqoDm9_hO5aky1PLnGRuF3qZ5V9PWlIwQM2KGNB5sdu4rJhseZ6iqjpZA-EF20aySeYcPe-nbTb094Av7yerzYFCPeB7IzHifFW9tWSiYbX6u8WyUFFHTxT2N368bhRFPq17Y8Mb36uA_8Ed9IhWz5rRcmIDWZK9NVm9cdmbCghjzZL8JeKQtEZJffzcWizPQP95SgavWkx=w1920-h936\" alt=\"img_5.png\" width=\"600\">"
   ]
  },
  {
   "cell_type": "markdown",
   "metadata": {
    "id": "w9XdPh27wocH"
   },
   "source": [
    "<h4>⬇ <b style=\"color:orange;\">Instruksi</b>: Isi <i style=\"color:yellow;font-weight:bold;\">code-cell</i> berikut agar menghasilkan <b style=\"color:tomato;\">output</b> yang sesuai!</h4>"
   ]
  },
  {
   "cell_type": "code",
   "execution_count": null,
   "metadata": {
    "id": "AsphAmudhdUS"
   },
   "outputs": [],
   "source": [
    "# Tampilkan bar-chart dari distribusi atribut Uniformity_of_cell_size\n"
   ]
  },
  {
   "cell_type": "markdown",
   "metadata": {
    "id": "JELxDJ6RwocI"
   },
   "source": [
    "<h4>⬆ <b>Expected <span style=\"color:tomato;\">Output</span></b>:</h4>\n",
    "\n",
    "<img src=\"https://lh3.googleusercontent.com/fife/ALs6j_GdozB88Z3hzTyQ77vh_qiwlxfP9Iouhpd7v8MqBoyN9CaIUkcBx2H6rKZ8Z4OxiNJ-tLmO5CW8IWMmrIZAGUOdRdYbIT2z9gmhtxDBZzUh40AmuFA8FNDre0u-yrR1J3pyAzWu84hp3XvAk_p7wmYJB1D2sOa5sggcd4nh1IIGQVSPMHEP0U6rkPqkis_LJ9W77e0kbs4OYwPVa74map5WU6ucpmRHVIk69Pb6hDB1kb_Dxu137gY3Pz8IwTR6ePSQDxdv3oCLmTnZII2Z6AN268L9XQeWHx6yBnBlvmZdsUZG4w0GtkGaJwa0tAncKaXHc1LKQu13QnufaESyvb5q9rYmSUvA7b3LIV_M9tg-Xz1Ql44ay80jb33u8-5dxH_I2a2ugtYavP9rRB6YijVdcj3F1gWc1biR5Gro5449_ObNx5XmxPNyz12NcxSfssCQt43CiBotq-kuT-So_4mPcWGmgthcRQrGVX2qVv8Nf_ZFWRTq0UdcCfrhRqaoZEecXmS9cO8_u1OSNahWgGXFrQWA5ET9LcMj2Ci9Z18EDaZv9RRrNEtC-mab7paM8MgHM50tT4h9hW5tOISEadKhuwGzbn4VObeX-kH0PsWiOuwXcpQIGg2Nk2ZH1GCVmIU-z2JDpzR_e6xdRoXlezIyskbXgvaVDKLkfkt2k2rzEVydf69t1DEIYo4UXGuKlqMnhmNKwLbPu_7_aN-qVDu4jfSPoJJXqXxoSvjhkHSZSnJ21aqXydwM-BYecbqW1XbpAko4H6lDAVqJGQ6rSwjAtzEsHcMFEqGskfD-lCE3xmk1TqaK8YXEwroVDqt-yMwGr2V-gZvicggbXddZuAWrF4rd9TFWQw_MpiD4p-7Tnoshjk5QOJ5lEYEQlxUvMSwoMFXZ0zgEj8FpTrkjZ1edjwxzP8sjwXR3TiKCYpVsrdVjxh3aCeIkDyHGbfP6wYj9Bpuz3GWQ081810UsaD46p21_x0R1fxE3xBJPxvERVjEhIHfl-xZeFu-OQts4d2egyfrVJgU9iFW-WwfX8W5BdrL5RZwlC1jkzAkLAsfdrl0_T8H52PvFM_lzkkcL-5XCJcSmY4G-eoZ3KK9sdprAUe-exWzU1IeGS-uTZViECHLvSv8LPv8CO5KwnUq1jqw76NECXGVq4_YZgImFP4d_2RyM3-_xGB_3yacEfFFkxKmAt311FPIfIQ3mNo1ic3s0n-UTkekdx8ak2ZeUz1kF6GkQaQsKFR-AQ94mtOyuMtO2hH6WnNdVsXLOVTUySvfJfUHSI5ULQiaUBvs7vDtddglNmXP2eQVB-YCix27jVBMmwkwcO2ls3k8EiYIj-cUiqxCwDOSFVmcZ3bupKfxJGhbbiAR41qnm5EgvjXM7J5g6gtwP5qM_mRaGry4ls9v8VllfWTycp34O_QaNlrgWrrwHAD-7YtLt8q0FFPUfOKd0DUm38_B9tv23x-voc0RULGUHzqBKxs3eDNZ25u3XUB9SuEZ94afMERz64Sap69xs5af3oBMFUgROrv9fRJ5h3Gkwb8uxgcI3jgItxZLwJ12GdbuoeyoqV8PdWMBCxPqr9UufNQ54nqIel7fRgCQ2K0rcguH3HkN8YDb9N1WW-THrcC4oNpCCeOtPxoFgLZa3VsI2xQ5qxZBGOnrLzwnkM-uUAU0eJePeAaLLKqeVBHFo8IFq7poldAOXc-Qs-xCJEi_NAxfOYgK4GyY4qeCjjhJ29j5nzUHHzEl3VEu0y7e3jP9ELxZkVKG3-tsz1JW6ORy19kKizyuZX_mMtD4JiJgfzzBUcbx5WVvbgqyXWD0GrB_EyhXGj0MS=w1920-h936\" alt=\"img_6.png\" width=\"600\">"
   ]
  },
  {
   "cell_type": "markdown",
   "metadata": {
    "id": "HwqR4k5xwocI"
   },
   "source": [
    "<h4>⬇ <b style=\"color:orange;\">Instruksi</b>: Buatlah <i style=\"color:yellow;font-weight:bold;\">bar-chart</i> untuk <b><span style=\"color:tomato;\">9</span> fitur/atribut</b> lainnya!</h4>"
   ]
  },
  {
   "cell_type": "code",
   "execution_count": 14,
   "metadata": {
    "id": "dSkcHghMwocI"
   },
   "outputs": [
    {
     "data": {
      "text/plain": [
       "Text(0.5, 1.02, 'Distribusi')"
      ]
     },
     "execution_count": 14,
     "metadata": {},
     "output_type": "execute_result"
    },
    {
     "data": {
      "image/png": "[encoded data removed]",
      "text/plain": [
       "<Figure size 700x600 with 1 Axes>"
      ]
     },
     "metadata": {},
     "output_type": "display_data"
    }
   ],
   "source": [
    "# 1. distribusi atribut Uniformity_of_cell_shape\n",
    "dataset['Uniformity_of_cell_size'].value_counts().plot(kind='bar', figsize=(7, 6), rot=0)\n",
    "plt.xlabel(\"Uniformity_of_cell_size\", labelpad=14)\n",
    "plt.ylabel(\"Jumlah\", labelpad=14)\n",
    "plt.title(\"Distribusi\", y=1.02)"
   ]
  },
  {
   "cell_type": "code",
   "execution_count": 15,
   "metadata": {
    "id": "pKIyUsEMwocI"
   },
   "outputs": [
    {
     "data": {
      "text/plain": [
       "Text(0.5, 1.02, 'Distribusi')"
      ]
     },
     "execution_count": 15,
     "metadata": {},
     "output_type": "execute_result"
    },
    {
     "data": {
      "image/png": "[encoded data removed]",
      "text/plain": [
       "<Figure size 700x600 with 1 Axes>"
      ]
     },
     "metadata": {},
     "output_type": "display_data"
    }
   ],
   "source": [
    "\n",
    "# 2. distribusi atribut Marginal_adhesion\n",
    "dataset['Marginal_adhesion'].value_counts().plot(kind='bar', figsize=(7, 6), rot=0)\n",
    "plt.xlabel(\"Marginal_adhesion\", labelpad=14)\n",
    "plt.ylabel(\"Jumlah\", labelpad=14)\n",
    "plt.title(\"Distribusi\", y=1.02)"
   ]
  },
  {
   "cell_type": "code",
   "execution_count": 16,
   "metadata": {
    "id": "-IBZAg6cwocI"
   },
   "outputs": [
    {
     "data": {
      "text/plain": [
       "Text(0.5, 1.02, 'Distribusi')"
      ]
     },
     "execution_count": 16,
     "metadata": {},
     "output_type": "execute_result"
    },
    {
     "data": {
      "image/png": "[encoded data removed]",
      "text/plain": [
       "<Figure size 700x600 with 1 Axes>"
      ]
     },
     "metadata": {},
     "output_type": "display_data"
    }
   ],
   "source": [
    "\n",
    "\n",
    "# 3. distribusi atribut Single_epithelial_cell_size\n",
    "dataset['Single_epithelial_cell_size'].value_counts().plot(kind='bar', figsize=(7, 6), rot=0)\n",
    "plt.xlabel(\"Single_epithelial_cell_size\", labelpad=14)\n",
    "plt.ylabel(\"Jumlah\", labelpad=14)\n",
    "plt.title(\"Distribusi\", y=1.02)\n"
   ]
  },
  {
   "cell_type": "code",
   "execution_count": 17,
   "metadata": {
    "id": "_A1lLPjYwocJ"
   },
   "outputs": [
    {
     "data": {
      "text/plain": [
       "Text(0.5, 1.02, 'Distribusi')"
      ]
     },
     "execution_count": 17,
     "metadata": {},
     "output_type": "execute_result"
    },
    {
     "data": {
      "image/png": "[encoded data removed]",
      "text/plain": [
       "<Figure size 700x600 with 1 Axes>"
      ]
     },
     "metadata": {},
     "output_type": "display_data"
    }
   ],
   "source": [
    "# 4. distribusi atribut Bare_nuclei\n",
    "dataset['Bare_nuclei'].value_counts().plot(kind='bar', figsize=(7, 6), rot=0)\n",
    "plt.xlabel(\"Bare_nuclei\", labelpad=14)\n",
    "plt.ylabel(\"Jumlah\", labelpad=14)\n",
    "plt.title(\"Distribusi\", y=1.02)\n"
   ]
  },
  {
   "cell_type": "code",
   "execution_count": 18,
   "metadata": {
    "id": "z1Y81yP2wocJ"
   },
   "outputs": [
    {
     "data": {
      "text/plain": [
       "Text(0.5, 1.02, 'Distribusi')"
      ]
     },
     "execution_count": 18,
     "metadata": {},
     "output_type": "execute_result"
    },
    {
     "data": {
      "image/png": "[encoded data removed]",
      "text/plain": [
       "<Figure size 700x600 with 1 Axes>"
      ]
     },
     "metadata": {},
     "output_type": "display_data"
    }
   ],
   "source": [
    "# 5. distribusi atribut Bland_chromatin\n",
    "dataset['Bland_chromatin'].value_counts().plot(kind='bar', figsize=(7, 6), rot=0)\n",
    "plt.xlabel(\"Bland_chromatin\", labelpad=14)\n",
    "plt.ylabel(\"Jumlah\", labelpad=14)\n",
    "plt.title(\"Distribusi\", y=1.02)"
   ]
  },
  {
   "cell_type": "code",
   "execution_count": 19,
   "metadata": {
    "id": "KBTZq2FiwocK"
   },
   "outputs": [
    {
     "data": {
      "text/plain": [
       "Text(0.5, 1.02, 'Distribusi')"
      ]
     },
     "execution_count": 19,
     "metadata": {},
     "output_type": "execute_result"
    },
    {
     "data": {
      "image/png": "[encoded data removed]",
      "text/plain": [
       "<Figure size 700x600 with 1 Axes>"
      ]
     },
     "metadata": {},
     "output_type": "display_data"
    }
   ],
   "source": [
    "# 6. distribusi atribut Bland_chromatin\n",
    "\n",
    "# 6. distribusi atribut Normal_nucleoli\n",
    "dataset['Normal_nucleoli'].value_counts().plot(kind='bar', figsize=(7, 6), rot=0)\n",
    "plt.xlabel(\"Normal_nucleoli\", labelpad=14)\n",
    "plt.ylabel(\"Jumlah\", labelpad=14)\n",
    "plt.title(\"Distribusi\", y=1.02)"
   ]
  },
  {
   "cell_type": "code",
   "execution_count": 20,
   "metadata": {
    "id": "hZgeTQaGwocK"
   },
   "outputs": [
    {
     "data": {
      "text/plain": [
       "Text(0.5, 1.02, 'Distribusi')"
      ]
     },
     "execution_count": 20,
     "metadata": {},
     "output_type": "execute_result"
    },
    {
     "data": {
      "image/png": "[encoded data removed]",
      "text/plain": [
       "<Figure size 700x600 with 1 Axes>"
      ]
     },
     "metadata": {},
     "output_type": "display_data"
    }
   ],
   "source": [
    "\n",
    "# 7. distribusi atribut Mitoses\n",
    "dataset['Mitoses'].value_counts().plot(kind='bar', figsize=(7, 6), rot=0)\n",
    "plt.xlabel(\"Mitoses\", labelpad=14)\n",
    "plt.ylabel(\"Jumlah\", labelpad=14)\n",
    "plt.title(\"Distribusi\", y=1.02)\n"
   ]
  },
  {
   "cell_type": "code",
   "execution_count": 21,
   "metadata": {
    "id": "IXmR9tnswocK"
   },
   "outputs": [
    {
     "data": {
      "text/plain": [
       "Text(0.5, 1.02, 'Distribusi')"
      ]
     },
     "execution_count": 21,
     "metadata": {},
     "output_type": "execute_result"
    },
    {
     "data": {
      "image/png": "[encoded data removed]",
      "text/plain": [
       "<Figure size 700x600 with 1 Axes>"
      ]
     },
     "metadata": {},
     "output_type": "display_data"
    }
   ],
   "source": [
    "# 8. distribusi atribut Class\n",
    "dataset['Class'].value_counts().plot(kind='bar', figsize=(7, 6), rot=0)\n",
    "plt.xlabel(\"Class\", labelpad=14)\n",
    "plt.ylabel(\"Jumlah\", labelpad=14)\n",
    "plt.title(\"Distribusi\", y=1.02)\n"
   ]
  },
  {
   "cell_type": "code",
   "execution_count": 24,
   "metadata": {
    "id": "P4s5kwqMwocK"
   },
   "outputs": [],
   "source": [
    "# 9. distribusi atribut Sample_code_number\n",
    "sample_code_number = dataset['Sample_code_number'].value_counts()\n",
    "\n",
    "scn_dict = {\n",
    "  'SCN yg digunakan hanya 1 kali': 0,\n",
    "  'SCN yg digunakan 2 kali': 0,\n",
    "}\n",
    "\n",
    "for key, count in sample_code_number.items():\n",
    "  if count > 2:\n",
    "    scn_dict[str(key)] = count\n",
    "  if count == 1:\n",
    "    scn_dict['SCN yg digunakan hanya 1 kali'] += 1\n",
    "  if count == 2:\n",
    "    scn_dict['SCN yg digunakan 2 kali'] += 1\n",
    "\n",
    "x = list(scn_dict.keys())\n",
    "y = list(scn_dict.values())"
   ]
  },
  {
   "cell_type": "markdown",
   "metadata": {
    "id": "kfSAcvQrwocL"
   },
   "source": [
    "<h4>⬇ <b style=\"color:yellow;\">BONUS STAGE 1 <span style=\"color:tomato;\">(Challange)</span></b>:\n",
    "<br><br>\n",
    "Seperti yang bisa kita lihat diatas, kita tidak dapat memperoleh infomasi yang berarti dari bar-chart <i style=\"color:yellow;\">Sample_code_number</i> tersebut.\n",
    "<br><br>\n",
    "Maka dari itu, Buatlah <b style=\"color:orange;\">bar-chart</b> lain untuk atribut \"<b style=\"color:yellow;\">Sample_code_number</b>\" dengan mengelompokkan data yang memiliki kesamaan seperti contoh di-bawah!</h4>"
   ]
  },
  {
   "cell_type": "code",
   "execution_count": 25,
   "metadata": {
    "id": "tDyaOF7EwocL"
   },
   "outputs": [
    {
     "data": {
      "text/plain": [
       "(0.0, 50.0)"
      ]
     },
     "execution_count": 25,
     "metadata": {},
     "output_type": "execute_result"
    },
    {
     "data": {
      "image/png": "[encoded data removed]",
      "text/plain": [
       "<Figure size 1000x600 with 1 Axes>"
      ]
     },
     "metadata": {},
     "output_type": "display_data"
    }
   ],
   "source": [
    "# Tampilkan bar-chart dari distribusi atribut Sample_code_number seperti contoh di-bawah\n",
    "sns.set_theme(font_scale=1.0)\n",
    "plt.figure(figsize=(10, 6))\n",
    "plt.bar(x, y)\n",
    "plt.xlabel('Sample_code_number', labelpad=14)\n",
    "plt.ylabel('Jumlah', labelpad=14)\n",
    "plt.title(\"Distribusi Sample_code_number (Semi-grouped)\", fontdict={'size': 16}, y=1.08)\n",
    "plt.xticks(rotation=60)\n",
    "plt.ylim(0, 50)"
   ]
  },
  {
   "cell_type": "markdown",
   "metadata": {
    "id": "TJ-dzCUbwocU"
   },
   "source": [
    "<h4>⬆ <b>Expected <span style=\"color:tomato;\">Output</span></b>:</h4>\n",
    "\n",
    "<img src=\"https://lh3.googleusercontent.com/fife/ALs6j_EpRyK76CJDFmRQAe8H7hTbaqprFC4PlO166_FZmlZLLyfgT_tB6Plu01ra9POPXzwJezNflnesI0dLMywuFwYuVGLdNqISeYeqvhE2pKt-p5DJ4WatesOcgfa8FCYUg8mR5fWef1oZey9ATGrew79iO1zse0vUf0S2w5Wk2YCnXz3BAoU9JBOdzHgYiHdyQLzi_KU0pChy4nUBRTrGEKElYs77XReiOrvYP4hSNOKEKi5-GHhIRqJCkQb5qvS7D2U-WgvwlQXCMNzkUeFyazrZHHmRbJhwD_jvzGA2BemMqG3BtiHUOFfoE8f8UtXog5rCmdfkftWg2BpZ3KWyElYkN9ESwsJbumjz7RL8gNX5XU-Z2PQoqRlEdWipkUpUlOZbvKJsPLARJhsUblu2kJNhjUqhhsdHYgXUppmM7bVNAOVypdsdN9XNf8uoRNEedtgS6ZpqStCRRwXw7qjc-6nW8GbYW15X2hmnumdHIsgleLebPXuAySkDTTLBg8jZ8S3cFlLKJmTt2dm2J1bdnFCLeiHLS_-Fa68p5DMy_jLpZPLJpapBg7fCl4kFFMyBfc9maj7CPO5l0hpqsak3ENDFg2pH-S4H3UDosAlM9z_1iRM4bqV9gwPq9R04UDfKiuMDZMXg7o-RE1u2kpxmXsdsPGdEYTeIcgWem_OhZuSI3_98dZ6du4Yd-K08KbDmolnUxcVYVGzKigJ_2uURs00Hn3B4kXGafh67zcNrx_M9i8bCVKYfoc2w-DSrvahJioOFSg79MXu2yRCvD9tvlGRxeeqb6MmBfwN_76ssWEGigfuwMyzKX1BkoB2vkAealY5pRXjtNVXtea5gdhMRvU2X0ZPcH14Lp-NRzCAMSr0EfJB4-XGRgGa7rMI3-jMFbyplJU_YqpJJv5HfxJRMl7CYEyLfwNi6fJEFh3qn4-2t7K0UAq-n8Y9hMfH50lmsUjbn1QS3Z3-ICUKKChIc0d4OT0axOkKd5c08f1FLdEgm4sU1sw8HKusxUONcvROe6CerAV1VltpFnD69zaeHoZ4wBlsBDL84TVNovf-S750hDWmj8KmhEyvL7D9WAKkh4TLe77C8mT6_HI2E4uVIoBGgPH6L6KwfjeXeE2c4eRTUBpmC1AzyfiPv-bW0pGDXB_WGbW4T5BRpJ9gu3RWshKj_mf2btiAF37qVk2Tuzuyox7Jg01UkZgaKphMFOCoGgp0c7MbwxHAPDdlVvWyXSjuF1abDW52Kr1FqGPIG7Dx4qJ3cKQALoHm2s1i1OIzpj5Dm8ZOyF7P1khvEI-fO3UiojeyrLc8KslUO6Nd8wpHONJBSG59PkPqQYWnT5lg-j0LohCfWyp0gVgKwxhSp1Z55l45eDDBtkx6X85rPTaUHq6BvBU_1k6uFaYz-IWxQBb96D-7aJqtfdakk7UlsPMmFRrV2zWm--hVsbyYOEmHbWW26dmY55Cn4gQcVfzPDb9l9Kl7BjW_cgIpXBzs3w5GXlinpVmTH68AdV1e4QtnPrtNhB6GbtC08fsBqozM3NXtu8VYa3dgc6cHryeCy4K-dcVPEU58AYEdUfOKsD0ZG_MNpPHRvqhpieLNXszitTNjPQDxwpJrm1aGT1FjHTEjjK6CaLWNHWN_RIvNbaK4aIn_vAk4wFoceZW-D6NGIrglAPQ1sLA-xA8xwao6iGwbUVX-mdsbV7BdI4ffMbyKCnISz0LMoo76EkhIgvfSr2Wg8nF9BxDDC0qX-9fo5uOnwO7BLLEp2MosTvUibtFkPAaTl0rnVXR-LL-kgvwFODHpzz36w-dTlJexZ4wXw8YWbvBNpHPnniOBLwPs=w1920-h936\" alt=\"img_7.png\" width=\"700\">"
   ]
  },
  {
   "cell_type": "markdown",
   "metadata": {
    "id": "fQj8xFobgKiR"
   },
   "source": [
    "## <b>3) Memvalidasi Data</b> <a class=\"anchor\" id=\"h3\"></a>"
   ]
  },
  {
   "cell_type": "markdown",
   "metadata": {
    "id": "zzxd6p8z73bT"
   },
   "source": [
    "<h4>Dalam aktivitas ini, Anda harus dapat melakukan pengecekan atas data yang Anda gunakan apakah terdapat missing value, noisy data, atau data yang tidak sesuai lainnya</h4>"
   ]
  },
  {
   "cell_type": "markdown",
   "metadata": {
    "id": "7aPxo2GIiA3W"
   },
   "source": [
    "<h4>\n",
    "  ###<b style=\"color:yellow;\">Essay 1</b>\n",
    "  <br>\n",
    "  Deskripsikan Temuan Anda disini:\n",
    "</h4><br>\n",
    "\n"
   ]
  },
  {
   "cell_type": "markdown",
   "metadata": {
    "id": "mF37MxRrwocV"
   },
   "source": [
    "<h4>*Lihat <b style=\"color:yellow;\">informasi dataset</b> pada file \"<span style=\"color:orange;\">breast-cancer-wisconsin.names</span>\"</h4>"
   ]
  },
  {
   "cell_type": "markdown",
   "metadata": {
    "id": "wQlAuK12gTC4"
   },
   "source": [
    "## <b>4) Menentukan Objek Data</b> <a class=\"anchor\" id=\"h4\"></a>"
   ]
  },
  {
   "cell_type": "code",
   "execution_count": 22,
   "metadata": {
    "id": "sRgJ6YfSlNg7"
   },
   "outputs": [],
   "source": [
    "import numpy as np"
   ]
  },
  {
   "cell_type": "markdown",
   "metadata": {
    "id": "fv5RbIVPwocW"
   },
   "source": [
    "<h4>⬇ <b style=\"color:orange;\">Instruksi</b>: Ubah \"<b style=\"color:yellow;\">[fix_me]</b>\" dengan code yang benar!</h4>"
   ]
  },
  {
   "cell_type": "code",
   "execution_count": 26,
   "metadata": {},
   "outputs": [],
   "source": [
    "#menghapus fitur yang tidak dapat digunakan\n",
    "columns_to_drop = ['Sample_code_number']\n",
    "dataset = dataset.drop(columns_to_drop, axis=1)"
   ]
  },
  {
   "cell_type": "markdown",
   "metadata": {
    "id": "JOlA_gIXwocW"
   },
   "source": [
    "<h4>⬇ <b style=\"color:orange;\">Instruksi</b>: Ubah \"<b style=\"color:yellow;\">[fix_me]</b>\" dengan code yang benar!</h4>"
   ]
  },
  {
   "cell_type": "code",
   "execution_count": 27,
   "metadata": {
    "id": "JiuAZXtxlEyX"
   },
   "outputs": [],
   "source": [
    "#menggantikan nilai \"?\"\n",
    "dataset.replace(\"?\", np.nan, inplace= True)"
   ]
  },
  {
   "cell_type": "markdown",
   "metadata": {
    "id": "kCpJmHjYwocW"
   },
   "source": [
    "<h4>⬇ <b style=\"color:orange;\">Instruksi</b>: Isi <i style=\"color:yellow;font-weight:bold;\">code-cell</i> berikut agar menghasilkan <b style=\"color:tomato;\">output</b> yang sesuai!</h4>"
   ]
  },
  {
   "cell_type": "code",
   "execution_count": 28,
   "metadata": {
    "id": "oQZf44DmjvbN"
   },
   "outputs": [
    {
     "name": "stdout",
     "output_type": "stream",
     "text": [
      "<class 'pandas.core.frame.DataFrame'>\n",
      "RangeIndex: 699 entries, 0 to 698\n",
      "Data columns (total 10 columns):\n",
      " #   Column                       Non-Null Count  Dtype \n",
      "---  ------                       --------------  ----- \n",
      " 0   Clump_thickness              699 non-null    int64 \n",
      " 1   Uniformity_of_cell_size      699 non-null    int64 \n",
      " 2   Uniformity_of_cell_shape     699 non-null    int64 \n",
      " 3   Marginal_adhesion            699 non-null    int64 \n",
      " 4   Single_epithelial_cell_size  699 non-null    int64 \n",
      " 5   Bare_nuclei                  683 non-null    object\n",
      " 6   Bland_chromatin              699 non-null    int64 \n",
      " 7   Normal_nucleoli              699 non-null    int64 \n",
      " 8   Mitoses                      699 non-null    int64 \n",
      " 9   Class                        699 non-null    int64 \n",
      "dtypes: int64(9), object(1)\n",
      "memory usage: 54.7+ KB\n"
     ]
    }
   ],
   "source": [
    "# Tampilkan informasi dari dataset\n",
    "dataset.info()"
   ]
  },
  {
   "cell_type": "markdown",
   "metadata": {
    "id": "hoCTyZGwwocX"
   },
   "source": [
    "<h4>⬆ <b>Expected <span style=\"color:tomato;\">Output</span></b>:</h4>\n",
    "\n",
    "<img src=\"https://lh3.googleusercontent.com/fife/ALs6j_GMlMk_Z65qemH97mibhQ4C_7wJux1uyR6an7PjXJKGp8uFHJN4gws2i415Da6yMq_BqlWGEjC7OJFLWPN--vMh2aph26r4PDRy2mJ9cGu_7m3c9oaE2AfAkCqTzm3HwNUHYBivrrZ_0C8LZM84C8SxZGIWdub-DLoacelFXpq7huTeEngH2U-WE5fiSwhuZUQ7tfeL2ci2LdMUbQkHlSUaD3aFMWJp9Qe6C5tLQHnr64pXLJjZjrJs9OYo_AFu2Uzqqi4DUqmyaGPEfMVdF1nz8z3NQnBbSrYSqFZkctwMnlffFCGItwvRQyxkaL1Uw2WdG_IQwvxoHOTzrdqQ7U43CLUWXg09MsEpZsEjAOymViKSQhqX4nNTt0eZACKATgkQszBtY15dEgb1EVOJfZUo4Hyi-7CayaYUmo75UYUMg8VNLbwsO0sBnI_40T2F71wHBOFW26PYwedJ7i03WcKbovDQZPu2RQKCxqO9lCbGCdM5vo9GH2oXcjlW6NBKWwV4iwKTgG5ldI18ukM42NtxPeLP9V1TZCXOYWg9SQVvyXC_ZKDquQFLViV0lj2uKdbmSK8_3jILp6ZXKjFpC4NkpuLAVz5gHjJuOY7ZIOa89lEEyGu61xujs7pWu-BxcZfWFFMIjSsnquJtinjGCNN0Fu3R1iG4ee8BMfTAjWxxW2Xt207VGBs8whoj3tSJ4gExm6RFsbiz_xbapQxi25zZ6MJckUnaE3nRzi3Pc2f2SjPWiBB65gPyiZzoZ2BUtD1ozFHwbSznVsFUbxs_57nhxZqKEJScvUbju__8NpfOFvFskUXgwFsoU9AO8Ms9HMTDbuP1VMGC-qsvLOtm3KzFkEh4sk1HCZzPykjg1FhmWgfp6FLrRSQokH2s6R2b4pv8LmTwUkJjxJ4Os7oKjQzY_XDKmYLZ6RKjSif5ITCykyIVs-d65jDiF1_MrUiv4XmwzKZqEHJ0WyECcdIVVB6rUtHhii2ZrVk3j8-Tdc-7ztiCda9BbBDCyDCZuuIfSHUsAMMWBPZdP6Tg1Zs8bsSKSlBWzlKDV0JZ2LSv6s8tj74KAXhiMKmDxZBbFs2GycV5oEzSsh3OxbKWyLbiDsaRe1NS7WxUQmNJBSWrxxbr4XuCay7vDElM57hF0TBD-wZ3eVwoRn31PgGjd5X533sS7V-ydZfhLDvrdIqWdURtdYOgzkVqwp2qTSKsWga3HAVriAlRVwjBlZnb2j1cTzR2iVt990z7J2GpBIW6UggMDVvORhuh8ucy23zFVU3SA8C2lAXY3JoY0slsaRc8mVbYyfprcLEOQGHs30VJ4S4vJLuvzvtHkF8o57e6wohqUNI_ElX2Qqz_-3JUn5AeDNEso7bztLwlPvw6a3t69Mo6DjSIyehsGBfuRkTkYU6_iUMEHLI36WSrm0A6tv62lWwka0HZA0iNAdWJjB0zyiCTAHsC_5C9EHZM2EucVr2EdbgAJ7Q7DDHswJdAo1aUWq4rCldOPkKL5eOpwzWp6pkv_f2JSlh1zEPfpb79n8cDrXef1apze-TaG5OTmJIX-l5uMrEQ14is41xIvBAm92Wf3QQEwncuASYas7dNNOMNMyiArtehYRv-fRMKTkKNMt5sjKbkg5fVibhJohfUTJf2mZ39IJxIm1EmPa5emhJt5qgRKQR1DToTyDDoMFo8hpAEW-mH0EW7EsmmyuMqfHrl_4AjFi781SoSo0GS4bOw-qMHH4Wn0gh2c5XPeM_dJxuGZP3XhfoqPbDWa5VzssdDTzftr-55bI2RCGSUFfixoR8puGIQkLegU5kO1wtGn6r_xDdKplaAY3Y6-0Zu=w1920-h936\" alt=\"img_8.png\" width=\"400\">"
   ]
  },
  {
   "cell_type": "markdown",
   "metadata": {
    "id": "W3Do3oCU8Lnp"
   },
   "source": [
    "<h4>\n",
    "  ###<b style=\"color:yellow;\">Essay 2</b>\n",
    "  <br>\n",
    "  Deskripsikan Temuan Anda disini:\n",
    "</h4><br>\n",
    "\n"
   ]
  },
  {
   "cell_type": "markdown",
   "metadata": {
    "id": "CsEN5ZczgTjL"
   },
   "source": [
    "## <b>5) Membersihkan Data</b> <a class=\"anchor\" id=\"h5\"></a>"
   ]
  },
  {
   "cell_type": "markdown",
   "metadata": {
    "id": "pf7IKDZQwocX"
   },
   "source": [
    "<h4>⬇ <b style=\"color:orange;\">Instruksi</b>: Isi <i style=\"color:yellow;font-weight:bold;\">code-cell</i> berikut agar menghasilkan <b style=\"color:tomato;\">output</b> yang sesuai!</h4>"
   ]
  },
  {
   "cell_type": "code",
   "execution_count": 30,
   "metadata": {
    "id": "pKhib6E0iOxb"
   },
   "outputs": [
    {
     "data": {
      "text/plain": [
       "Clump_thickness                 0\n",
       "Uniformity_of_cell_size         0\n",
       "Uniformity_of_cell_shape        0\n",
       "Marginal_adhesion               0\n",
       "Single_epithelial_cell_size     0\n",
       "Bare_nuclei                    16\n",
       "Bland_chromatin                 0\n",
       "Normal_nucleoli                 0\n",
       "Mitoses                         0\n",
       "Class                           0\n",
       "dtype: int64"
      ]
     },
     "execution_count": 30,
     "metadata": {},
     "output_type": "execute_result"
    }
   ],
   "source": [
    "# menghitung nilai Null pada dataset\n",
    "dataset.isnull().sum()"
   ]
  },
  {
   "cell_type": "markdown",
   "metadata": {
    "id": "pveiBCjUwocY"
   },
   "source": [
    "<h4>⬆ <b>Expected <span style=\"color:tomato;\">Output</span></b>:</h4>\n",
    "\n",
    "<img src=\"https://lh3.googleusercontent.com/fife/ALs6j_G5XR117eaM8wjsnvqiwPL4q-dcSeeANlkzf-gEBLSizGzTzBK3Vo5KS4PEvWpJX9AgmL1zZxsyG9OKtHMP-CKmeNB7sCdM1xsLNgc6nuZYaJQ8hBdYDU4gDIwNtMnZafLWmd4LspYyxuchdS-2uwxzHfoCTNVVyplnWqY1DfJfWvoVea2IaJM1Q_P-itaLCYFJ2VjgkECPquX_8ePKXBVnjDPryViEb9G4aBD3Esql5UcBZ0ybiVOHrQxwTB_7tN8y8tClSz9St7Sr4XSwzECSVi7NBliBsm6tLYNbHfTdpVJEFw5XpRELRT-7CZtPaMnaxGex9SUYew9fJqdW_7e6kDVjTs8Gb-Jwfx24Lyeh0Jlwcwmlj0xlHvLqH524Be6GnqZVjdHsbc2u4PnJDPgexTctD8__TS0ZFlZHdeMJ8x3Y7Ij0uNJLIFndr6drgm56WTZYenUgt60ktZECDYAUK_LQhAf7a9pSVB02ru2hBreX4YYaMISn5aneL-AF7UGodHHV5yymrDgpxXK6cDMwNUnHoeivliX-e8cpdijnSFP41xs3F0fR32uyj1rW5rj2c7pzRr6C5bMtbwnVT_5VeF5Qr6wYE2a5I6YOrq6h0qeQRwxHx9VmakGOUXqoIIqEIK1cLqeY79SheC0I9gx2_whN0Q3iE4yfYOxHwpKBabYRqqW4R3OiBcBCQl6N4_WdEYZ5bMPU6N7LJleE8Fnt76PBmR9uBGyKuUR3-VtDGSDU66B7w2HoEKnGfK2S_diUXPrRmxbSFs9rbpZEyAD12gj0ADk-OO9Tz_etDOI-VkyqbcQBmtf4CVMYXGlsmujNxLK2lXF09JdZbYrjFw0CpPOTSeuwF5S_7j6DSaR52Xf1x3L4xCrLoOJKLKFSenYNYDBZ6Ar6yP00j1Rbk9oWU36v6jjeCuejni2P1knkVcBBmShth_OHEcOO5qLSCtBPmKj1zYbXftnN7pgnfAjI-7SlEJQxSKQ3WOvM1AyJMBThjyMbiSkCsGFZwYelNqqcDF99deASxmmXqu_K8MKMj9hhbWKbQskmtE2NhkB2GZObbqpkkYxSW7-efoSDtf-OIEp0JoMwoWg2XsGdnFzX6-ZdrQ1BTF3Mee7Pj0-56QRdLZ-xQ4Rhgo7jGnq9kja4ybsb5b_PToK20T0zFd81EVi-IsrSmP2jYiUf6tFCuBz44sxc1jFw84N71TQ_wxYjNHi8mKJhjLzs_DYlghODXNga9py4EpOj7W3Av03JZnAyFRQuTQowiVlBaY4llStUtepHuO0b3kcpmHA22JS1rywFAfPmxRDGwBXgpZE3u4ZwCKVnfXnzyY_gxAdGJgiz7KPxQ08x8GN0qfvOMliMlCEZT0x5L91cIPjzGKoFbqkOAyq8Lgajiw8HLyxthcM1bk5cuhsoyKft9gnn4LTMcWeNFBLK0PxJHl1mzWSAq8x1QlUX3c_Am65vCBFjM0SUKlbGd3LocaP1TAqKF5k7wuEVFFDKpfN-Cy2d4_kDJIkbqE5zBuOpGpio9C8MQlDvvj7ypxSA8XbaxcTSJjtuB_4hrTJhgnvjnPiqH14QjVDhbQCAv5LGSXGIJ7ghdPBOMC8KMn47wQBF5Nxnlwl6xNQX_sEL1yfgRYbGwmyFxzmUMm8Rr4b_6QmjJ6KEf3OKXxvcb4euq4V5RfMK6Lp0s_Jq1sJmrPKdv0-RI74trDPNAdjOzCHkvnICPz_6_2p42bEvz8llY-tK1eP2vv9TZw_Lcu3KBiwPoQY8lEVVXVnVytjuwAG_bHHAIGYVcbkM3KDdS1va0VyYAl8DLde9TEKjeFdfp9vTU0S5=w1920-h936\" alt=\"img_9.png\" width=\"300\">"
   ]
  },
  {
   "cell_type": "code",
   "execution_count": 31,
   "metadata": {
    "colab": {
     "base_uri": "https://localhost:8080/"
    },
    "id": "VMry8X3xit9I",
    "outputId": "f41f2948-6ac1-434d-b232-e69bf13092fd"
   },
   "outputs": [
    {
     "data": {
      "text/plain": [
       "Index(['Bare_nuclei'], dtype='object')"
      ]
     },
     "execution_count": 31,
     "metadata": {},
     "output_type": "execute_result"
    }
   ],
   "source": [
    "# mendeteksi keberadaan nilai Null\n",
    "dataset.loc[:, dataset.isnull().any()].columns"
   ]
  },
  {
   "cell_type": "markdown",
   "metadata": {
    "id": "-0YkQ3FawocZ"
   },
   "source": [
    "<h4>⬇ <b style=\"color:orange;\">Instruksi</b>: Ubah \"<b style=\"color:yellow;\">[fix_me]</b>\" dengan code yang benar!</h4>"
   ]
  },
  {
   "cell_type": "code",
   "execution_count": 33,
   "metadata": {},
   "outputs": [],
   "source": [
    "# Mengubah Type data dari salah satu fitur\n",
    "dataset['Bare_nuclei'] = dataset['Bare_nuclei'].astype(float)"
   ]
  },
  {
   "cell_type": "markdown",
   "metadata": {
    "id": "e91hU2W5wocZ"
   },
   "source": [
    "<h4>⬇ <b style=\"color:orange;\">Instruksi</b>: Isi <i style=\"color:yellow;font-weight:bold;\">code-cell</i> berikut agar menghasilkan <b style=\"color:tomato;\">output</b> yang sesuai!</h4>"
   ]
  },
  {
   "cell_type": "code",
   "execution_count": 34,
   "metadata": {
    "id": "b7hLFQsImK8v"
   },
   "outputs": [
    {
     "name": "stdout",
     "output_type": "stream",
     "text": [
      "<class 'pandas.core.frame.DataFrame'>\n",
      "RangeIndex: 699 entries, 0 to 698\n",
      "Data columns (total 10 columns):\n",
      " #   Column                       Non-Null Count  Dtype  \n",
      "---  ------                       --------------  -----  \n",
      " 0   Clump_thickness              699 non-null    int64  \n",
      " 1   Uniformity_of_cell_size      699 non-null    int64  \n",
      " 2   Uniformity_of_cell_shape     699 non-null    int64  \n",
      " 3   Marginal_adhesion            699 non-null    int64  \n",
      " 4   Single_epithelial_cell_size  699 non-null    int64  \n",
      " 5   Bare_nuclei                  683 non-null    float64\n",
      " 6   Bland_chromatin              699 non-null    int64  \n",
      " 7   Normal_nucleoli              699 non-null    int64  \n",
      " 8   Mitoses                      699 non-null    int64  \n",
      " 9   Class                        699 non-null    int64  \n",
      "dtypes: float64(1), int64(9)\n",
      "memory usage: 54.7 KB\n"
     ]
    }
   ],
   "source": [
    "# Tampilkan lagi Informasi dari data\n",
    "dataset.info()"
   ]
  },
  {
   "cell_type": "markdown",
   "metadata": {
    "id": "yaZbSxYywoca"
   },
   "source": [
    "<h4>⬆ <b>Expected <span style=\"color:tomato;\">Output</span></b>:</h4>\n",
    "\n",
    "<img src=\"https://lh3.googleusercontent.com/fife/ALs6j_GzJkRwzQNOhMzkUoorrSn-fJqbaHtuCniI7n5Orvheg0k2pKcaMVkBod46dcQ9ZEeXanqjYsz5VcBz1ffhk2rRsAn3BkBkR-1xmH7DNVE9U74EF5DRGeyWXMxkKDMwEqokL5XGPEgcLLjCHYcCiopkh9D7X1ZVZUCQ216wnB0PxGhb3dYF_Fy5LtQSqvrsYMAVV-iDxr0yZXGLgTZhV7J3ytm8qTrjPZv8_0vIphFBuhSPnwb6vSFhCqJ9PXes8ttTL9H5l_epHVU0C00_E0uc0nfnDih96JPTNA5r5XidtkhXMzHx7CpsP0F9GPzy2yak7T5Y3b-QpUDnjaqALNAof90_183IDCM1uYVVHGkGOUBPl1WWAQt1MQHfCReOWwy7uE1FYIlY_3IIQjNLooxQgAoeLTP0QhrAYGgvj1u5XqChR_soy2jaUrk8g8gGnbnCbX8rfeyVmiHRXUNGF7sk8aWqkdipsLVAtmojwWvGYr_UzuIiAdKklVppleda_jUfFTGx0Rh2EojdHbzDI72kIikMO4XjzmkU2T2Jtix2P4L-cp8X-9sz6sq7hixRWlysGdbzqPwgo0_C1F7Eattl-AAlLKd7gFpk8WNo9tE0FeQgIiA4HSi-Zy4ILi895QwxhYZPE1X2chOqWGMBKK-wZ0Ts27G2fkHw0mXTyIfcUooQZOh6ev0oYtq0wGwgVGRyikxQbjif7ihrzoL2dubmGJmBwyljopJRa-JA9CIdAvy9NyTaRsEvjSzBj4ML32xBtCKErkxjlX-WRyeWXeVkOJLtgX7YEmfFAg16UmkUnnEH_EMkieHR3lV_CzKuoQKow4f1JylwLzMsqAYxnD2hNUSJB2eGNsdP_8FPfNfjsbxzEbfCwKUTrFQy_q3osGcGfrLhT5BOGTEb4x2SwBJaQMjQ_Mge9LRgZO6E6gpHnphEpg46iThxwcjKUJr70xuh6p4j3CYwsrgx9aJFcwF01dMc92RpfmH1FnAmLVukDFJRuQBDu7CqmnvHo4KBSERoUV3Vx89Hs_8pUfB8CgT-OxjnIutfO2Kw0Hh0i5sSbWC8Xz0K55Ka_zxYs_GbozIiqsNylmwvL2oQ8_W7M-BhNffzO9q_V8XjK7B37MmB7kwXC9gN14F5FssQqth6Lq35LU5_6EaQfckGOaLEWkKGSA02w62Rx1ias_lEZRhLciYGigXWB0b6-gU2Vo77PcjOvgXjSS7TEAZRuERuUT_BvUTAeoQpY4tHk-Kiwecjk3oDQ8p03bPrDZyeogCVv6yRviHWsGDwXvbU6nUf6gWDUqDJM8i8FWrguNrK4TNEBdYkL_yOxmYndjaZTAhR13jA_biMrhpwMA6LLaLRqt1V-1WoEnXmwTL4aMnBheW6iK373JoQDsqhFL-v9DfcflgNEDhbKtJQVJvLPvzpYGv6jS8QTp1gZG2qkDLPmSAcwt1rImjwXPs_4iWhjlSof7e0UNwQ7nyxkiYtr6pOHP3GVBof9p0JBUqWWgXP6J5cwvbrc7oP6KzAIfryLzzs3UBXTGSg_wrhrZ0nOU1YhS9hpSnMArnBSy0L1tGPxXia3EnW__9FS8PNawggb4HnYkXR19ZsUh2PMNhdgqgDqICS32hMLIS8xc5JN3lQ3YPUwKJVdim-3S1njq3inSFKPt0uaDaraUo3_jtXcEECGFX5AwQOnG-N_aFW6UZYtr_CfXoncrQMvqUtuCzI1Lf9xEsQfywWr7G4NPiH5mFz5fW04gw3yBqvF-kbrrP_jVv546E41Ytkg1k4Jx2OkKUo8WDj13ipARxU3VncNh7bJy0SpJbbCdWSpHi_-cio=w1920-h936\" alt=\"img_10.png\" width=\"400\">"
   ]
  },
  {
   "cell_type": "code",
   "execution_count": 36,
   "metadata": {
    "id": "XILNt56Fme9X"
   },
   "outputs": [],
   "source": [
    "import missingno"
   ]
  },
  {
   "cell_type": "code",
   "execution_count": 37,
   "metadata": {
    "colab": {
     "base_uri": "https://localhost:8080/",
     "height": 618
    },
    "id": "sdduwBoimX16",
    "outputId": "0eb78e28-0b7d-4bde-da77-d663aade5935"
   },
   "outputs": [
    {
     "data": {
      "text/plain": [
       "<Axes: >"
      ]
     },
     "execution_count": 37,
     "metadata": {},
     "output_type": "execute_result"
    },
    {
     "data": {
      "image/png": "[encoded data removed]",
      "text/plain": [
       "<Figure size 2500x1000 with 2 Axes>"
      ]
     },
     "metadata": {},
     "output_type": "display_data"
    }
   ],
   "source": [
    "# Memvisualisasikan keberadaan nilai Null\n",
    "missingdata_df = dataset.columns[dataset.isnull().any()].tolist()\n",
    "missingno.matrix(dataset[missingdata_df])"
   ]
  },
  {
   "cell_type": "code",
   "execution_count": 38,
   "metadata": {
    "id": "cQnKXQOjwocb",
    "outputId": "0d9eae64-3547-4587-ed72-b200aeae1a64"
   },
   "outputs": [
    {
     "data": {
      "text/plain": [
       "<Axes: >"
      ]
     },
     "execution_count": 38,
     "metadata": {},
     "output_type": "execute_result"
    },
    {
     "data": {
      "image/png": "[encoded data removed]",
      "text/plain": [
       "<Figure size 2500x1000 with 2 Axes>"
      ]
     },
     "metadata": {},
     "output_type": "display_data"
    }
   ],
   "source": [
    "missingno.matrix(dataset)"
   ]
  },
  {
   "cell_type": "markdown",
   "metadata": {
    "id": "mvnkBSqRwocb"
   },
   "source": [
    "<h4>⬇ <b style=\"color:orange;\">Instruksi</b>: Ubah \"<b style=\"color:yellow;\">[fix_me]</b>\" dengan code yang benar!</h4>"
   ]
  },
  {
   "cell_type": "code",
   "execution_count": 39,
   "metadata": {
    "id": "nv17qYkmm4sP"
   },
   "outputs": [],
   "source": [
    "# diiskan jawaban masing-masing\n",
    "median_value = dataset['Bare_nuclei'].median()\n",
    "dataset['Bare_nuclei'] = dataset['Bare_nuclei'].fillna(median_value)"
   ]
  },
  {
   "cell_type": "markdown",
   "metadata": {
    "id": "fVDavu4nwocc"
   },
   "source": [
    "<h4>⬇ <b style=\"color:orange;\">Instruksi</b>: Isi <i style=\"color:yellow;font-weight:bold;\">code-cell</i> berikut agar menghasilkan <b style=\"color:tomato;\">output</b> yang sesuai!</h4>"
   ]
  },
  {
   "cell_type": "code",
   "execution_count": 40,
   "metadata": {
    "id": "7-7ttEbsnrcw"
   },
   "outputs": [
    {
     "data": {
      "text/plain": [
       "Clump_thickness                0\n",
       "Uniformity_of_cell_size        0\n",
       "Uniformity_of_cell_shape       0\n",
       "Marginal_adhesion              0\n",
       "Single_epithelial_cell_size    0\n",
       "Bare_nuclei                    0\n",
       "Bland_chromatin                0\n",
       "Normal_nucleoli                0\n",
       "Mitoses                        0\n",
       "Class                          0\n",
       "dtype: int64"
      ]
     },
     "execution_count": 40,
     "metadata": {},
     "output_type": "execute_result"
    }
   ],
   "source": [
    "# Hitung ulang nilai Null pada dataset\n",
    "dataset.isnull().sum()"
   ]
  },
  {
   "cell_type": "markdown",
   "metadata": {
    "id": "arUBkGkAwocd"
   },
   "source": [
    "<h4>⬆ <b>Expected <span style=\"color:tomato;\">Output</span></b>:</h4>\n",
    "\n",
    "<img src=\"https://lh3.googleusercontent.com/fife/ALs6j_He8KqchFpZQANU69dk9arFjOOEV3f_UNkDUHshGJZn3Td1fUdTLxnfBjwHng6rvlLcyrCcB6c367nc-Gl9ZJZOS6BMseS1KxK-k8C64HBXqTg_FlZjMG7UZdpPlXrhwZ5Hflp4mCRnglDarNktKIvT8XHsrfEERXvKdwVzcbXWV41T4sr8c49cvxFo-0ZEbsJM9tdS8XAEu_zJy5uOfpBmZn5snFrhfAjWVQZ9hut93EUMEdgD1Z8Ay9sVu8dRIZLqRMm27phSRcQjC9bW__2sKjwKpUq33Pb0cP2iF2aHBuPTBhFiFe4m76NstqabGsWm3A3QINsTPk7RtYmKHo9TA7qqfnQNyop616rk0jdDY5JJrQBWQd0FJdDDtULf70iXPSouj_md6ZjYfeG9Ja59jcAGK05QrcVKQfCu0Kmjped1XnjdQL7U7g-bktb2BmxgSqu5N3YBAd_Hd7h_Db_bBW2IHnJmotih8v-fr52VvvFdqQk4rWZKaVYUl6xaEqwiiqPhfgh61zhjI3cXigfTYEBiLKdhwvqmM-g3u9HZDcjvkRfuWXK75MZ62HQMdm-z8Kx7vBpDKG-qQ7115l643_24yjgqzVLgaVR9lSCVCt2T9M01NcJqhIWt8-MKzQS-kALPXhKK0zSW319isN0oSEQFpQklIVDhHTDnZ068dkCWHVilU2s62ZotlLo3Gedob7wV3eRU90c18o9B67nG1tor9OyO81-5LXbr_lQaT0XYcHQjVWt2vzkwRqcolV9fKezJXqOc2_6jvCHjB84YIDmOgrI4i0Wwz-JRKsHbZq7X9725j_rJgCRWEe8goSetWbObu4KUlAqjSilofQGBo8Yk4qCIrqITgs4LL21UBxgNC86ZR9IJxiB0kOCYUzBivpoMzkPrSDYGCpkmFTrKiyttvZAHvK0xfkR7rTwvbrjz2wSvSWitj25IP0Jzsw_JmISsgHMUid6SyIpax45j0eJ8fhFUZ_LBHZJy9al6pnaSqcMsKhbKyWRFPpMMMPlQrL8GMJcx-i3ppxeyDBbYnqG2hPFPg2rih9k4fNIF2-zePn47WVjPvmHYja2hp58I1AXIajLGkF9SkLbI9a2zFpIoisBKE_MKrIsyC_alIg-8BaABIHDSFJXkGTXGivAD07f7-8ojbi5iABKB6BxDXn6GCc74gB81xvd8QzLTQbYY-rMoPtIkFbjeqPpmvYf-4HjOee9b8a4BZVFTQr1GuND7wbPRD4O5g_-fqh-9nZm5rgDB43qH8j_qyyRuB94MiNZwo2qGiErMrxOeaUb4MkS26TrI0MH1OQDTlHyj4pLaFt8AGseUxkzbB5zl7ex0lM2vm952tDzMvEzbuRNCcYy0uMNE-1u0qc8_mIAsa7N1jNYIVd0srbznSqEPazXcijLPsljuRB1drkZOk1U9iUaK49iCEKPUZ06ymGBf_b2NOXoxHVoj9e28Msi0cHd50-vnwsySlRhlCcTGcc9reMn4AVSfLISyiDnnvuGNlBMQom5q5OOBIPnE1wzhDs8OGcRRiJW7It3BaYsVtVh2GyymzJIuYMw3xnIDBMqrL3f4yVzz17gsAkmseoJr2LaLUnZRQ8LDo_twcSTOnDVE3ao32hqpGuk47QybUFwhsamVTKEF-17_hS5Mf1aY2-KYaqRWc6BvHgNubbEox15wNbPOjNX_DqxK7Ekc0m43hZQP5--3oTMdoVHX6rfx17ulF_Qif2Y9ELhhBA6wlTNsDD05WJECS9a2Miuzy9RV407ojlIA_80pPtSMWFMjDkYIrZ6HSkEFVSql63b5MGTxus1KfZ0V4T6OV28=w1920-h936\" alt=\"img_11.png\" width=\"300\">"
   ]
  },
  {
   "cell_type": "code",
   "execution_count": 41,
   "metadata": {
    "colab": {
     "base_uri": "https://localhost:8080/",
     "height": 461
    },
    "id": "zHac-TQNpFxX",
    "outputId": "ca4ed7bf-bb2f-437b-dbc0-7b1d4c476166"
   },
   "outputs": [
    {
     "name": "stdout",
     "output_type": "stream",
     "text": [
      "All Duplicate Rows:\n"
     ]
    },
    {
     "data": {
      "text/html": [
       "<div>\n",
       "<style scoped>\n",
       "    .dataframe tbody tr th:only-of-type {\n",
       "        vertical-align: middle;\n",
       "    }\n",
       "\n",
       "    .dataframe tbody tr th {\n",
       "        vertical-align: top;\n",
       "    }\n",
       "\n",
       "    .dataframe thead th {\n",
       "        text-align: right;\n",
       "    }\n",
       "</style>\n",
       "<table border=\"1\" class=\"dataframe\">\n",
       "  <thead>\n",
       "    <tr style=\"text-align: right;\">\n",
       "      <th></th>\n",
       "      <th>Clump_thickness</th>\n",
       "      <th>Uniformity_of_cell_size</th>\n",
       "      <th>Uniformity_of_cell_shape</th>\n",
       "      <th>Marginal_adhesion</th>\n",
       "      <th>Single_epithelial_cell_size</th>\n",
       "      <th>Bare_nuclei</th>\n",
       "      <th>Bland_chromatin</th>\n",
       "      <th>Normal_nucleoli</th>\n",
       "      <th>Mitoses</th>\n",
       "      <th>Class</th>\n",
       "    </tr>\n",
       "  </thead>\n",
       "  <tbody>\n",
       "    <tr>\n",
       "      <th>0</th>\n",
       "      <td>5</td>\n",
       "      <td>1</td>\n",
       "      <td>1</td>\n",
       "      <td>1</td>\n",
       "      <td>2</td>\n",
       "      <td>1.0</td>\n",
       "      <td>3</td>\n",
       "      <td>1</td>\n",
       "      <td>1</td>\n",
       "      <td>2</td>\n",
       "    </tr>\n",
       "    <tr>\n",
       "      <th>4</th>\n",
       "      <td>4</td>\n",
       "      <td>1</td>\n",
       "      <td>1</td>\n",
       "      <td>3</td>\n",
       "      <td>2</td>\n",
       "      <td>1.0</td>\n",
       "      <td>3</td>\n",
       "      <td>1</td>\n",
       "      <td>1</td>\n",
       "      <td>2</td>\n",
       "    </tr>\n",
       "    <tr>\n",
       "      <th>10</th>\n",
       "      <td>1</td>\n",
       "      <td>1</td>\n",
       "      <td>1</td>\n",
       "      <td>1</td>\n",
       "      <td>1</td>\n",
       "      <td>1.0</td>\n",
       "      <td>3</td>\n",
       "      <td>1</td>\n",
       "      <td>1</td>\n",
       "      <td>2</td>\n",
       "    </tr>\n",
       "    <tr>\n",
       "      <th>11</th>\n",
       "      <td>2</td>\n",
       "      <td>1</td>\n",
       "      <td>1</td>\n",
       "      <td>1</td>\n",
       "      <td>2</td>\n",
       "      <td>1.0</td>\n",
       "      <td>2</td>\n",
       "      <td>1</td>\n",
       "      <td>1</td>\n",
       "      <td>2</td>\n",
       "    </tr>\n",
       "    <tr>\n",
       "      <th>16</th>\n",
       "      <td>4</td>\n",
       "      <td>1</td>\n",
       "      <td>1</td>\n",
       "      <td>1</td>\n",
       "      <td>2</td>\n",
       "      <td>1.0</td>\n",
       "      <td>2</td>\n",
       "      <td>1</td>\n",
       "      <td>1</td>\n",
       "      <td>2</td>\n",
       "    </tr>\n",
       "    <tr>\n",
       "      <th>...</th>\n",
       "      <td>...</td>\n",
       "      <td>...</td>\n",
       "      <td>...</td>\n",
       "      <td>...</td>\n",
       "      <td>...</td>\n",
       "      <td>...</td>\n",
       "      <td>...</td>\n",
       "      <td>...</td>\n",
       "      <td>...</td>\n",
       "      <td>...</td>\n",
       "    </tr>\n",
       "    <tr>\n",
       "      <th>686</th>\n",
       "      <td>1</td>\n",
       "      <td>1</td>\n",
       "      <td>1</td>\n",
       "      <td>1</td>\n",
       "      <td>2</td>\n",
       "      <td>1.0</td>\n",
       "      <td>1</td>\n",
       "      <td>1</td>\n",
       "      <td>1</td>\n",
       "      <td>2</td>\n",
       "    </tr>\n",
       "    <tr>\n",
       "      <th>688</th>\n",
       "      <td>4</td>\n",
       "      <td>1</td>\n",
       "      <td>1</td>\n",
       "      <td>1</td>\n",
       "      <td>2</td>\n",
       "      <td>1.0</td>\n",
       "      <td>1</td>\n",
       "      <td>1</td>\n",
       "      <td>1</td>\n",
       "      <td>2</td>\n",
       "    </tr>\n",
       "    <tr>\n",
       "      <th>690</th>\n",
       "      <td>1</td>\n",
       "      <td>1</td>\n",
       "      <td>1</td>\n",
       "      <td>3</td>\n",
       "      <td>2</td>\n",
       "      <td>1.0</td>\n",
       "      <td>1</td>\n",
       "      <td>1</td>\n",
       "      <td>1</td>\n",
       "      <td>2</td>\n",
       "    </tr>\n",
       "    <tr>\n",
       "      <th>692</th>\n",
       "      <td>3</td>\n",
       "      <td>1</td>\n",
       "      <td>1</td>\n",
       "      <td>1</td>\n",
       "      <td>2</td>\n",
       "      <td>1.0</td>\n",
       "      <td>1</td>\n",
       "      <td>1</td>\n",
       "      <td>1</td>\n",
       "      <td>2</td>\n",
       "    </tr>\n",
       "    <tr>\n",
       "      <th>695</th>\n",
       "      <td>2</td>\n",
       "      <td>1</td>\n",
       "      <td>1</td>\n",
       "      <td>1</td>\n",
       "      <td>2</td>\n",
       "      <td>1.0</td>\n",
       "      <td>1</td>\n",
       "      <td>1</td>\n",
       "      <td>1</td>\n",
       "      <td>2</td>\n",
       "    </tr>\n",
       "  </tbody>\n",
       "</table>\n",
       "<p>288 rows × 10 columns</p>\n",
       "</div>"
      ],
      "text/plain": [
       "     Clump_thickness  Uniformity_of_cell_size  Uniformity_of_cell_shape  \\\n",
       "0                  5                        1                         1   \n",
       "4                  4                        1                         1   \n",
       "10                 1                        1                         1   \n",
       "11                 2                        1                         1   \n",
       "16                 4                        1                         1   \n",
       "..               ...                      ...                       ...   \n",
       "686                1                        1                         1   \n",
       "688                4                        1                         1   \n",
       "690                1                        1                         1   \n",
       "692                3                        1                         1   \n",
       "695                2                        1                         1   \n",
       "\n",
       "     Marginal_adhesion  Single_epithelial_cell_size  Bare_nuclei  \\\n",
       "0                    1                            2          1.0   \n",
       "4                    3                            2          1.0   \n",
       "10                   1                            1          1.0   \n",
       "11                   1                            2          1.0   \n",
       "16                   1                            2          1.0   \n",
       "..                 ...                          ...          ...   \n",
       "686                  1                            2          1.0   \n",
       "688                  1                            2          1.0   \n",
       "690                  3                            2          1.0   \n",
       "692                  1                            2          1.0   \n",
       "695                  1                            2          1.0   \n",
       "\n",
       "     Bland_chromatin  Normal_nucleoli  Mitoses  Class  \n",
       "0                  3                1        1      2  \n",
       "4                  3                1        1      2  \n",
       "10                 3                1        1      2  \n",
       "11                 2                1        1      2  \n",
       "16                 2                1        1      2  \n",
       "..               ...              ...      ...    ...  \n",
       "686                1                1        1      2  \n",
       "688                1                1        1      2  \n",
       "690                1                1        1      2  \n",
       "692                1                1        1      2  \n",
       "695                1                1        1      2  \n",
       "\n",
       "[288 rows x 10 columns]"
      ]
     },
     "execution_count": 41,
     "metadata": {},
     "output_type": "execute_result"
    }
   ],
   "source": [
    "# Menampilkan data duplikat\n",
    "print(\"All Duplicate Rows:\")\n",
    "dataset[dataset.duplicated(keep=False)]"
   ]
  },
  {
   "cell_type": "code",
   "execution_count": 42,
   "metadata": {
    "colab": {
     "base_uri": "https://localhost:8080/",
     "height": 90
    },
    "id": "CuX6n4iwpF4O",
    "outputId": "95a8c112-9dfe-4666-8564-3c8988818683"
   },
   "outputs": [
    {
     "name": "stdout",
     "output_type": "stream",
     "text": [
      "All Duplicate Rows:\n"
     ]
    },
    {
     "data": {
      "text/html": [
       "<div>\n",
       "<style scoped>\n",
       "    .dataframe tbody tr th:only-of-type {\n",
       "        vertical-align: middle;\n",
       "    }\n",
       "\n",
       "    .dataframe tbody tr th {\n",
       "        vertical-align: top;\n",
       "    }\n",
       "\n",
       "    .dataframe thead th {\n",
       "        text-align: right;\n",
       "    }\n",
       "</style>\n",
       "<table border=\"1\" class=\"dataframe\">\n",
       "  <thead>\n",
       "    <tr style=\"text-align: right;\">\n",
       "      <th></th>\n",
       "      <th>Clump_thickness</th>\n",
       "      <th>Uniformity_of_cell_size</th>\n",
       "      <th>Uniformity_of_cell_shape</th>\n",
       "      <th>Marginal_adhesion</th>\n",
       "      <th>Single_epithelial_cell_size</th>\n",
       "      <th>Bare_nuclei</th>\n",
       "      <th>Bland_chromatin</th>\n",
       "      <th>Normal_nucleoli</th>\n",
       "      <th>Mitoses</th>\n",
       "      <th>Class</th>\n",
       "    </tr>\n",
       "  </thead>\n",
       "  <tbody>\n",
       "  </tbody>\n",
       "</table>\n",
       "</div>"
      ],
      "text/plain": [
       "Empty DataFrame\n",
       "Columns: [Clump_thickness, Uniformity_of_cell_size, Uniformity_of_cell_shape, Marginal_adhesion, Single_epithelial_cell_size, Bare_nuclei, Bland_chromatin, Normal_nucleoli, Mitoses, Class]\n",
       "Index: []"
      ]
     },
     "execution_count": 42,
     "metadata": {},
     "output_type": "execute_result"
    }
   ],
   "source": [
    "# Menghapus data duplikat, menyimpan data dalam variabel dataClean\n",
    "dataClean = dataset.drop_duplicates()\n",
    "print(\"All Duplicate Rows:\")\n",
    "dataClean[dataClean.duplicated(keep=False)]"
   ]
  },
  {
   "cell_type": "code",
   "execution_count": 43,
   "metadata": {
    "colab": {
     "base_uri": "https://localhost:8080/"
    },
    "id": "yOBAXa1zrzpz",
    "outputId": "1abe8f07-b4b8-41b5-d088-5e6f501193c2"
   },
   "outputs": [
    {
     "name": "stdout",
     "output_type": "stream",
     "text": [
      "<class 'pandas.core.frame.DataFrame'>\n",
      "RangeIndex: 699 entries, 0 to 698\n",
      "Data columns (total 10 columns):\n",
      " #   Column                       Non-Null Count  Dtype  \n",
      "---  ------                       --------------  -----  \n",
      " 0   Clump_thickness              699 non-null    int64  \n",
      " 1   Uniformity_of_cell_size      699 non-null    int64  \n",
      " 2   Uniformity_of_cell_shape     699 non-null    int64  \n",
      " 3   Marginal_adhesion            699 non-null    int64  \n",
      " 4   Single_epithelial_cell_size  699 non-null    int64  \n",
      " 5   Bare_nuclei                  699 non-null    float64\n",
      " 6   Bland_chromatin              699 non-null    int64  \n",
      " 7   Normal_nucleoli              699 non-null    int64  \n",
      " 8   Mitoses                      699 non-null    int64  \n",
      " 9   Class                        699 non-null    int64  \n",
      "dtypes: float64(1), int64(9)\n",
      "memory usage: 54.7 KB\n"
     ]
    }
   ],
   "source": [
    "dataset.info()"
   ]
  },
  {
   "cell_type": "code",
   "execution_count": 44,
   "metadata": {
    "colab": {
     "base_uri": "https://localhost:8080/"
    },
    "id": "rj9mWcaFpF7M",
    "outputId": "54a33f70-a27d-4b01-b013-1964f43f66a0"
   },
   "outputs": [
    {
     "name": "stdout",
     "output_type": "stream",
     "text": [
      "<class 'pandas.core.frame.DataFrame'>\n",
      "Index: 457 entries, 0 to 698\n",
      "Data columns (total 10 columns):\n",
      " #   Column                       Non-Null Count  Dtype  \n",
      "---  ------                       --------------  -----  \n",
      " 0   Clump_thickness              457 non-null    int64  \n",
      " 1   Uniformity_of_cell_size      457 non-null    int64  \n",
      " 2   Uniformity_of_cell_shape     457 non-null    int64  \n",
      " 3   Marginal_adhesion            457 non-null    int64  \n",
      " 4   Single_epithelial_cell_size  457 non-null    int64  \n",
      " 5   Bare_nuclei                  457 non-null    float64\n",
      " 6   Bland_chromatin              457 non-null    int64  \n",
      " 7   Normal_nucleoli              457 non-null    int64  \n",
      " 8   Mitoses                      457 non-null    int64  \n",
      " 9   Class                        457 non-null    int64  \n",
      "dtypes: float64(1), int64(9)\n",
      "memory usage: 39.3 KB\n"
     ]
    }
   ],
   "source": [
    "dataClean.info()"
   ]
  },
  {
   "cell_type": "markdown",
   "metadata": {
    "id": "J9F9T1KFqdLi"
   },
   "source": [
    "<h4>Temuan:</h4><br>\n",
    "\n"
   ]
  },
  {
   "cell_type": "markdown",
   "metadata": {
    "id": "DgNuzCAlgTRa"
   },
   "source": [
    "## <b>6) Menkonstruksi Data</b> <a class=\"anchor\" id=\"h2\"></a>"
   ]
  },
  {
   "cell_type": "code",
   "execution_count": 45,
   "metadata": {
    "id": "MLP25d-XpGBS"
   },
   "outputs": [
    {
     "name": "stdout",
     "output_type": "stream",
     "text": [
      "Class\n",
      "4    238\n",
      "2    219\n",
      "Name: count, dtype: int64\n"
     ]
    }
   ],
   "source": [
    "print(dataClean['Class'].value_counts())"
   ]
  },
  {
   "cell_type": "markdown",
   "metadata": {
    "id": "9BglOc0Xwocf"
   },
   "source": [
    "<h4>⬇ <b style=\"color:orange;\">Instruksi</b>: Isi <i style=\"color:yellow;font-weight:bold;\">code-cell</i> berikut agar menghasilkan <b style=\"color:tomato;\">output</b> yang sesuai!</h4>"
   ]
  },
  {
   "cell_type": "code",
   "execution_count": 47,
   "metadata": {
    "id": "pwABEh5Awocg"
   },
   "outputs": [
    {
     "data": {
      "text/plain": [
       "Text(0.5, 1.02, 'Status pasien kanker payudara')"
      ]
     },
     "execution_count": 47,
     "metadata": {},
     "output_type": "execute_result"
    },
    {
     "data": {
      "image/png": "[encoded data removed]",
      "text/plain": [
       "<Figure size 700x600 with 1 Axes>"
      ]
     },
     "metadata": {},
     "output_type": "display_data"
    }
   ],
   "source": [
    "# Tampilkan bar-chart dari distribusi status pasien kanker payudara (atribut \"Class\")\n",
    "correlation=dataClean.corr()\n",
    "dataClean['Class'].value_counts().plot(kind='bar', figsize=(7, 6), rot=0)\n",
    "plt.xlabel(\"Status pasien kanker payudara\", labelpad=14)\n",
    "plt.ylabel(\"Jumlah\", labelpad=14)\n",
    "plt.title(\"Status pasien kanker payudara\", y=1.02)"
   ]
  },
  {
   "cell_type": "markdown",
   "metadata": {
    "id": "6gUVwVHfwocg"
   },
   "source": [
    "<h4>⬆ <b>Expected <span style=\"color:tomato;\">Output</span></b>:</h4>\n",
    "\n",
    "<img src=\"https://lh3.googleusercontent.com/fife/ALs6j_FYx2DJP51SfAhCfZiKkyOH4pMWLvUPZMktiDsYy3fRgw_LLBrCOc2A82lDRy1G5s_T3fxjCgQROfNPQGEWjk1Yfg64fKtTQXQw14wKEMY1Pqgy4HIriLDgJzBbRcDM7LBdxyayCAOqYuU7BGlCdMbhEb-N-UgyoGDxBwJyr2MAXVPkwvIV6PX4SO_m5aDMHz4V727P5uSB2v0FBk2JsRXn9eHLbq-dzO_7HMVNa-hpKbrNQ6D2yYeKtGzqP_wXY0fqRb8DFoGBZOVbzt_vKb0gFIgtqaMNGPAkW3jcxzrohZcvxai-JF2_jctKhu2PWVKGyyhrE0WOZ88384RWWTdksCksdyOLnf80do0CmYnTuSnjhAlKImEoYM1QV4uceoHUnra3-y2kIPuWC5oAE5dxU40Ijgaz81o49zVsGcbur67db5k-mibfS6B0rzIt7RkKd5p_bNgQ5c9Tl7rcjKXAu_XOkcJpIai902qXnxAN5GhvLtFlmj2ElGmfzv9Tld2Y1hefzT9ZsVjrQOxx811OqNfLGw2nWCHvT-d5wrVMycWJvboNNSC16LVXmPtlCPV4bWWNYKnS1J5MHWgOjvC0iZc7KxVxqxbzfVB1BCh4d0oq3CskY6uNpieOV9hyNUIRof7DDcFoepvVpCMmZ5BuA_k2ENXr61EUcTpsfjtSvQjO_5D8buVRpl9wMNbhM6o6i4pyBYawWT2nEuOfXICRe2ADjDQPiSPMdqpO3krDPSWUl2EfsL0m7inq4uSAVRHOw8y5fd0GxQzY1VCskhlLXKU7xrPHIwvSvQnFKsZUHkLMx2WVXgsFdm82f98l8-I5qlce0s4V5ua-8RdYlmW9UHzZ15UcMGxCw1Baq5SrdjC_cZrII0L-kMsLsdsnyqKp69j7dLtCB0VZZkx1ixLujoWGRfaI5_JGhN7-IpD2G7sMiVys2PhmdbCAcBYj2W79hQFSQga5H1zjslLcE_mwyjId5OeTgA4wRkFOmckp3tUBUZpAH1J1jQ3tJjXLtbU_s7qTIaCvMc2cC943m_32C1ClUD-Ma_qezIsVjJnOpAIPL2lMgwoX08pbd9KeIUL30-Wu8kZyFGsiFJB6EjgI-Pv0oNAFLtzapwOnT1CaexvbBkgDjwinx0vmULmDFVf47Px-meq6BE0kh6GjUcw-0t0QDCg9JkRYmHFbPgnXdFvehD932ZSNsWw1g4rL1UIGojiyn3-sOTPR-_uC8t0HdbYtrovECGV-zVOsPKdHE0PPytn40hcYWIdD1MKLLzMHIBU8Jq9RdSLS9tF4xIt7jrQwuBferarls9AZXgSPdJbxY1-EYVVqTsV7wlkIHb9VGcGIJbudBoIQP2YNgMVNZC7fKP-XMNfnY4d_wTEGF-tk3gUopzvGSh4m5nq9eYhF99u-3vWKSSXzWqceay6ogXaP9NvEa3jrUgaMhPAu7NYNNyV5g5gVesG5N4Zgkm0L-sPk4lweAce2bHXu2Vovf8SJZ_bQeeqW3gWTSQbYZaLufurmzVZyRImciXnUPyqjSEzEtCp48-D0Hsz3f7IqTTapGTIlnRY0Y7oJqYCScb98s3Ti1cMsisoMeBMer5bMUmQ2IEYqKrRf8Lvg1u1_Z9H00pMvbZjd5_pS76rHstBtJSymPBNY2lGQMSi0-FyPP9uWS_6MRcXiydsj2wnxwUuFuy6xFybw8CMKwZsWvNPO__DzHc3CqiHsXyeKn0lHUiruJ1rEpvxI3YWerTJD01v9-5B_gIBONumO6WwFXxUP9w4kyQWrf4RJF7vFsgk45SnyHvifj2I36dVKIBMRF_AeSMDu8FbsZtko=w1920-h936\" alt=\"img_12.png\" width=\"600\">"
   ]
  },
  {
   "cell_type": "markdown",
   "metadata": {
    "id": "0wXaEQqAwocg"
   },
   "source": [
    "<h4>⬇ <b style=\"color:orange;\">Instruksi</b>: Ubah \"<b style=\"color:yellow;\">[fix_me]</b>\" dengan code yang benar!</h4>"
   ]
  },
  {
   "cell_type": "code",
   "execution_count": null,
   "metadata": {
    "id": "W-ZiYFtapF-F"
   },
   "outputs": [],
   "source": [
    "# Menampilkan Korelasi antar Fitur\n",
    "correlation = [fix_me]\n",
    "plt.figure(figsize=(12, 12))\n",
    "plt.title(\"Heatmap Korelasi antar Fitur\", y=1.02, fontdict={'size': 24})\n",
    "sns.heatmap(\n",
    "  correlation.round(2),\n",
    "  annot = True,\n",
    "  vmax = 1,\n",
    "  square = True,\n",
    "  cmap = 'RdYlGn_r'\n",
    ")\n",
    "\n",
    "plt.show()"
   ]
  },
  {
   "cell_type": "markdown",
   "metadata": {
    "id": "WpEbtHHcwoch"
   },
   "source": [
    "<h4>⬆ <b>Expected <span style=\"color:tomato;\">Output</span></b>:</h4>\n",
    "\n",
    "<img src=\"https://lh3.googleusercontent.com/fife/ALs6j_Et4Z_yOASpxJTSkRaH02O3_rmtenydQEbl0yeCVYA3YF08F_bv4hw5dTQmYYaJb_pFGl3p6g4cw3k4qFgJ9sErqvarMow4e5hfF5STEkmUNC5eEtMV1iziyUi6nmAOeFTvWqEJKWe3L-CcPPevSjs3wYHQ0Kh-ABud6H0e9Ks9YEkEJHWdy20bsljte8oF9hM14HeDzCZ-9xpH88aV6truJElszA0H2OKgnaQ_bdF94yHjUjs014cgAvKDgPsHAUn98C88QmjdQVyEw2c7P1_E76rzoYo4tACRxXOWN8-2QOxu5584y7AW3xCuQyMLmq5lb9BqoDuPQLJbYRnngIjtK1HbYpxBI8biJNJgUrUAXnuTDCKUE2dSIXvm8TOhmSfQ01-ojVU-CiN_bB1PkhdRw0UciyshL_n8-i05GwtoiRXZN06nlvsS1R_Hrhgv__3X-WlJ6HWuII8zvkxIuY7UrENZYYX5DB5f-4qQyPWzCEO7M36DMRdKzbNYKvszAUWrbNz_M-nb_8LFTqQg9PSN5zQlJ3pD0sDFaO585Mdj8ZWIMPy79O7E8VvAn0vKAcQWnSIPFgMr3pEPEQSLmzKW1-R_mdksYvwNjhnPDBMzYu9BiBedvV2aayLJ4K-aI9YP9HcrbtoTm98rkhgcSuNtxegTtjn4ucApib2eDRGpfiA77IIiKgRTTxVqIENSYP9QsGQX01KEFeOzDE0blhqgoOCWsShuHKudOZ1m9XKedkb-OpPREDiwBRcOpv1CabsUaqJZhaPgIFvAIbukuVw8AziTLNLPSazfVUcJebuo2FLx5Qp6sLZCJC4LdmckIu9smLRfq4Xdgvw-LaaPVqO4neo8IBtnTvKPgmvQfu0fyrSvBHkJvLfDGxlOkHOOtByRx0gKtdGDkcN8Q6mGmlmSoLE4m9ziDTbFoOtKcsPiffzSZSl_wLWqFRqvcajzKOjBZLWRFWigdLuT70gxm3l81NEgarWrr2VcYv6iTqSOpLQ2gzKkP2clERuPOqOdVmBRSBijNVfy3C3SP4XxklDu6xpkO8i8dmZ_cnXFcQH8_1RLACPjQs6iAOIsd3gFQI0oRfrpqetNM5SdVJWn7M-OobXErTWv_8LxF9fqFtHr9YHkLRrXgt2Qjlk_sAnhIwNB7CsiwoBMdA7EX9VayGcwmyEo3ZuUgaBrPmyXMfSGxz_lrWQi9uZTHvx_YqXo9smBslCJlGqaqzayAfQM4L73LA5Md4ay5lZ09njD0FfdBFRIqW0QfsBB9tOaIyOiQFmrQdPdWhKVdBIjp_5xvQJgVimLWysH9uRaEpqeKy7rC1m_VH-zBHmSUI-Jg_mNIAg3pkq6TdPo1odYDYRrd_yA7lilDFUieNPr76CTxWWvk5JclBxhq0wMdMdTkX8LZoNN6EZNTTi4mYJ-23QmLb6xHdgJzF4Q7bsyS9YhDEmd558KpML7KK5NC4ImwQ8pR4D_JCyELtRgV4U_qQJQ-BwP7-yZcnVM8d36oIs-H9VSftqtIlNx1p2qeuWyPburYJzrto2IjKpoKKooa_FTFeTn2MfcLlgBslMjkA9a8hh_3uBd5jDpBPGswkhnV7d8nfusE5J8pkuLLct4Fx3FxItCiO_nqGZEJy2KbrK9-YYnJ2sCqA38eZNvNW3SFpveik0Pk9_-erB49auHWTIIRWTmkW-kgtCEdup1_Ptq-fP5sr1Qrjinp9hgwuD1xPHOn3bwTk_hgdtxR9uLvoNXCh__c7w5Iz3_es0qB2Qhp_hTqh8SfMFc-SBZCQ3r2-DWqf-KtVKdpq9nKibsVRLSZ9HP2cTegeZMRo-DYvw=w1920-h936\" alt=\"img_13.png\" width=\"800\">"
   ]
  },
  {
   "cell_type": "code",
   "execution_count": null,
   "metadata": {
    "colab": {
     "base_uri": "https://localhost:8080/",
     "height": 685
    },
    "id": "G1adgjTss807",
    "outputId": "89e800c1-6fec-418a-b8c5-ba959e5e33c2"
   },
   "outputs": [
    {
     "data": {
      "image/png": "[encoded data removed]",
      "text/plain": [
       "<Figure size 2000x2000 with 30 Axes>"
      ]
     },
     "metadata": {},
     "output_type": "display_data"
    }
   ],
   "source": [
    "# Menampilkan Boxplot untuk melihat adanya Outlayer\n",
    "ax = dataClean.plot(\n",
    "  kind='box',\n",
    "  subplots=True,\n",
    "  layout=(5, 6),\n",
    "  sharex=False,\n",
    "  figsize=(20, 20),\n",
    "  title='figure 1: Data distributions of all features'\n",
    ")\n",
    "\n",
    "plt.show()"
   ]
  },
  {
   "cell_type": "markdown",
   "metadata": {
    "id": "L0ceUzhqwoch"
   },
   "source": [
    "<h4>⬇ <b style=\"color:yellow;\">BONUS STAGE 2 <span style=\"color:tomato;\">(Challange)</span></b>:\n",
    "<br><br>\n",
    "Buatlah <b style=\"color:orange;\">Box-plot</b> dengan dasar <b style=\"color:yellow;\">target-attribute (Class)</b> untuk setiap fitur/atribut seperti contoh di-bawah!</h4>"
   ]
  },
  {
   "cell_type": "code",
   "execution_count": null,
   "metadata": {
    "id": "KhusNJX_woci"
   },
   "outputs": [],
   "source": [
    "# Tampilkan Box-plot dengan dasar target-attribute (Class) untuk setiap fitur/atribut\n"
   ]
  },
  {
   "cell_type": "markdown",
   "metadata": {
    "id": "9kFbIQXCwoci"
   },
   "source": [
    "<h4>⬆ <b>Expected <span style=\"color:tomato;\">Output</span></b>:</h4>\n",
    "\n",
    "<img src=\"https://lh3.googleusercontent.com/fife/ALs6j_Gofsd0KuQX1C8e-e0VyLPjQSLCoGxPMtVKF52t2fVbbGqBgt0IGDTsJxVmeQ8gLn0BVvzDK-xXH3-hVF9zl1nSL6p5ExPv5d9zegGINQPHUBoGn3DIiF4vlVzZ0bFd3b3WaSrQzYUk9r-UOiYIwDXKT4LmZmFud_HL-YEOCc0m7-geAzknC8Jwu12H4mJyqlfXbxal6OY05M6kJ4TCs3vxV_DjIxH1AOT2i5J60CUU5f_JKa7khVFctvGG8uqcaWs9pEPXBCZglFXVhcs0P_6m1dzuXN7D9gRAQMmMmecl8dktI7C-MVhcx0sQauNZ3qdsz8JpPxRncL_ciB5Mcfx2je1K6T2nahAhKclivRYUH9RcoD5rMeAQPmLgfklmWN02-HG4nka-5LcqhRhimiSBdSpgLOzrGg2bE-it9X3m8GaXWJQ2YL08gLQdOvXbW8VG6lGnTyzg429IV_jbnP9_810g6GwU40LdEo3LiKXdL2cw5TN_bJ--Kh2V-nIxdN8CqpIFgVZs1hAgGm2gSby17Q4KFqcM09W_u7221jr3v8zffYJTlnG1-RF9QWN60oxHqxvsZGzVd8aLX9SY2Rfce_u1Ds1yR1_19QI0i7rG7u6sbO7knVnOuIGU_XWRxND8Fwpxy3z_4Iaj558zXGmJD9lCDt5jDwzNm2Jwa7DoOz1JyrRMSFqhzedgmJEymLDoR7kwBSZ6Hlz8lNshshHe9N1S8f8lsbHrgAg1cjj8e6M2fQaI7GisBr_4XIa-zFx_MS5eH4whnz5SNtDaN3EHrJJ81hxo8WllApocdjVHCDwEkrZSp3iGTb4QUrSo-NNfUZq3CQhLgO9WZAYqSWK3syk4DymTcUHQxACrr0jaUqpq0qQ5-DBQz3psDZ1i9Xsqb7TRfvOF9M2E7QkFAq78Y14TkTnx7u9RwWFDFvCMj73brdswvXdDyaNHAnJhubqlVpBMPkxtjpkST4tGS4YxBwSkUiNMivqxn9lYud_N0fQilOReVZ5sBYwL3-HiI_J16Qvaag_FUhqVY7EEvDzCd3Wo6--tJJey7bzoXc81ErrWzaLt1eUACu4rd1uDjcYlWV-dP7pEBrbGuLORtqvqXoc2nrJyjdFECSRCvLARwQv5cnhTSf0xIazAYVHzhxBnGNa4aFBcRrjmmDyKvBWDsGaI9ooaoZJsxm04FXsnezTKAjZtIrdORXln3ydVjTaaIwW3-e9MK49xiEmWRf5R-AgWAS20JFeHYqRc2Vj2OWnrIerswfVWrmHhTVERWmyVBu53X1FE7Mw8EJPP3L35Zr6dEaRvV57b6qJ_7cQDqTCu7UKiA8qK6sJ4vMEImz5XSAkGQzuFaEtdjXuf4zErMA7zx6lvY5waYUO9k56ki5Lby2gFOG5BJl5W5AVYq3odDSfzfQpoCpWZvbOBhwvmfQpvFlJXfn5q8lc2o0qKd9yHiaigCCq-uea5Byzzu1-JQjF7EJ8kekMtH7Iynzgx7b51ymcR_5qRSXxogb2tx24TcYmHvT7OO6ETvQB_LQEmhgcYmkj96tloBBPra8IijQPpcw0doLgbKDuquxMa1XRpyoXO0oyqm5kPPKNUdYhH14XYeZEepkHCa7mLnEu3UV0yZ3t5K_s84BrIg5MkjvhPBDxOlewfuLmx1mVturgbbh8IS0vAQ9G4OtC4C9FXfCr_Z-6gG7TZJZFGUmuYpiWKgeMvhadmiWv_x05xUlgrSDqFXkVd4_NqlBB-tapLc7GSN72MNaY3WYKEIa-fGyqUkUZbFceLPlBMff7xc6kM1rHeTvfvhGwJ-I_qSQzTI9DrSqPtREW0mcid=w1920-h936\" alt=\"img_14.png\" width=\"1000\">"
   ]
  },
  {
   "cell_type": "markdown",
   "metadata": {
    "id": "wY1tTSeewoci"
   },
   "source": [
    "<h4>⬇ <b style=\"color:orange;\">Instruksi</b>: Isi <i style=\"color:yellow;font-weight:bold;\">code-cell</i> berikut agar menghasilkan <b style=\"color:tomato;\">output</b> yang sesuai!</h4>"
   ]
  },
  {
   "cell_type": "code",
   "execution_count": null,
   "metadata": {
    "id": "-bxYIkp3s86n"
   },
   "outputs": [],
   "source": [
    "# Tampilkan deskripsi data yang sudah dibersihkan\n"
   ]
  },
  {
   "cell_type": "markdown",
   "metadata": {
    "id": "OCaPyFGzwocj"
   },
   "source": [
    "<h4>⬆ <b>Expected <span style=\"color:tomato;\">Output</span></b>:</h4>\n",
    "\n",
    "<img src=\"https://lh3.googleusercontent.com/fife/ALs6j_E8Xmr9EN_MEiCD7Zt2torMy-4gtKVWcb39_4YmKZAcAXcFwdMpvKzGA5tpl6h8ws7Cx65pLMrqDjus4zyf1I9WSpA_AKuRQAEIh-qa7M9KhCt8g-6ovly5HQOZa1or7luvJQlYm-J7SLHGjftzkGsaVAD5IpRrCwDSXYE38Dy7syfgUF33hhx6ICt6w2oT30wvmUoKRco_1BKSearUmZHoIpjbnR2q6hLYJXDM-oC6FwP9Yfvtf_Q1_4Jo2t1fcNmMPp2mdpESzoDsYvSx3cHdooZrFYc7NREN0lb3gK0-hU3YgB7SPm0qvsgjV8lY_CrpZz35_J1SVsA-V-o3V13Ofv3MNDqryxIf2iotjceVBqKFd6tYJhqWbduG8yF5U9rGUWr3ZN6gFcrzEblrw8JD3nqkm5K7zwXrh_KRb6WBeBqXrb7xmu1mstDxMIaIsRRYdQbsQbxo1Wq97cnCU-gWPMjQH6qqKARdDEvwMr7MU89jtVzdOlmLYa0caWsPYAYAanmn-8NfxaxKyel7921TcvWl1dkX-NsmxcA3bz1c7ucIoKXymWTN56bWo4RDCsOgKOVkeFW8EH7DMq_Py2_4rXjYGUsHp_AXDCRsyBWwW4qrwBLU77P3Py2mo8PNewSQXfQVVf6fIPw1F76iegG35UnHL6QczeYcz8qgXFPyY5nWKPZti4RTFNtdA7L0_JyThQeH4cZ552vIrYShDcx0rWN53XGiP7xt-0Dvb1sm25voNge67Pw4dUlS0-6r6s88zarejUl6Uei0E3X2nn1KM-izz_roFR_idFMYIcuqDA_FIbNrHZYG_IlrwvvplebtVmnFUyf4AKzGh0mCW6Z-2IgvQd4pkeHrFj8E_uEiFIVuqm6xZSt_o_eKjxknnYdr2hq5D-GJ1jvUDwKM00RqRAE0PCG_bZHiEfcnFNKx8eMNQfF3NhPowGczabCJLleiS1UjXdVFjgW1DcFRVCQSe-WVd33lihnpe2b5i4VACsGMZnqTjn3pU4eoSb-yQphNcKi3FHGckNhWo-BrWaait-WnzEEhvH7IxtCpfxLCIDysDmwvDlDYcnL4JSnTmLxo0bPzYZx2Cbe8RuDYXqnDTrUzU-FTiGqAceOdIVp8aIKGSt7i16lGwxZ9LqfvtRbDkf4tlCkUOXQ2t_xcHRVp3eee0dbwW7J4HhQWF4KGdyD82ozqJAVSrM8vJdXcOJ8hbYS4zj2AHhv0aGlaf_0MYI2R6WEw54e8aKUZDbg_7kfF9op675Z5UZ5sx6kWTdFe_wd_bUn2yCyAUgis09LdibfSNszSWOQXJQ22EoIpQuMIMhJ_GWcK2sTujrTW3y_vl0WBxoteFkFc1EVL1tDFVNEDu1F88sPTgY3XN1OykQk7MwFLzv42d5pzZxBU0RTTKLrhzpC_WDhR5tRHuEVTGZXg4EnCMuvDdOePT9JujMyODGzOdQTabmhngSEYjbTNE34aaCC29LJUeR3wX5YTPNQgV5bcRq6O51pG8Mx7bLmr8pj7Q_jtgt0cZEhHafIsZHmrLuCR4AZ1omBnGoyb8A6KfYPWbwAbij0dbjb9Cus_mswz6NR0SWar55h-bD2-BMidhYFjs5i6pG36E4bWm8ZU7LXAb3ZhrUxsg5WZtMIZZLsI-rRphNCCYoO4kj51PE4qOzRMWuikwoJBE-zJQ2iRDVGpJZUu2mILYIyxPeSrL6-x9SSxjFLDWTz9tTLU-0Il6dXRvnZgd-bfpxhVwgmrxGNJMlXt1ZTrJ0xsBnnXoheX7jsVWciSn4gGPLYntplVwPzfEqBgpdEFnZ9zxzWjUoD1LXvY11Na=w1920-h936\" alt=\"img_15.png\" width=\"1000\">"
   ]
  },
  {
   "cell_type": "code",
   "execution_count": null,
   "metadata": {
    "colab": {
     "base_uri": "https://localhost:8080/"
    },
    "id": "75xl_xOPvAlA",
    "outputId": "50e90130-934d-4851-cdfe-70b1dd165af5"
   },
   "outputs": [
    {
     "name": "stdout",
     "output_type": "stream",
     "text": [
      "<class 'pandas.core.frame.DataFrame'>\n",
      "Index: 457 entries, 0 to 698\n",
      "Data columns (total 10 columns):\n",
      " #   Column                       Non-Null Count  Dtype  \n",
      "---  ------                       --------------  -----  \n",
      " 0   Clump_thickness              457 non-null    int64  \n",
      " 1   Uniformity_of_cell_size      457 non-null    int64  \n",
      " 2   Uniformity_of_cell_shape     457 non-null    int64  \n",
      " 3   Marginal_adhesion            457 non-null    int64  \n",
      " 4   Single_epithelial_cell_size  457 non-null    int64  \n",
      " 5   Bare_nuclei                  457 non-null    float64\n",
      " 6   Bland_chromatin              457 non-null    int64  \n",
      " 7   Normal_nucleoli              457 non-null    int64  \n",
      " 8   Mitoses                      457 non-null    int64  \n",
      " 9   Class                        457 non-null    int64  \n",
      "dtypes: float64(1), int64(9)\n",
      "memory usage: 39.3 KB\n"
     ]
    }
   ],
   "source": [
    "dataClean.info()"
   ]
  },
  {
   "cell_type": "code",
   "execution_count": null,
   "metadata": {
    "colab": {
     "base_uri": "https://localhost:8080/",
     "height": 444
    },
    "id": "fx_up8CAvWvK",
    "outputId": "9233ea3d-a972-4516-9416-490e802c4ba9"
   },
   "outputs": [
    {
     "data": {
      "text/html": [
       "<div>\n",
       "<style scoped>\n",
       "    .dataframe tbody tr th:only-of-type {\n",
       "        vertical-align: middle;\n",
       "    }\n",
       "\n",
       "    .dataframe tbody tr th {\n",
       "        vertical-align: top;\n",
       "    }\n",
       "\n",
       "    .dataframe thead th {\n",
       "        text-align: right;\n",
       "    }\n",
       "</style>\n",
       "<table border=\"1\" class=\"dataframe\">\n",
       "  <thead>\n",
       "    <tr style=\"text-align: right;\">\n",
       "      <th></th>\n",
       "      <th>Clump_thickness</th>\n",
       "      <th>Uniformity_of_cell_size</th>\n",
       "      <th>Uniformity_of_cell_shape</th>\n",
       "      <th>Marginal_adhesion</th>\n",
       "      <th>Single_epithelial_cell_size</th>\n",
       "      <th>Bare_nuclei</th>\n",
       "      <th>Bland_chromatin</th>\n",
       "      <th>Normal_nucleoli</th>\n",
       "      <th>Mitoses</th>\n",
       "      <th>Class</th>\n",
       "    </tr>\n",
       "  </thead>\n",
       "  <tbody>\n",
       "    <tr>\n",
       "      <th>0</th>\n",
       "      <td>5</td>\n",
       "      <td>1</td>\n",
       "      <td>1</td>\n",
       "      <td>1</td>\n",
       "      <td>2</td>\n",
       "      <td>1.0</td>\n",
       "      <td>3</td>\n",
       "      <td>1</td>\n",
       "      <td>1</td>\n",
       "      <td>2</td>\n",
       "    </tr>\n",
       "    <tr>\n",
       "      <th>1</th>\n",
       "      <td>5</td>\n",
       "      <td>4</td>\n",
       "      <td>4</td>\n",
       "      <td>5</td>\n",
       "      <td>7</td>\n",
       "      <td>10.0</td>\n",
       "      <td>3</td>\n",
       "      <td>2</td>\n",
       "      <td>1</td>\n",
       "      <td>2</td>\n",
       "    </tr>\n",
       "    <tr>\n",
       "      <th>2</th>\n",
       "      <td>3</td>\n",
       "      <td>1</td>\n",
       "      <td>1</td>\n",
       "      <td>1</td>\n",
       "      <td>2</td>\n",
       "      <td>2.0</td>\n",
       "      <td>3</td>\n",
       "      <td>1</td>\n",
       "      <td>1</td>\n",
       "      <td>2</td>\n",
       "    </tr>\n",
       "    <tr>\n",
       "      <th>3</th>\n",
       "      <td>6</td>\n",
       "      <td>8</td>\n",
       "      <td>8</td>\n",
       "      <td>1</td>\n",
       "      <td>3</td>\n",
       "      <td>4.0</td>\n",
       "      <td>3</td>\n",
       "      <td>7</td>\n",
       "      <td>1</td>\n",
       "      <td>2</td>\n",
       "    </tr>\n",
       "    <tr>\n",
       "      <th>4</th>\n",
       "      <td>4</td>\n",
       "      <td>1</td>\n",
       "      <td>1</td>\n",
       "      <td>3</td>\n",
       "      <td>2</td>\n",
       "      <td>1.0</td>\n",
       "      <td>3</td>\n",
       "      <td>1</td>\n",
       "      <td>1</td>\n",
       "      <td>2</td>\n",
       "    </tr>\n",
       "    <tr>\n",
       "      <th>...</th>\n",
       "      <td>...</td>\n",
       "      <td>...</td>\n",
       "      <td>...</td>\n",
       "      <td>...</td>\n",
       "      <td>...</td>\n",
       "      <td>...</td>\n",
       "      <td>...</td>\n",
       "      <td>...</td>\n",
       "      <td>...</td>\n",
       "      <td>...</td>\n",
       "    </tr>\n",
       "    <tr>\n",
       "      <th>693</th>\n",
       "      <td>3</td>\n",
       "      <td>1</td>\n",
       "      <td>1</td>\n",
       "      <td>1</td>\n",
       "      <td>2</td>\n",
       "      <td>1.0</td>\n",
       "      <td>2</td>\n",
       "      <td>1</td>\n",
       "      <td>2</td>\n",
       "      <td>2</td>\n",
       "    </tr>\n",
       "    <tr>\n",
       "      <th>694</th>\n",
       "      <td>3</td>\n",
       "      <td>1</td>\n",
       "      <td>1</td>\n",
       "      <td>1</td>\n",
       "      <td>3</td>\n",
       "      <td>2.0</td>\n",
       "      <td>1</td>\n",
       "      <td>1</td>\n",
       "      <td>1</td>\n",
       "      <td>2</td>\n",
       "    </tr>\n",
       "    <tr>\n",
       "      <th>696</th>\n",
       "      <td>5</td>\n",
       "      <td>10</td>\n",
       "      <td>10</td>\n",
       "      <td>3</td>\n",
       "      <td>7</td>\n",
       "      <td>3.0</td>\n",
       "      <td>8</td>\n",
       "      <td>10</td>\n",
       "      <td>2</td>\n",
       "      <td>4</td>\n",
       "    </tr>\n",
       "    <tr>\n",
       "      <th>697</th>\n",
       "      <td>4</td>\n",
       "      <td>8</td>\n",
       "      <td>6</td>\n",
       "      <td>4</td>\n",
       "      <td>3</td>\n",
       "      <td>4.0</td>\n",
       "      <td>10</td>\n",
       "      <td>6</td>\n",
       "      <td>1</td>\n",
       "      <td>4</td>\n",
       "    </tr>\n",
       "    <tr>\n",
       "      <th>698</th>\n",
       "      <td>4</td>\n",
       "      <td>8</td>\n",
       "      <td>8</td>\n",
       "      <td>5</td>\n",
       "      <td>4</td>\n",
       "      <td>5.0</td>\n",
       "      <td>10</td>\n",
       "      <td>4</td>\n",
       "      <td>1</td>\n",
       "      <td>4</td>\n",
       "    </tr>\n",
       "  </tbody>\n",
       "</table>\n",
       "<p>457 rows × 10 columns</p>\n",
       "</div>"
      ],
      "text/plain": [
       "     Clump_thickness  Uniformity_of_cell_size  Uniformity_of_cell_shape  \\\n",
       "0                  5                        1                         1   \n",
       "1                  5                        4                         4   \n",
       "2                  3                        1                         1   \n",
       "3                  6                        8                         8   \n",
       "4                  4                        1                         1   \n",
       "..               ...                      ...                       ...   \n",
       "693                3                        1                         1   \n",
       "694                3                        1                         1   \n",
       "696                5                       10                        10   \n",
       "697                4                        8                         6   \n",
       "698                4                        8                         8   \n",
       "\n",
       "     Marginal_adhesion  Single_epithelial_cell_size  Bare_nuclei  \\\n",
       "0                    1                            2          1.0   \n",
       "1                    5                            7         10.0   \n",
       "2                    1                            2          2.0   \n",
       "3                    1                            3          4.0   \n",
       "4                    3                            2          1.0   \n",
       "..                 ...                          ...          ...   \n",
       "693                  1                            2          1.0   \n",
       "694                  1                            3          2.0   \n",
       "696                  3                            7          3.0   \n",
       "697                  4                            3          4.0   \n",
       "698                  5                            4          5.0   \n",
       "\n",
       "     Bland_chromatin  Normal_nucleoli  Mitoses  Class  \n",
       "0                  3                1        1      2  \n",
       "1                  3                2        1      2  \n",
       "2                  3                1        1      2  \n",
       "3                  3                7        1      2  \n",
       "4                  3                1        1      2  \n",
       "..               ...              ...      ...    ...  \n",
       "693                2                1        2      2  \n",
       "694                1                1        1      2  \n",
       "696                8               10        2      4  \n",
       "697               10                6        1      4  \n",
       "698               10                4        1      4  \n",
       "\n",
       "[457 rows x 10 columns]"
      ]
     },
     "execution_count": 45,
     "metadata": {},
     "output_type": "execute_result"
    }
   ],
   "source": [
    "dataClean"
   ]
  },
  {
   "cell_type": "markdown",
   "metadata": {
    "id": "ZN2dsNIlKpUG"
   },
   "source": [
    "<h4>\n",
    "  ###<b style=\"color:yellow;\">Essay 3</b>\n",
    "  <br>\n",
    "  Deskripsikan Temuan Anda disini:\n",
    "</h4><br>\n",
    "\n"
   ]
  },
  {
   "cell_type": "markdown",
   "metadata": {
    "id": "XqfO1V9qgTwu"
   },
   "source": [
    "## <b>7) Menentukan Label Data</b> <a class=\"anchor\" id=\"h7\"></a>"
   ]
  },
  {
   "cell_type": "code",
   "execution_count": null,
   "metadata": {
    "id": "lCpDIzn_s9B9"
   },
   "outputs": [],
   "source": [
    "from sklearn.model_selection import train_test_split"
   ]
  },
  {
   "cell_type": "code",
   "execution_count": null,
   "metadata": {
    "id": "yIaWs40Ys9IN"
   },
   "outputs": [],
   "source": [
    "X_norm = dataClean.drop('Class', axis=1).values\n",
    "y = dataClean['Class']"
   ]
  },
  {
   "cell_type": "markdown",
   "metadata": {
    "id": "LCbLYyaxwocl"
   },
   "source": [
    "<h4>⬇ <b style=\"color:orange;\">Instruksi</b>: Ubah \"<b style=\"color:yellow;\">[fix_me]</b>\" dengan code yang benar!</h4>"
   ]
  },
  {
   "cell_type": "code",
   "execution_count": null,
   "metadata": {
    "id": "VAAjs9teL3s_"
   },
   "outputs": [],
   "source": [
    "# perbandingan data training dan data testing adalah 70 : 30\n",
    "[fix_me] = train_test_split(X_norm, y, test_size=0.3, random_state=42)"
   ]
  },
  {
   "cell_type": "markdown",
   "metadata": {
    "id": "27FXrfwZgT6T"
   },
   "source": [
    "## <b>8) Membangun Model</b> <a class=\"anchor\" id=\"h8\"></a>"
   ]
  },
  {
   "cell_type": "code",
   "execution_count": null,
   "metadata": {
    "id": "cxBiPnuYMsfN"
   },
   "outputs": [],
   "source": [
    "# import library pemodelan yang digunakan\n",
    "from sklearn.naive_bayes import GaussianNB\n",
    "from sklearn.tree import DecisionTreeClassifier\n",
    "from sklearn.ensemble import RandomForestClassifier\n",
    "\n",
    "import matplotlib.pyplot as plt"
   ]
  },
  {
   "cell_type": "markdown",
   "metadata": {
    "id": "z5Ru7Msewocl"
   },
   "source": [
    "<h4>⬇ <b style=\"color:orange;\">Instruksi</b>: Ubah \"<b style=\"color:yellow;\">[fix_me]</b>\" dengan code yang benar!</h4>"
   ]
  },
  {
   "cell_type": "code",
   "execution_count": null,
   "metadata": {
    "colab": {
     "base_uri": "https://localhost:8080/",
     "height": 75
    },
    "id": "8EpNWcz4A5PM",
    "outputId": "3c12ff2b-eb21-421b-bc05-d5dfdb0ec286"
   },
   "outputs": [
    {
     "data": {
      "text/html": [
       "<style>#sk-container-id-1 {color: black;}#sk-container-id-1 pre{padding: 0;}#sk-container-id-1 div.sk-toggleable {background-color: white;}#sk-container-id-1 label.sk-toggleable__label {cursor: pointer;display: block;width: 100%;margin-bottom: 0;padding: 0.3em;box-sizing: border-box;text-align: center;}#sk-container-id-1 label.sk-toggleable__label-arrow:before {content: \"▸\";float: left;margin-right: 0.25em;color: #696969;}#sk-container-id-1 label.sk-toggleable__label-arrow:hover:before {color: black;}#sk-container-id-1 div.sk-estimator:hover label.sk-toggleable__label-arrow:before {color: black;}#sk-container-id-1 div.sk-toggleable__content {max-height: 0;max-width: 0;overflow: hidden;text-align: left;background-color: #f0f8ff;}#sk-container-id-1 div.sk-toggleable__content pre {margin: 0.2em;color: black;border-radius: 0.25em;background-color: #f0f8ff;}#sk-container-id-1 input.sk-toggleable__control:checked~div.sk-toggleable__content {max-height: 200px;max-width: 100%;overflow: auto;}#sk-container-id-1 input.sk-toggleable__control:checked~label.sk-toggleable__label-arrow:before {content: \"▾\";}#sk-container-id-1 div.sk-estimator input.sk-toggleable__control:checked~label.sk-toggleable__label {background-color: #d4ebff;}#sk-container-id-1 div.sk-label input.sk-toggleable__control:checked~label.sk-toggleable__label {background-color: #d4ebff;}#sk-container-id-1 input.sk-hidden--visually {border: 0;clip: rect(1px 1px 1px 1px);clip: rect(1px, 1px, 1px, 1px);height: 1px;margin: -1px;overflow: hidden;padding: 0;position: absolute;width: 1px;}#sk-container-id-1 div.sk-estimator {font-family: monospace;background-color: #f0f8ff;border: 1px dotted black;border-radius: 0.25em;box-sizing: border-box;margin-bottom: 0.5em;}#sk-container-id-1 div.sk-estimator:hover {background-color: #d4ebff;}#sk-container-id-1 div.sk-parallel-item::after {content: \"\";width: 100%;border-bottom: 1px solid gray;flex-grow: 1;}#sk-container-id-1 div.sk-label:hover label.sk-toggleable__label {background-color: #d4ebff;}#sk-container-id-1 div.sk-serial::before {content: \"\";position: absolute;border-left: 1px solid gray;box-sizing: border-box;top: 0;bottom: 0;left: 50%;z-index: 0;}#sk-container-id-1 div.sk-serial {display: flex;flex-direction: column;align-items: center;background-color: white;padding-right: 0.2em;padding-left: 0.2em;position: relative;}#sk-container-id-1 div.sk-item {position: relative;z-index: 1;}#sk-container-id-1 div.sk-parallel {display: flex;align-items: stretch;justify-content: center;background-color: white;position: relative;}#sk-container-id-1 div.sk-item::before, #sk-container-id-1 div.sk-parallel-item::before {content: \"\";position: absolute;border-left: 1px solid gray;box-sizing: border-box;top: 0;bottom: 0;left: 50%;z-index: -1;}#sk-container-id-1 div.sk-parallel-item {display: flex;flex-direction: column;z-index: 1;position: relative;background-color: white;}#sk-container-id-1 div.sk-parallel-item:first-child::after {align-self: flex-end;width: 50%;}#sk-container-id-1 div.sk-parallel-item:last-child::after {align-self: flex-start;width: 50%;}#sk-container-id-1 div.sk-parallel-item:only-child::after {width: 0;}#sk-container-id-1 div.sk-dashed-wrapped {border: 1px dashed gray;margin: 0 0.4em 0.5em 0.4em;box-sizing: border-box;padding-bottom: 0.4em;background-color: white;}#sk-container-id-1 div.sk-label label {font-family: monospace;font-weight: bold;display: inline-block;line-height: 1.2em;}#sk-container-id-1 div.sk-label-container {text-align: center;}#sk-container-id-1 div.sk-container {/* jupyter's `normalize.less` sets `[hidden] { display: none; }` but bootstrap.min.css set `[hidden] { display: none !important; }` so we also need the `!important` here to be able to override the default hidden behavior on the sphinx rendered scikit-learn.org. See: https://github.com/scikit-learn/scikit-learn/issues/21755 */display: inline-block !important;position: relative;}#sk-container-id-1 div.sk-text-repr-fallback {display: none;}</style><div id=\"sk-container-id-1\" class=\"sk-top-container\"><div class=\"sk-text-repr-fallback\"><pre>GaussianNB()</pre><b>In a Jupyter environment, please rerun this cell to show the HTML representation or trust the notebook. <br />On GitHub, the HTML representation is unable to render, please try loading this page with nbviewer.org.</b></div><div class=\"sk-container\" hidden><div class=\"sk-item\"><div class=\"sk-estimator sk-toggleable\"><input class=\"sk-toggleable__control sk-hidden--visually\" id=\"sk-estimator-id-1\" type=\"checkbox\" checked><label for=\"sk-estimator-id-1\" class=\"sk-toggleable__label sk-toggleable__label-arrow\">GaussianNB</label><div class=\"sk-toggleable__content\"><pre>GaussianNB()</pre></div></div></div></div></div>"
      ],
      "text/plain": [
       "GaussianNB()"
      ]
     },
     "execution_count": 50,
     "metadata": {},
     "output_type": "execute_result"
    }
   ],
   "source": [
    "clean_classifier_nb = GaussianNB()\n",
    "clean_classifier_nb.fit([fix_me])"
   ]
  },
  {
   "cell_type": "markdown",
   "metadata": {
    "id": "AEi7C8MQg5VV"
   },
   "source": [
    "## <b>9) Mengevaluasi Hasil Pemodelan</b> <a class=\"anchor\" id=\"h9\"></a>"
   ]
  },
  {
   "cell_type": "code",
   "execution_count": null,
   "metadata": {
    "id": "QKnkdqRKUxGb"
   },
   "outputs": [],
   "source": [
    "from sklearn.metrics import classification_report\n",
    "from sklearn.metrics import accuracy_score, recall_score, f1_score, precision_score, roc_auc_score, confusion_matrix, precision_score"
   ]
  },
  {
   "cell_type": "code",
   "execution_count": null,
   "metadata": {
    "id": "_yFyriefE_Ij"
   },
   "outputs": [],
   "source": [
    "def evaluation(Y_test, Y_pred):\n",
    "  acc = accuracy_score(Y_test, Y_pred)\n",
    "  rcl = recall_score(Y_test, Y_pred, average='weighted')\n",
    "  f1 = f1_score(Y_test, Y_pred, average='weighted')\n",
    "  ps = precision_score(Y_test, Y_pred, average='weighted')\n",
    "\n",
    "  metric_dict = {\n",
    "    'accuracy': round(acc, 3),\n",
    "    'recall': round(rcl, 3),\n",
    "    'F1 score': round(f1, 3),\n",
    "    'Precision score': round(ps, 3)\n",
    "  }\n",
    "\n",
    "  return print(metric_dict)"
   ]
  },
  {
   "cell_type": "markdown",
   "metadata": {
    "id": "CEv_bMntwocn"
   },
   "source": [
    "<h4>⬇ <b style=\"color:orange;\">Instruksi</b>: Ubah \"<b style=\"color:yellow;\">[fix_me]</b>\" dengan code yang benar!</h4>"
   ]
  },
  {
   "cell_type": "code",
   "execution_count": null,
   "metadata": {
    "id": "Y0-a5HclBM8z"
   },
   "outputs": [],
   "source": [
    "y_pred_nb = clean_classifier_nb.predict([fix_me])\n",
    "\n",
    "# Evaluate the Gaussian NB model\n",
    "print(\"\\nGaussian NB Model:\")\n",
    "accuracy_nb = round(accuracy_score([fix_me], y_pred_nb), 3)\n",
    "print(\"Accuracy:\", accuracy_nb)\n",
    "print(\"Classification Report:\")\n",
    "print(classification_report([fix_me], y_pred_nb))"
   ]
  },
  {
   "cell_type": "markdown",
   "metadata": {
    "id": "3uH-SZNhwocn"
   },
   "source": [
    "<h4>⬆ <b>Expected <span style=\"color:tomato;\">Output</span></b>:</h4>\n",
    "\n",
    "<img src=\"https://lh3.googleusercontent.com/fife/ALs6j_ETWjYt5kk1ZyCFDpuMU6l7hJD-FLFtQik96MUb_W8AW8B_CeoFfIyk7b5uafDjrjjPzzsOqHnPRPfzY073JlZ_eGtTiG8LkrCmRbePm_4gzUVLsJp_-H4ZUXuMjz_56zdaXu7BYGegQq5z5ZPAjRKE2ncHdOefF1oJFjangUlv3jDcIgCA7ks3aenMqo6r60tLZjzHW7Jg9XGulJvSjx9jVuz1zz46DoxCC1aBrYwa5O2wSDltJKZqApvhIkYaa3g6pg53Si1j5llbKwRSAwx6Xuvvwxb3T5riWDNK3m6F6PVTH9GHNS168YdwQcZDXTVc0ymJRmrh2gHuT_6ib_f8qgyId8nkwahCP4M0g0Qa5LlnZcw_jyggBnOtivBCg_tpiuaitWk4xZFtM1MpT_BwUepE6ZxOqAcurqf0aQs-AfTbCVUxX1qqrrUYQW3qPcBEBNstsfJfz9SYyZig34372lNcoTtGbJizOrnY5_78c8wauzcFfBFSmA6Sv8W72-INIYdQYMkRoRPt4dvmNLjr8L3BN6cPqnVsCNNhieBXaNSzeVK0zepVkZkfbuVnxpAuGsn--c_Z6FnYdLL6PCWYqfS_f0NNqNq38W534B5UnI4SBkNhmjzAZxcTCwbFFSYXdYjEjf2ydmy7W0JwInuseuCqsGRt7QV0JfmxW7naXt6_xtMm52g_gK90uU1PO61oNcNg68tRwXpqX2XLjcRpcimAAALz-jxfluTZZ7NJxlX_tZ05dO9em_fiZ9xhh7Z2UvZILm7Tg166vAsnaMjP55nlg38rwXBejRWI8AHX3KeFtO-5LE1HNQFgvRA2SiulRFG3iZQcEfSONVlgsRbhspsD4i3N0YZyfGob6aPxtrOcaEWiKrUxxgOWG7UnjHgSZwjZnnTisr1MoJSWSjij8RyCHAF91yy_KJNgr-OKwSYlOFCyKCYL49FsWS05wjNKsfD_SRrK38z2ReJmUq3A_VReZm375DmDO5E2WtT37Arpezyhscl3z1lhtAvvr12uVP65SFFj5FxgMc2W_8_s3dogFdJgNPFv6sJoj6rDhDOWjgjYOoNJqGBJ5xmmIvdAX306XwuKMfjo4cc3nF07V0JAkWP-ZYj6RPjvt4FtURXM6CjPSppDIdcemo4VRm0mmsCMV2a9ELw9UjNIT7OgHlyzbq6XURaOxzXzo8fslwBLWmr2yiBfqkBH388RXM07mPfPW2qv95tVNDHIhGoddTEiRqHz9Kd-dHtVHSAGBCj2IgdjLxnEfpjuoEOM7VsbUfJGvrjO5wjmYum1vx62I_iDdOVaMoS4dOHWQKJytTdNyVctvyXRpl7bMScTQMNvl9O6dSDFENKqwS0M8U5mz2CODn5XHbezIw1hsrp56tZDWFf7ppjVGoK9ycDcRKM-9qudmoJS3cWajcXo6G1kLht5c1KcJo7k8gH98OcJyCm9wgaim9OKr9_D4Jq_1eA7gOwYsTT3cLW-s72-TsRD4z5iichqrMi4HCXl_kmbnQ0Xd6hiezlkXolnthDzhfGF6Ui16rfgoyLH_4DjtV-enJ0CBTp5cxSRooHDvaPmrDS_t5cBBqPRGfDLi7OEmoH8afdX8St-zjUxSqPxLmCet-17ErTO50WH0fybfGpamQhBYut2ka06FWZGbRNUPLcBFMO5VhjKsyizyaCQxV-vrqhYhtfDeJza60GT5epa2Rn-D-_tgvpHNDhn--2qjrlZRiyP34dvf1spXyCX1paGKx8QpPl13-HGbVREPmBNfcmNm0hL4o5uJ_XhMIQRNLawD4Tb4oZMAVZDeHUTk6kqBKH8QZcCXGbaT3ot=w1920-h936\" alt=\"img_16.png\" width=\"400\">"
   ]
  },
  {
   "cell_type": "markdown",
   "metadata": {
    "id": "iw0TYAO2wocn"
   },
   "source": [
    "<h4>⬇ <b style=\"color:orange;\">Instruksi</b>: Ubah \"<b style=\"color:yellow;\">[fix_me]</b>\" dengan code yang benar!</h4>"
   ]
  },
  {
   "cell_type": "code",
   "execution_count": null,
   "metadata": {
    "id": "EMnFZduREiH6"
   },
   "outputs": [],
   "source": [
    "# Tampilkan evaluasi dari model Gaussian NB menggunakan fungsi evaluation() yang ada pada 2 cell diatas\n",
    "evaluation([fix_me])"
   ]
  },
  {
   "cell_type": "markdown",
   "metadata": {
    "id": "ydhZF_eswoco"
   },
   "source": [
    "<h4>⬆ <b>Expected <span style=\"color:tomato;\">Output</span></b>:</h4>\n",
    "\n",
    "<img src=\"https://lh3.googleusercontent.com/fife/ALs6j_EoJE4TfV_jxEjwqVFRLdVRFPaYytKeHD1_QnRM7a2E9R6uN99-Bk-Vnh2DT3t2d9HNI3vf4ug0Y_mz5H5EKNL1fnoiUmGUUSxkfBe8s-HFAWg4052qTIECiPg6ib7HZCwdXe7y1OqlzmTShO_pMHM46xsH_McC7wP6MeB0XxlUFuMVyBIVAHzRwnNk1-X1Lohr-i8zNBfcKYiTsgFY41Z5XwTt-KNIuimSxFFimsb-zAYn6Oy0xO8vIWUVFKXDulk1WckqYvLLVU8oyAyP5Mtms4L7yIz6SPTnN__gBFHpVOz-z21JqiQHT8SIWN_--Oem4ZmgWIL4e_0ebpHqr4Ha9pAIrSBmFpXtilSbWR5AQI66JIaW5YnNMP0-FiA5lkQVm5VHyaDCQlPLuISYeIFYhVGQiSwHhbazMG8W4cs3z_a3aCg_V6FKS8cWgXMsaQNYOjS6mBGzCs1JOCguGTBbUd_mQKXdDNZE6auqhRCbN9KT_Skgl-bEf9HQF88TylD3TsSayNxonb-xdjxgdSUyPjaG_r5q2o8yt2K0yrhWCXrb1IR9mZpSKNr-79iNG7jlNb4Mz__EClgfVTwJ-zXy6vRwYZgCYS9UuFVriHLCd4mvN3kb0cSyGE8vrPSwT1irkuxRg91Hn913KWKSxptLCm3_UD-8rABd0eHV8LwSop3Nicd782BStaL5QgcUDf0Y1gIL8i2ANa6YDElarxDkzunowsiJRrKv10ZTzbFeSP7ILml0oOEC8QK1Az4BnVG9TS4DDSmATiUQtH-LKK7tdBAKYe1BJ72Fz4lWpHoyeZElJmFqKS0v8B3AdLnpDQarmNAjdXvYsCIOgWWu_IDDwr07zprAxBIqYmpRu6HXxvtDjEOnmuJxb2R1ww16iLxvHwgR7pfSjEWS7AGhPWjn0mQFA0ApNg_oGIuUpi1_X_kiBS1_CwftLes_4zA60QPesq8R6JdkpYIYanqIyNXh6YzpNoMGnT1fBWvZDywhBPY1PA_z8yGn3J_tcMJ0T26l4APXE2DX_MSEpg-_CPNOnSbBSjpvuBHTlbk_xIqOpwFq5p9Yy93fJMW-CDbQ0ZapksF0Ke9W8XES4E-thxARp-kt3UUxEPgiT_NTUiFSUwb02iPWXu42DUWl87YHa-DogKQRfWI1iyt5L4f9TVmAHei6tZM2gHcc-3BYW5TFDHVeKNdatXRxRg4Gvx17e7Z9RekWCZY9upQqjz3Qzzc9VgnK8AMxJil1yjUbCqGgZ3OCGHDVzSXfNSUcEuY5gIj48q7xu7rQfU4IIapB8X9mUwmlH6WdV4wwXjmHToChMtryUcg9rDXBGnAakYUaWoCH-PWFn41AppxqsUyQbnf9DM4cbI0YAcAro2OFiqTt5EYgq1QQ9J2cA03BJIHD5apjF6vF8iP7S05aA86eRxUODSbCzgBEET4PDorSEkoJ0aJ-W5rO2PjTNwOsYYXyHz4IlipPNyYLhN_99drN4dG_9kQc1MEEmMozgovsUeI6wOcUNSktkx3EHbnPbhNTI3BkUP8m2CNAyfmVq9p7DI7M4RDIJU9n3pJcRpKOdxx5yUpapmgPwIHgEep0PJxjTeUBMIuCG6zA3ynsG63xdMpO_3_PJH7teyXUNZ_qNC_D7pK39SMrPh3MZOF4SyVFG3MP3y0HCVRzn2hz8wmjsydjpySuC4PIJIICmUVX8H0MT2wmKcKmPb06FqTCMxF1dHmwlw4QIaYtpaDeRpY28O9nbXqZ9g3HkUPKuM5_ZrBwv6FFC3bbyR2UCrOyvxVEmoCBronSWZew8q4kN3cvSUg8Qvk1GMuXzMQJjqo=w1920-h936\" alt=\"img_17.png\" width=\"700\">"
   ]
  },
  {
   "cell_type": "markdown",
   "metadata": {
    "id": "xidJaYGvwoco"
   },
   "source": [
    "<h4>⬇ <b style=\"color:orange;\">Instruksi</b>: Buatlah <b style=\"color:yellow;\"><span style=\"color:tomato;\">2</span> pemodelan klasifikasi</b> lain! (contoh: Decision Tree, Random Forest, dll.) Serta tampilkan hasil <b style=\"color:yellow;\">evaluasi</b>nya! (accuracy_score(), classification_report(), evaluation())</h4>"
   ]
  },
  {
   "cell_type": "code",
   "execution_count": null,
   "metadata": {
    "id": "v4OHkRgJwoco"
   },
   "outputs": [],
   "source": [
    "# 1. Pemodelan klasifikasi 1 dan evaluasinya\n"
   ]
  },
  {
   "cell_type": "code",
   "execution_count": null,
   "metadata": {
    "id": "9tvG4b-Vwocp"
   },
   "outputs": [],
   "source": [
    "# 2. Pemodelan klasifikasi 2 dan evaluasinya\n"
   ]
  },
  {
   "cell_type": "markdown",
   "metadata": {
    "id": "sJlF8f-ewocp"
   },
   "source": [
    "<h4>⬇ <b style=\"color:orange;\">Instruksi</b>: Isi <i style=\"color:yellow;font-weight:bold;\">code-cell</i> berikut agar menghasilkan <b style=\"color:tomato;\">output</b> yang sesuai!</h4>"
   ]
  },
  {
   "cell_type": "code",
   "execution_count": null,
   "metadata": {
    "id": "AdD14hcXBu6V"
   },
   "outputs": [],
   "source": [
    "# Tampilkan bar-chart untuk membandingkan akurasi tiap model\n"
   ]
  },
  {
   "cell_type": "markdown",
   "metadata": {
    "id": "R5GzIiLFwocp"
   },
   "source": [
    "<h4>⬆ <b>Expected <span style=\"color:tomato;\">Output</span></b>:</h4>\n",
    "\n",
    "<img src=\"https://lh3.googleusercontent.com/fife/ALs6j_HVq0pIckkOumPjOXDG1QPTWQCASz6Bz2BEEPFG9unzcWj1Uf6spSXjXZLj3e-RaxMwZJOb4247lo0JhZOqUmsoUxC_U2gUCVOR0RJ-o_tF_1QOV0SWNnWN-zQ0TjMscdO0fj1FyzDfd_NSC5V_KoTOLnm_Lmv_45LMiJbEgwZLm1NZEKTDajysfwcyHVBwXUPY6cgfWO-mdXlsznKlAcbAMI3AOCoXI_RxW2OtF-Ggdzobob4nWF3ygIldUiATqGjj3QbL-eKKGv9Nk3I4cgAlvjVHQ_KOPyPQcybe-0loAuacn3vhR0nhFL1fBcg3hvZMW5QGw34tq7Bgq21jUha_k5Or9rOE5qXz9qIoYh81xz1ASMXSVhtfrhTP_wdKmCRfvgWkqWlufD-_9NTBJiuQiOlM9V8_2rw-mgM3KbCnEJWFKwYNVLwgWjtziW_UCzQcnyArX62Ov3jNMjr1NjzLEQcEC_M1Hz3XL7y1dMD8RkDjJ6POCwAyiIgvDh5ZoqGjgfGgMFa78qLbOOe_Wd-IzwGVfAUQqARxOlBlMluZd0s-T0ZynsZ_8gLGtBbAb53zpTEumnyX3EOomREr1XkjOdQbj0n3khZe9Kh5O-_xoPhcNYb-dx5YJOzYr5QoEP3X6ywxCBCqNnkzYPJ9ROP3HoawkS0-AhQXpdO3YcGQoZfUUPs2YvsRs0McHQThcwl6D3yPBTIj16HaSetSCpRsiInCxezNdUaQTbY4WDhofKml2MYFBRVvU_2GA_rRtlaiM6RcJ5sI-h-AO1cCAFHMxKMRycQ1CqYM0K5U9FllM3-4G8CFp2QVxJOUTsI4No_u4_uvNmmngv6K4qD8tishL2HCKs5J6kuLfF4YaVIRqJNB20cMArxSzTBROO8nfPH3B1scVYDGaTBXkiWf_XXezCq2aHLlXBVKGaG_fsAZEKz0_ytLAE49gylLIERhv_q86zwJLfreulouE52xG2TkLlL5RFkno_-tTRew_dZsZeWfeudna332-wIhHEs43TeVI1c447kGTMO_H2kgw7P3zfxTsQRDmjh_GQymva4ftLF61WWTEYBxJWVBZ_USvHsxP7TnsIM0X0kv9oHElQ73DcqY_y_ji0Wn3mPy3oC0wr-zG9sbfHSQXaVH0Q02M-17yPfLXCPpWMswuG5enR0Zw0B3jxauJgWvBzGvgMwMWzP6EzecSG2R2MsgcVQKCf8sN9TEq3znx17UTzP5svW2pR_vjajuRvW6HExZgH3JwoDiUlxPQJWaCyyF0ai-3-8NG8Cz0d-cpytjfMvdDUS6mjO7aSWy6WZmFEMEgFCdVVvtXTU4VgPImPl512DyCHKc7DdxXQ2lKVjqB2fH0twBCXwhN1GknuikOGj3g3LrnEtSaacYx2udJuQ_PiaYuLNwz-nRQw3LT3I_0huLEQbgmQ1XJvard8yH876SpVkiB9wu5CzHH9TPmFytVFsH3uUPm4xkH66GDCjQVSI9VIlQNOXgtXX7vdKYf_rUpLB35fMnuMkmhCNu7RECXp1YufZPXIpf6NIdWIjR1gVDwW9FFHVUaXM_JAMKF_lzuvx1dUpDKGRKs6VysHp9X6kf3rWUcSsWCax9s2KClVaJYu9GLznqKhzfqSScc-AcHddifbXVy5j3CKcTiTJaiTXgarxHB5f2WpmELTQHqEg3ZZ2mVuFiLh_MhTKSObhxF3qlh5QvhD0rhAgJ2BYZN5iFBGfvmMEIZsqSVPdKPyXiyPcZ_VhlYIOGLbmqf1PI5oVcOpZHwOaX8YaZu-m2DGSgiWk075rEe887lkje2XLOUrgOILRADSozhkEPvyA1=w1920-h936\" alt=\"img_18.png\" width=\"600\">"
   ]
  },
  {
   "cell_type": "markdown",
   "metadata": {
    "id": "LJHRgiKCiEBK"
   },
   "source": [
    "## <b>10) Optimasi Model Klasifikasi</b> <a class=\"anchor\" id=\"h10\"></a>"
   ]
  },
  {
   "cell_type": "markdown",
   "metadata": {
    "id": "R1M3X9Gnwocp"
   },
   "source": [
    "<h4>⬇ <b style=\"color:orange;\">Instruksi</b>: Ubah \"<b style=\"color:yellow;\">[fix_me]</b>\" dengan code yang benar!</h4>"
   ]
  },
  {
   "cell_type": "code",
   "execution_count": null,
   "metadata": {
    "id": "V7TSlh4mC59m"
   },
   "outputs": [],
   "source": [
    "# nilai confusion matrix untuk model dengan akurasi tertinggi\n",
    "cm = confusion_matrix([fix_me])\n",
    "\n",
    "plt.figure(figsize=(8, 6))\n",
    "sns.heatmap(cm, annot=True, fmt=\"d\", cmap=\"Blues\")\n",
    "plt.title('Confusion Matrix')\n",
    "plt.xlabel('True')\n",
    "plt.ylabel('Predict')\n",
    "plt.show()"
   ]
  },
  {
   "cell_type": "markdown",
   "metadata": {
    "id": "7uDsu7f-wocq"
   },
   "source": [
    "<h4>⬆ <b>Expected <span style=\"color:tomato;\">Output</span></b>:</h4>\n",
    "\n",
    "<img src=\"https://lh3.googleusercontent.com/fife/ALs6j_Hw3LWVCGVYVl7aGzbHOR6uve5MPh2tSOJXhP1-_3KXgWc2NcmDv_tX-zJplr72gj8PF7AV1zegzPt1z9c3pLQ1d-77CvrGJ65U30uowk77u9RZd4QOH5wB8poMg3sAesB81umKZpr-v1gLF50eHKzxXC2l0YlMjv9MDGSLHZOx8WqXKbpdNoMMtkkjeFwzu3lsVv5RE-ulnK558OG19rghZA0VY8LeJXUF2MHml2TaYROHbFtfeDHiQ6I02Es2GtjZC6HAK_wkVU1SfZuoNwa2onKdQBv2iyvR4dFsPy89ptadmWFl9iFQuzY1-OsxdsxU0SH1Q-4t9ZlQ5EdBYPPmaxnDORBhKfLITOZ-mdiV6znzua0hkPcsqubpGE9EOQ36TfRYdQ_QY2f42yLvrynbR8FS8zoWv8XdfQjurCPDb49JaoBcISfJl-xsECyU4YErC3x8RbsF8tXEtkOphv8mGfcoN1SzogL4NeVWisLVXuBTHjIasSYGrTQNeVWov00-pkH0rTBpWdF-m03lB0nSDlkVxDE-Tk4DaiDSPDB9Jf8uLVOObVU-KphhpKaw6j73IGsQQrEZc7TTTq4K_aR5MxjL-x5vaZNtBePZT1tjZXZFZMHPfHf0JprR5sN5chFIuk-UXwag6bLs87wZ2kJGCPTJIE1kaTQTMpgCu-C1GadD5ashI2vNSWlS3TeVpUwp0d44mszLlEkRi37EVSAvyiKR81pqVqNiAcpKN7RFKeR0SO_9DxUY1OQ7pf2iyAesG0qfKh_57lvTvwTqy833lji47Py1JL78_-melfM7iWJQwKSHze4US01Qo9oDA_9TDpkF2jfg7U6qVg1YqyJTpJSVaZI5Wp-IiRsySxuxZREw-EwsKETiPBGkO6W0KjsdODDmTrHIK8rxxLfn-Y1j8_pLRaJttyZm6b0J_7Nwv0btwcFqUAYRMn_uL1d9C1HWPYRwKlvqTf7qV7QywlosPGb0s20qX4319LCH50Aj5TddXio_TErPslaa4XBsmzAtA_iVl8Y7EKAGxvkJM3Ehl-N3FiKHEP-JnXNLJ_Os70aJfLDkFnLrQoigow50u0XQInL7f-jhI5dkMHxyZNRf_Tx1RdzHl4csvpNWCR97V6rEO76yCPuN0QQjWVCs5KCvi1GLTUdBt4yTbLfMbJh7l53uoRjfORQU5libp6ow-5ZPzxNPukU6UID5uMBVsRJRIyIKDzxj8JGF2j5Umd82wrtvfHrcDMyfGQcFl95SLOXRaVr9A8Gsk-q3xrSnVHW59K137Vmmt-pnYvM2pQUB24A0uQGZT7ko1DFB0fkhp28Rm1uy5y_EelXqlEtz_MdGbyr8pKSZld3qbES5EdfTMEadnpheOHhleTJfHtbPHqBmQ4vxLw780NzuOO28tpjqP_L0HJeV6QrtpHpQroIndxl9-oE29Ep3HQTeHZdoKx6bmU5o9UBm3Rd8AstQFTQtPZ_VVxFWh5FH88TOyXfv7ET1Wy1vK_PbDjLJ-d7vVWGCJZq_10dFG7oeIcOMIhqM5bQEQia3QLHgYk8oShXsUgyeWJeui7vd1_tDWgzsrArVKPESgdbrRIuLhoF-XdaHM9AQ7UgLYYMDFyyeLxCMO-OYvyP3GOHB2mFVQw9lkfHoGpvSXEcNoGYBosVgPvp6XkgUZWZn-xg9X0l4yuabOD-HNhHPoydJF_Ajd1wvCy-Y4LvL3t3obt4qEzU_v1ebyaCiQanP9E52dxYj27pOW74qfGGVvEJbgn8mYrfviDnX-L67lo75UHA3xZVwIlv4P0MN9faTWRhgC_D-WEaQUrrgvjUuulhdzB14=w1920-h936\" alt=\"img_19.png\" width=\"600\">"
   ]
  },
  {
   "cell_type": "code",
   "execution_count": null,
   "metadata": {
    "id": "O4W96KlYiRY7"
   },
   "outputs": [],
   "source": [
    "columns_to_drop = ['Mitoses', 'Class']\n",
    "X_selected= dataClean.drop(columns_to_drop, axis=1).values\n",
    "y = dataClean['Class']"
   ]
  },
  {
   "cell_type": "code",
   "execution_count": null,
   "metadata": {
    "id": "coQdn2eJic2T"
   },
   "outputs": [],
   "source": [
    "X_train_selected, X_test_selected, y_train_selected, y_test_selected = train_test_split(X_selected, y, test_size=0.3, random_state=42)"
   ]
  },
  {
   "cell_type": "code",
   "execution_count": null,
   "metadata": {
    "colab": {
     "base_uri": "https://localhost:8080/",
     "height": 75
    },
    "id": "86spPQNUihko",
    "outputId": "2c446dff-3167-46ae-c70c-457b1839cbac"
   },
   "outputs": [
    {
     "data": {
      "text/html": [
       "<style>#sk-container-id-4 {color: black;}#sk-container-id-4 pre{padding: 0;}#sk-container-id-4 div.sk-toggleable {background-color: white;}#sk-container-id-4 label.sk-toggleable__label {cursor: pointer;display: block;width: 100%;margin-bottom: 0;padding: 0.3em;box-sizing: border-box;text-align: center;}#sk-container-id-4 label.sk-toggleable__label-arrow:before {content: \"▸\";float: left;margin-right: 0.25em;color: #696969;}#sk-container-id-4 label.sk-toggleable__label-arrow:hover:before {color: black;}#sk-container-id-4 div.sk-estimator:hover label.sk-toggleable__label-arrow:before {color: black;}#sk-container-id-4 div.sk-toggleable__content {max-height: 0;max-width: 0;overflow: hidden;text-align: left;background-color: #f0f8ff;}#sk-container-id-4 div.sk-toggleable__content pre {margin: 0.2em;color: black;border-radius: 0.25em;background-color: #f0f8ff;}#sk-container-id-4 input.sk-toggleable__control:checked~div.sk-toggleable__content {max-height: 200px;max-width: 100%;overflow: auto;}#sk-container-id-4 input.sk-toggleable__control:checked~label.sk-toggleable__label-arrow:before {content: \"▾\";}#sk-container-id-4 div.sk-estimator input.sk-toggleable__control:checked~label.sk-toggleable__label {background-color: #d4ebff;}#sk-container-id-4 div.sk-label input.sk-toggleable__control:checked~label.sk-toggleable__label {background-color: #d4ebff;}#sk-container-id-4 input.sk-hidden--visually {border: 0;clip: rect(1px 1px 1px 1px);clip: rect(1px, 1px, 1px, 1px);height: 1px;margin: -1px;overflow: hidden;padding: 0;position: absolute;width: 1px;}#sk-container-id-4 div.sk-estimator {font-family: monospace;background-color: #f0f8ff;border: 1px dotted black;border-radius: 0.25em;box-sizing: border-box;margin-bottom: 0.5em;}#sk-container-id-4 div.sk-estimator:hover {background-color: #d4ebff;}#sk-container-id-4 div.sk-parallel-item::after {content: \"\";width: 100%;border-bottom: 1px solid gray;flex-grow: 1;}#sk-container-id-4 div.sk-label:hover label.sk-toggleable__label {background-color: #d4ebff;}#sk-container-id-4 div.sk-serial::before {content: \"\";position: absolute;border-left: 1px solid gray;box-sizing: border-box;top: 0;bottom: 0;left: 50%;z-index: 0;}#sk-container-id-4 div.sk-serial {display: flex;flex-direction: column;align-items: center;background-color: white;padding-right: 0.2em;padding-left: 0.2em;position: relative;}#sk-container-id-4 div.sk-item {position: relative;z-index: 1;}#sk-container-id-4 div.sk-parallel {display: flex;align-items: stretch;justify-content: center;background-color: white;position: relative;}#sk-container-id-4 div.sk-item::before, #sk-container-id-4 div.sk-parallel-item::before {content: \"\";position: absolute;border-left: 1px solid gray;box-sizing: border-box;top: 0;bottom: 0;left: 50%;z-index: -1;}#sk-container-id-4 div.sk-parallel-item {display: flex;flex-direction: column;z-index: 1;position: relative;background-color: white;}#sk-container-id-4 div.sk-parallel-item:first-child::after {align-self: flex-end;width: 50%;}#sk-container-id-4 div.sk-parallel-item:last-child::after {align-self: flex-start;width: 50%;}#sk-container-id-4 div.sk-parallel-item:only-child::after {width: 0;}#sk-container-id-4 div.sk-dashed-wrapped {border: 1px dashed gray;margin: 0 0.4em 0.5em 0.4em;box-sizing: border-box;padding-bottom: 0.4em;background-color: white;}#sk-container-id-4 div.sk-label label {font-family: monospace;font-weight: bold;display: inline-block;line-height: 1.2em;}#sk-container-id-4 div.sk-label-container {text-align: center;}#sk-container-id-4 div.sk-container {/* jupyter's `normalize.less` sets `[hidden] { display: none; }` but bootstrap.min.css set `[hidden] { display: none !important; }` so we also need the `!important` here to be able to override the default hidden behavior on the sphinx rendered scikit-learn.org. See: https://github.com/scikit-learn/scikit-learn/issues/21755 */display: inline-block !important;position: relative;}#sk-container-id-4 div.sk-text-repr-fallback {display: none;}</style><div id=\"sk-container-id-4\" class=\"sk-top-container\"><div class=\"sk-text-repr-fallback\"><pre>GaussianNB()</pre><b>In a Jupyter environment, please rerun this cell to show the HTML representation or trust the notebook. <br />On GitHub, the HTML representation is unable to render, please try loading this page with nbviewer.org.</b></div><div class=\"sk-container\" hidden><div class=\"sk-item\"><div class=\"sk-estimator sk-toggleable\"><input class=\"sk-toggleable__control sk-hidden--visually\" id=\"sk-estimator-id-4\" type=\"checkbox\" checked><label for=\"sk-estimator-id-4\" class=\"sk-toggleable__label sk-toggleable__label-arrow\">GaussianNB</label><div class=\"sk-toggleable__content\"><pre>GaussianNB()</pre></div></div></div></div></div>"
      ],
      "text/plain": [
       "GaussianNB()"
      ]
     },
     "execution_count": 65,
     "metadata": {},
     "output_type": "execute_result"
    }
   ],
   "source": [
    "selected_classifier_nb = GaussianNB()\n",
    "selected_classifier_nb.fit(X_train_selected, y_train_selected)"
   ]
  },
  {
   "cell_type": "markdown",
   "metadata": {
    "id": "lTw-pBdAwocr"
   },
   "source": [
    "<h4>⬇ <b style=\"color:orange;\">Instruksi</b>: Isi <i style=\"color:yellow;font-weight:bold;\">code-cell</i> berikut agar menghasilkan <b style=\"color:tomato;\">output</b> yang sesuai!</h4>"
   ]
  },
  {
   "cell_type": "code",
   "execution_count": null,
   "metadata": {
    "id": "U2MuAvzEVDAw"
   },
   "outputs": [],
   "source": [
    "# Tampilkan evaluasi dari model yang sudah dioptimasi\n"
   ]
  },
  {
   "cell_type": "markdown",
   "metadata": {
    "id": "PMwUNA8Kwocs"
   },
   "source": [
    "<h4>⬆ <b>Expected <span style=\"color:tomato;\">Output</span></b>:</h4>\n",
    "\n",
    "<img src=\"https://lh3.googleusercontent.com/fife/ALs6j_G16kCJFwSHAIzFe9_FHhpvwXbXAGwvByvnu-IvH9XRm6a7gx7ZWEZc-tu4XNaJ-pE_pxjQJQp6VryLEdjR6JHfp8EQf0KbJ8Qqf3iJ668Sy0l_a_EcSpDDx0J5vVBU3LQeeNJ0LFOG9ml4SEdgo3nNjBjiP5IPuy318FkH-jZcrU4uMGVhBp30LhxR64GOjqxYhPviSTgg71OtQR6ho1EZ9Jz7Ka4igjJjWKnO1vqgHudOG_MBQEGvFGNVlOL8IXOvOwvg4cKgZO0FehpU9DA93VxrcbJZS4HqQyiuJ2aRHjUvQsI_gD8oTARTA0h7vB233_A0PkOS9DfgXppebh2XP8ltvRIm2SD8f90Upmirt77QfS6qdRgKCg0gau9v1_09QAIN-WZQGPOeoEC-rWdPpZZvnQeAdLiR7YDDif7jO6ydeyGMrkublJweTaxQ1LXfqBLLEwlEsE0VlEZeVzOMLcrRHS7SBZM4nvavnM-yW_S__IWdTfYZzduCwOEZvFOtfwIhykGn0rj2XUSQGI6G9X1iUNfmcQ-AkwpuAxWd8kmcTfBA_XzfiTP42FwrrqwDT7f8Sgup7vzcIJqtK1C6XLkFBheXNDLuZRkbuQ1Y-kN70RkiYvCne7K1lHV-Va765FWrqY6VMB_8WLnbQ8zD0VBv2xDt9zXe8w2fKN4l9GM6UPOfdTk0vf7KTog8nPR-QkWYlrV8sc3B5W5uePTm_b4U0SSUJpknQF9s1GQCtS98dcWTAgcQalik3S9XC1OyiPO1UUgG5GJE8U7BHziqzW8d2RLYI7CFjJfz4OkZRUWiXX5dP2xMlYqSPVWRglYOYk3u5GI3gjtWgPnZ4It870cWqWDhIPQTT0M3GPr7S7xS209gmpKyTuak9BxnBf2J8c8w6qNm-evoD6d_2hs2mS_XXHQV-M9YHOoZfJRFJc7QPwFUKG6BeUT_ZI4e5OOeAIbKgeScnj_VpzOOSnZZM7_TevyAv61N8CHWBZIw2uvXMnGut0kW0R-Lu0SAuOrTYvziFJVtCOdOtMg4w-L27Ul9EqA1qWZNhJYmxUdNCWUn_Uz_Zt6DwCu2slvOiwANfZaYdW3rvnlyrjjhzmArR6etMwnkn9e86hVHX_qYJQscfKxlHUc-Y1Snr2W3hyoAldQ6ZyJiQlH_VVZ9RwBHk1mGg70ggzOjGz7sIGaOlTZQncG3RDMb645RbrPxqR_bv2sUjhYrB-4Qo2W96aiD9ptydwJPZKj7XZLIxG2FkFlvl_Ih0ix9nNkqZlhSKOgIqXhDYcbFb9QaoUJY4QgFnVI9SXs648rNu8dhQQ16zfmqp9-HH3N4WCr_tmkrAYAqSLFNknr1nn5Sb2LNjLBjVuNzE8mux6t7aeExm1xFJQNtCY8cVLXlFDnsM7FL06nJjyCIO5rGG2msPcwpfIVyUwxMwj8m456NiSjwqtAiDOpqjCQLuIlvfUc7mhCtosVFG7AEclKrUP4k6B5xgm69igkWpD0L9ikgL60fEE5g3LXyZOicCIjhCrLP5eNKgRGro7BNzsuHwYms55SNJJ3sNRFhlNXKswILtSabSdsNRj3_gTGrxON69Z61Vzxye26P35nmNKOcpwlsq_s0DP92iuWQIJhsGMe5KOPZ2RYK4yWaw9pRZI9cf4bQG_OhlE87x3jSNoLSdFHM-hFjBCkS6vhEYgz2T8_MvMkKmDzbwNtOoDrsfeUP0OkMprBSuAoWvk0qTVnZOZO6SndgN7F2L9Aow_c0RpXyQo4gZUGXC-nIU7_r8-Hv4QC-AnacaD2s9nj9xcKhOVDPyXALltOWLkss74wQlXZuolA=w1920-h936\" alt=\"img_20.png\" width=\"400\">"
   ]
  },
  {
   "cell_type": "markdown",
   "metadata": {
    "id": "ZuK_g7Sbwocs"
   },
   "source": [
    "<h4>⬇ <b style=\"color:orange;\">Instruksi</b>: Isi <i style=\"color:yellow;font-weight:bold;\">code-cell</i> berikut agar menghasilkan <b style=\"color:tomato;\">output</b> yang sesuai!</h4>"
   ]
  },
  {
   "cell_type": "code",
   "execution_count": null,
   "metadata": {
    "id": "yI0S9QUL25Ay"
   },
   "outputs": [],
   "source": [
    "# Tampilkan Confusion Matrix dari model yang sudah dioptimasi\n"
   ]
  },
  {
   "cell_type": "markdown",
   "metadata": {
    "id": "MINLFeswwoct"
   },
   "source": [
    "<h4>⬆ <b>Expected <span style=\"color:tomato;\">Output</span></b>:</h4>\n",
    "\n",
    "<img src=\"https://lh3.googleusercontent.com/fife/ALs6j_H1qNdI-qgHwamR0FVpWjvkW3MpPzLGz_lwZcuieL8XSvEybPGSK0Mz0tHyMhl0diMlwgJq78ja6PzOF1XHbnPpOVGX4b3kuyY-pc1Dz1pgrps4U255rl1gCCvIzdbqogcZCWTJRmI0oLsLVww6LyrjprX7ce6lBTWYkYHRpkkjynJ_o1dF2pjPA4qld3F6q0wQxzIkegpoBuwyFOvPGlqRNm5TzQx9_GvfXCyai9aD2FWLKrCp-6pvQUNRjMOpi6AS5b_3xHpsUglJn0YFN6xIcsvDKbf2pkYwv37u3Bto0lIVOjiul7MZdceao6vlfwXsOjPmHjOnekqj3qzDvHUplv8kvGril5HPFQGbgSqWTXu12vCtmSWT3rK8NxOg8aCrcTg5J012FU5a1JxFv4aU12jCjr610vDoAutRS0s2nB3u1Gm1gZW8FHF8uIS8xbaWdPdhRpdw-I98kuQK1FPPsrcyhn-xXFXjBihjJbKOdA0DLWpHmKBP6wB552Zzo77e5U46F6E2sp1CCA8GwmbwmtklPLkde-FDdMqAjl7aYifzDF7IajfP7FWhpKr5fGnoVoa-RW1QLa6F11dzn0gJjx4-QvJgAvqI1l3FK2pB5rmsGgYxph9RvdLB4Jl13YqV5tM8ExTw3xJp1ng9R4-AEkab1rbX_aBhiwF6jXHnu4Jl9aB3ZCYdj73_FwS6UV5PYzcQIJcdQ0BgpPehAQK97EKFCtleWB4XYFBUvE1-46Zp2R3PtT-iDN1Hx9UQTZyr4uly3LD3NVfxnlySm_mkN-4aVLtgLipWwY2wRJoTKZ4jvJpx90xRHH31ilYRlX88NB_nr6xqESKfEvW4sHu8E_AZGmpQKRzQBiVjKHH2l-sBbkW6DQ1Z69BGWsai_HB_0QI0xDh4CPitrN3Gc6a0CoTR0e6vOt5o7W-90TBNkCnZ2h4HFQLRioaE6SYWDsjlOqCAbpgW8qDhhrpLhqJf1B7WlA1fyPp7qRDurcrCEN_VSGkVj5v-IaQ2-Fxyz2VI-7KZxtYy6BnaYNuwbGefKJkrbtXqIXc81pigY8LIicPBYZWtf2dSA3fuOX6c3bmlnSwSiBm8bfk-BjBtFHd5bhPrFzNxNm7Nf1f5-kgpDVHivYourF9SZA77MAEcFYGQNb-CJ5WRDuPsLTvSNtDkaH6aUnwvfay56Fig7OxxAeAjrnq5oKqvGr0kYFcbX5k00-9Py1zpIUfQmSlXkxsuGKDzsjLRadVm6RCITgogrAGscmjKfyM-wrnrHw8Ueri_epLaXQVGIpNpxsvWrHqvI_mSnTbTMD8-Ghi7feVxDu7OW28aunhtPPRhNEtYa7AmiBPnyKS41nPfYpblAEwEcVzzG6dzZgWCzs0RLZw4JmqwU8aOjw_Uoz12MgwaVL5WMWqdbOkw2Xr6Rz5wM1vYjcEpFLkT2TSPdGO9QUSFSULvXNG0A62q8GmyEFwlOoMmnmPIxnkyI8SIiTEdh013AIVlSBc7k8D1KeLb3dDhH5ycWvkNNKViQyIWazN5t0-DczGfof2dzp6eyczjbx9NRL_z-gxOTPDlnZDKejvmw3wq3-kGHNTU1jmfLhvXOUQXyjp6ZY2l5gaX5gVYERLAeeiYZ6gwvhtfjCn8EU4kZ6FuU03zXEWNedeX-w3uSzmC1nKCwTDSrURkprkoVYJ6xT1-p7a6fe0y2o8ZcT_Ax5g0qcD0XbhRZmpt4ygZLc_ZsG9Z4QdDnT2eQ8kqMdZy03SN9zSVPFduT5nR44XwxM5Uq1nYuN23EI64cZu89q4sE-buU3Iu4Gu6Tm5EXgEtFWTcRjtu2PzLEMY=w1920-h936\" alt=\"img_21.png\" width=\"600\">"
   ]
  },
  {
   "cell_type": "markdown",
   "metadata": {
    "id": "-El1-LG5woct"
   },
   "source": [
    "<h4>⬇ <b style=\"color:orange;\">Instruksi</b>: Isi <i style=\"color:yellow;font-weight:bold;\">code-cell</i> berikut agar menghasilkan <b style=\"color:tomato;\">output</b> yang sesuai!</h4>"
   ]
  },
  {
   "cell_type": "code",
   "execution_count": null,
   "metadata": {
    "id": "LzLJZpc3FUup"
   },
   "outputs": [],
   "source": [
    "# Tampilkan bar-chart untuk membandingkan akurasi model sebelum dan setelah optimasi\n"
   ]
  },
  {
   "cell_type": "markdown",
   "metadata": {
    "id": "zD5mmktbwoct"
   },
   "source": [
    "<h4>⬆ <b>Expected <span style=\"color:tomato;\">Output</span></b>:</h4>\n",
    "\n",
    "<img src=\"https://lh3.googleusercontent.com/fife/ALs6j_GS99_yQ7Uk3ZNuByWchTgIcPg5fjMOdoqnz-5sNHILaqPJowuRimlzXVc1JUoLjsgViP9UEhG7J0POzjXfmVOHi9vswZqp0sAwO7ym7yZkXO8Qk-XHkPAfB2V3Q0oqTrBHquqBRQopryH0fkL4vhlgaMQBWHsagFGUM6IYgoM_2E4wHhTKirLVbeMt9GynS_My6nKaW3NQFBmA1s-YiC0gw-hnRZV5C1WybClvsUWyY5ktDdpeYNP2Bh2NoUcGCqujzYWooeLgHfY7EkL_5cQ7Z8gK8KwpCnwBd0fnX1k0Q2YmfSxc2urS3lf-hy-EifT2Z_sig2kIr7gszMS98ZYIKq3S_WYA_IkV7Oj3IZDWQ3VoFQkclKIgOYD6lPNQ7ZMsNJMoBAEAJWX5TxuNSmpCh7wvxrOOuxFhZsCdp4-aL1Y7utam5gy9gZb5yHTa7pLDhnMgZw8IQ05jm4jRwTo91s0E4P0TqT4Fpl6Ca2nix0PJHcopHptYnbTID2tKDRc_jxTB2Fg3xmkdUJ9mB2MA-EqpDbzDKjGtRwXG_pY5RnDjs4qnmZLFrNLV3ImpqjyFii81tqX20eyyCjrKErba_J_dW9jTzRQkbOJm4mqHcKb6skSCwDMSc9nO1z0-7deTQ8kWoZPIA-brNABcECHKlQNu6PyVI3qxcEp56wmspu8ii4o8-6mReshhLkXx6a_MBJXxnH6-kS2uGmhhWMTKJnJKKYLkDus0qf9k6utPL4CufIvBY6FgTI1UyJ4WJh39cng6_oQs7B0KnPGZxh0mlYIrWktsTTJABV5ne-6uirbXdrzfs2CAr-65f3D8Wu3uQ3JWyDHdKfbE1PQKNFpyrqCNrAcWJUWE0A9eAtzxmWxYOKVketGWai09nwjnoDLIHxjQsPsNkYB-RdYEY0IR6Hu4xMLtjyHICC3Be8fs_tjdHuS7Spl4UTipOdk8hSjHhl9daX-TQPi3coyEKHszT-8ETMu27-u-bgwnzgL9IX4eVIWGQ6bT0chvkzLuPluoykZd15ekbPXYgLTbeaFirpU5p_Zj8waGgfekP-6PxQrobvBF3-Xj5a3mQ8clm0W4Y9-SOdcZsv93bRcvmZo9MSaOJtFFc88zvq6sWsFayjCrA-XXr7A_oj4A0bytuqrB3zT2HdBNwpx6wH3hsh5AXrZv0_ZKbydtzYmZ6Sb8MOGC606hkLV00hhhNAWXvhxrK7f0vy7RAK57PGbjtVQ1IKXUqMb1fo_PVO8wFmNLCPCdSBPMypcJMDZ0gJxdQQevItKPETIOTilmk9KijMc1xbqr_nL0xaDOm-YX_azUFlwNjLHoQjhqyzIJmZNlMmXddQbFpvjVmyHqQrG7KszdFsmTQipAgJmBDWrEcjn9U4D4bunUA6VIB7esoRnyNhx7vNqyvDOIdlPWVS4JLx40gosIq_zIilOfd2bLYYFEGJbpIzz8XL0ZzsnheRrsVYI1yeGfoRdkMjeBkA6GdXF6N5MhaQQ4v9U9WnTVnccpDnYs6Kq5IWenkTlzFEVFzHOYDS8dWxlE7F9FqbCtkBHr77PS3CpKIcmCdAcX3Uyun8ioGIgM2unn5ZCYQJvJgsoKZt2AY1ew_p2Gz94PkouJUMlVtt7FSDZ1DxAXEXpaouv64jxwjxxabYGQLasLJ7eu3Es0bCX_WZ0Kt7CnqOl1OVYjiHHEB-4P0DqMbDVVMZsbXEXJvmNNTYiofH4ML4-xXlPhxAxDmrH0K5QeGyUXf2RnY2ctNsmy02fL-omy07ljiKd7PI8UhzVNirxM_sxDhz4fKj_gBKkuwydC07B9lfZNr6GBFZnWG65q=w1920-h936\" alt=\"img_22.png\" width=\"600\">"
   ]
  },
  {
   "cell_type": "markdown",
   "metadata": {
    "id": "vJLYcitEwocu"
   },
   "source": []
  }
 ],
 "metadata": {
  "colab": {
   "provenance": [
    {
     "file_id": "13HarijClC86eo1JCt6bCsOgnCEuxntBn",
     "timestamp": 1715569639579
    }
   ]
  },
  "kernelspec": {
   "display_name": "Python 3 (ipykernel)",
   "language": "python",
   "name": "python3"
  },
  "language_info": {
   "codemirror_mode": {
    "name": "ipython",
    "version": 3
   },
   "file_extension": ".py",
   "mimetype": "text/x-python",
   "name": "python",
   "nbconvert_exporter": "python",
   "pygments_lexer": "ipython3",
   "version": "3.11.7"
  }
 },
 "nbformat": 4,
 "nbformat_minor": 4
}
